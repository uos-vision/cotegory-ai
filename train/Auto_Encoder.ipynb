{
 "cells": [
  {
   "attachments": {},
   "cell_type": "markdown",
   "id": "fadc7574",
   "metadata": {},
   "source": [
    "# Auto Encoder"
   ]
  },
  {
   "attachments": {},
   "cell_type": "markdown",
   "id": "e83f5da7",
   "metadata": {},
   "source": [
    "## Import"
   ]
  },
  {
   "cell_type": "code",
   "execution_count": 1,
   "id": "4e63544a",
   "metadata": {},
   "outputs": [],
   "source": [
    "import torch\n",
    "from torch import nn\n",
    "import numpy as np\n",
    "from torch.utils.tensorboard import SummaryWriter\n",
    "from torch.utils.data import Dataset, DataLoader\n",
    "from torch.nn import functional as F\n",
    "import pandas as pd\n",
    "from tqdm import tqdm, trange\n",
    "import scipy.sparse as sp\n",
    "from sklearn.metrics import mean_squared_error\n",
    "from scipy import sparse\n",
    "import random\n",
    "import time\n",
    "import requests\n",
    "from bs4 import BeautifulSoup\n",
    "import bottleneck as bn"
   ]
  },
  {
   "attachments": {},
   "cell_type": "markdown",
   "id": "8514a2c2",
   "metadata": {},
   "source": [
    "## Config"
   ]
  },
  {
   "cell_type": "code",
   "execution_count": 17,
   "id": "0b0dfca9",
   "metadata": {},
   "outputs": [
    {
     "name": "stdout",
     "output_type": "stream",
     "text": [
      "Using cuda device\n"
     ]
    }
   ],
   "source": [
    "cfg = {\n",
    "    \"K\": 1024,\n",
    "    \"lr\" : 1e-4,\n",
    "    \"n_epochs\" : 120,\n",
    "    \"data_dir\" : \"./dataset\",\n",
    "    \"data_file\" : \"user_problem_mat.npz\",\n",
    "    \"batch_size\" : 64,\n",
    "    \"test_batch_size\" : 32,\n",
    "    \"test_ratio\" : 0.3,\n",
    "    \"topks\" : [10,20,50],\n",
    "    \"const\" : False,\n",
    "    \"model\" : \"auto_encoder\"\n",
    "}\n",
    "cfg[\"model_path\"] = f\"./saved_model/{cfg['model']}_K_{cfg['K']}_{'const' if cfg['const'] else ''}.pt\"\n",
    "cfg[\"device\"] = (\n",
    "    \"cuda\"\n",
    "    if torch.cuda.is_available()\n",
    "    else \"mps\"\n",
    "    if torch.backends.mps.is_available()\n",
    "    else \"cpu\"\n",
    ")\n",
    "print(f'Using {cfg[\"device\"]} device')"
   ]
  },
  {
   "attachments": {},
   "cell_type": "markdown",
   "id": "d22f8194",
   "metadata": {},
   "source": [
    "## Utils"
   ]
  },
  {
   "cell_type": "code",
   "execution_count": 3,
   "id": "b5f5f02a",
   "metadata": {},
   "outputs": [],
   "source": [
    "import gc\n",
    "\n",
    "def clear():\n",
    "    torch.cuda.empty_cache()\n",
    "    gc.collect()\n",
    "\n",
    "#########################################\n",
    "################# Test ##################\n",
    "#########################################\n",
    "\n",
    "def getLabel(test_data, pred_data):\n",
    "    r = []\n",
    "    for i in range(len(test_data)):\n",
    "        groundTrue = test_data[i]\n",
    "        predictTopK = pred_data[i]\n",
    "        pred = list(map(lambda x: x in groundTrue, predictTopK))\n",
    "        pred = np.array(pred).astype(\"float\")\n",
    "        r.append(pred)\n",
    "    return np.array(r).astype('float')\n",
    "\n",
    "def NDCGatK_r(test_data,r,k):\n",
    "    \"\"\"\n",
    "    Normalized Discounted Cumulative Gain\n",
    "    rel_i = 1 or 0, so 2^{rel_i} - 1 = 1 or 0\n",
    "    \"\"\"\n",
    "    assert len(r) == len(test_data)\n",
    "    pred_data = r[:, :k]\n",
    "\n",
    "    test_matrix = np.zeros((len(pred_data), k))\n",
    "    for i, items in enumerate(test_data):\n",
    "        length = k if k <= len(items) else len(items)\n",
    "        test_matrix[i, :length] = 1\n",
    "    max_r = test_matrix\n",
    "    idcg = np.sum(max_r * 1./np.log2(np.arange(2, k + 2)), axis=1)\n",
    "    dcg = pred_data*(1./np.log2(np.arange(2, k + 2)))\n",
    "    dcg = np.sum(dcg, axis=1)\n",
    "    idcg[idcg == 0.] = 1.\n",
    "    ndcg = dcg/idcg\n",
    "    ndcg[np.isnan(ndcg)] = 0.\n",
    "    return np.sum(ndcg)\n",
    "\n",
    "def RecallPrecision_ATk(test_data, r, k):\n",
    "    \"\"\"\n",
    "    test_data should be a list? cause users may have different amount of pos items. shape (test_batch, k)\n",
    "    pred_data : shape (test_batch, k) NOTE: pred_data should be pre-sorted\n",
    "    k : top-k\n",
    "    \"\"\"\n",
    "    right_pred = r[:, :k].sum(1)\n",
    "    precis_n = k\n",
    "    recall_n = np.array([len(test_data[i]) for i in range(len(test_data))])\n",
    "    recall = np.sum(right_pred/recall_n)\n",
    "    precis = np.sum(right_pred)/precis_n\n",
    "    return {'recall': recall, 'precision': precis}\n",
    "\n",
    "def test_one_batch(X, cfg):\n",
    "    sorted_items = X[0].numpy()\n",
    "    groundTrue = X[1]\n",
    "    r = getLabel(groundTrue, sorted_items)\n",
    "    pre, recall, ndcg = [], [], []\n",
    "    for k in cfg['topks']:\n",
    "        ret = RecallPrecision_ATk(groundTrue, r, k)\n",
    "        pre.append(ret['precision'])\n",
    "        recall.append(ret['recall'])\n",
    "        ndcg.append(NDCGatK_r(groundTrue,r,k))\n",
    "    return {'recall':np.array(recall), \n",
    "            'precision':np.array(pre), \n",
    "            'ndcg':np.array(ndcg)}\n",
    "\n",
    "headers = {\n",
    "    'User-Agent': 'Mozilla/5.0 (Windows NT 10.0; Win64; x64)AppleWebKit/537.36 (KHTML, like Gecko) Chrome/73.0.3683.86 Safari/537.36'}    \n",
    "    \n",
    "def add_to_user_problem_mat(idx, id, user_problem_mat : np.array):\n",
    "    data = requests.get(f'https://www.acmicpc.net/user/{id}', headers=headers)\n",
    "    soup = BeautifulSoup(data.text, 'html.parser')\n",
    "    trs = soup.select('div.problem-list')\n",
    "\n",
    "    for tr in trs:\n",
    "        problem_nums = tr.select('a')\n",
    "            \n",
    "        for problem_num in problem_nums :\n",
    "\n",
    "            problem_num = int(problem_num.text) - 1000\n",
    "            #print(problem_num)\n",
    "            try:\n",
    "                user_problem_mat[idx,problem_num] = 1\n",
    "            except:\n",
    "                print(\"범위를 벗어난 문제 번호 : \" + str(problem_num))\n",
    "\n",
    "def print_result(res):\n",
    "    print(f'precision : {res[\"precision\"]}')\n",
    "    print(f'recall : {res[\"recall\"]}')\n",
    "    print(f'ndcg : {res[\"ndcg\"]}')\n",
    "    print(f'test_loss : {res[\"test_loss\"]}')       \n",
    "    \n",
    "def random_sample(num_col, num_row, min_ratio=0.01, max_ratio=0.02):\n",
    "    test_s_mat_rand = np.zeros((num_col,num_row))\n",
    "\n",
    "    for i in range(num_col):\n",
    "        min_num = int(num_row * min_ratio)\n",
    "        max_num = int(num_row * max_ratio)\n",
    "        num_sample = random.sample(range(min_num,max_num),1)[0]\n",
    "\n",
    "        num_list = random.sample(range(num_row),num_sample)\n",
    "        \n",
    "        test_s_mat_rand[i][num_list] = 1\n",
    "    \n",
    "    return test_s_mat_rand\n",
    "\n",
    "def print_sparcity(mat):\n",
    "    if type(mat) != np.array : mat = np.array(mat)\n",
    "    \n",
    "    len_zeros = len(np.where(mat == 0)[0])\n",
    "    len_ones = len(np.where(mat != 0)[0])\n",
    "    sparcity = len_zeros / (len_zeros + len_ones)\n",
    "    print(f\"0 개수 : {len_zeros}\")\n",
    "    print(f\"1 개수 : {len_ones}\")\n",
    "    print(f\"sparsity : {sparcity}\")"
   ]
  },
  {
   "attachments": {},
   "cell_type": "markdown",
   "id": "c1344d40",
   "metadata": {},
   "source": [
    "## Model"
   ]
  },
  {
   "cell_type": "code",
   "execution_count": 4,
   "id": "2cf3a014",
   "metadata": {},
   "outputs": [],
   "source": [
    "class BaseModel(nn.Module):\n",
    "    def __init__(self):\n",
    "        super(BaseModel, self).__init__()\n",
    "        \n",
    "    def getUsersRating(self, user_row):\n",
    "        raise NotImplementedError\n",
    "\n",
    "class AutoEncoder(BaseModel):\n",
    "    \n",
    "    def __init__(self, item_n, cfg):\n",
    "        \"\"\"\n",
    "        Arguments\n",
    "        - item_n : count of items\n",
    "        - cfg : configuration dict\n",
    "            - K (int)       : number of latent dimensions\n",
    "            - device : using device\n",
    "        \"\"\"\n",
    "        super(AutoEncoder, self).__init__()\n",
    "        # convert ndArray\n",
    "        self.item_n = item_n\n",
    "        self.K = cfg[\"K\"]\n",
    "        self.device = cfg[\"device\"]\n",
    "        \n",
    "        # Initialize user and item latent feature matrice\n",
    "        self.I_1 = nn.Linear(self.item_n, self.K, bias=True, device = self.device)\n",
    "        self.I_2 = nn.Linear(self.K, self.item_n, bias=True, device = self.device)\n",
    "\n",
    "        nn.init.normal_(self.I_1.weight, std=1./self.K)\n",
    "        nn.init.normal_(self.I_2.weight, std=1./self.K)\n",
    "\n",
    "    def forward(self, x):\n",
    "        user_emb = self.I_1(x)\n",
    "        rating = self.I_2(user_emb)\n",
    "        #rating = torch.sigmoid(rating)\n",
    "    \n",
    "        return rating \n",
    "\n",
    "    def getUsersRating(self, user_row : np.array):\n",
    "        return self.forward(torch.Tensor(user_row).to(self.device)).cpu().detach().numpy()\n",
    "\n",
    "# VAE model\n",
    "class VAE(nn.Module):\n",
    "    def __init__(self, \n",
    "                 item_n,\n",
    "                 cfg,\n",
    "                 hidden_dims = [512,256]):\n",
    "        super(VAE, self).__init__()\n",
    "        \n",
    "        self.item_n = item_n\n",
    "        self.K = cfg[\"K\"]\n",
    "        self.device = cfg[\"device\"]\n",
    "        \n",
    "        # Encoder\n",
    "        self.le_1 = nn.Sequential(\n",
    "            nn.Linear(item_n, hidden_dims[0]),\n",
    "        )\n",
    "\n",
    "        self.le_2 = nn.Sequential(\n",
    "            nn.Linear(hidden_dims[0], hidden_dims[1]),\n",
    "        )\n",
    "        \n",
    "        self.mu = nn.Linear(hidden_dims[1], self.K)\n",
    "        self.logvar = nn.Linear(hidden_dims[1], self.K)\n",
    "\n",
    "        # Decoder\n",
    "        self.ld_1 = nn.Sequential(\n",
    "            nn.Linear(self.K, hidden_dims[1]),\n",
    "        )\n",
    "\n",
    "        self.ld_2 = nn.Sequential(\n",
    "            nn.Linear(hidden_dims[1], hidden_dims[0]),\n",
    "        )\n",
    "\n",
    "        # output layer\n",
    "        self.out = nn.Linear(hidden_dims[0], item_n)\n",
    "\n",
    "    def encode(self, x):\n",
    "        h1 = F.relu(self.le_1(x))\n",
    "        h2 = F.relu(self.le_2(h1))\n",
    "        return self.mu(h2), self.logvar(h2)\n",
    "\n",
    "    def reparameterize(self, mu, logvar):\n",
    "        std = torch.exp(0.5 * logvar)\n",
    "        eps = torch.randn_like(std)\n",
    "        return mu + std * eps\n",
    "\n",
    "    def decode(self, z):\n",
    "        h1 = F.relu(self.ld_1(z))\n",
    "        h2 = F.relu(self.ld_2(h1))\n",
    "        return torch.sigmoid(self.out(h2))\n",
    "\n",
    "    def forward(self, x):\n",
    "        mu, logvar = self.encode(x)\n",
    "        z = self.reparameterize(mu, logvar)\n",
    "        return self.decode(z), mu, logvar\n",
    "\n",
    "    def getUsersRating(self, user_row : np.array):        \n",
    "        rating , _, _ = self.forward(torch.Tensor(user_row).to(self.device))\n",
    "        rating = rating.cpu().detach().numpy()        \n",
    "        return rating"
   ]
  },
  {
   "attachments": {},
   "cell_type": "markdown",
   "id": "0984d642",
   "metadata": {},
   "source": [
    "## DataSet"
   ]
  },
  {
   "cell_type": "code",
   "execution_count": 5,
   "id": "627d25e2",
   "metadata": {},
   "outputs": [],
   "source": [
    "# Dataset 상속\n",
    "class AEDataset(Dataset): \n",
    "    def __init__(self, sparse_matrix, device='cuda', test_ratio=0.3, edit_mat=True, log=True):\n",
    "        assert type(sparse_matrix) == np.ndarray\n",
    "        \n",
    "        self.device = device\n",
    "        self.sparse_matrix = sparse_matrix\n",
    "        self.edit_mat = edit_mat\n",
    "\n",
    "        self.maxK = max(cfg['topks'])\n",
    "        self.test_dict = {}\n",
    "\n",
    "        self.len_test_ones = 0\n",
    "        self.len_train_ones = 0\n",
    "        \n",
    "        len_test_fail = 0\n",
    "        nz_probs = self.sparse_matrix.sum(0).nonzero()[0]\n",
    "        \n",
    "        for user in range(len(self.sparse_matrix)):      \n",
    "            items = self.sparse_matrix[user].nonzero()[0]\n",
    "            len_items = len(items)\n",
    "            len_sample = int(len_items * test_ratio)\n",
    "            \n",
    "            if len_sample >= self.maxK :\n",
    "                sample_nums = random.sample(range(0,len_items),len_sample)                                                          \n",
    "                sampled_items = items[sample_nums]\n",
    "                                \n",
    "                #sampled_items = list(set(sampled_items) - slp_idx)\n",
    "                \n",
    "                if edit_mat:\n",
    "                    self.sparse_matrix[user][sampled_items] = 0.\n",
    "                self.test_dict[user] = sampled_items  \n",
    "                self.len_test_ones += len(sampled_items)\n",
    "                self.len_train_ones += (len_items-len(sampled_items))\n",
    "            else:\n",
    "                len_test_fail += 1\n",
    "        \n",
    "        self.nz_probs = self.sparse_matrix.sum(0).nonzero()[0]\n",
    "        if log:\n",
    "            print(f\"\\n{len(nz_probs) - len(self.nz_probs)}\")\n",
    "\n",
    "            print(\"complete making test dict\")\n",
    "            print(f\"length of failed test data : {len_test_fail}\\n\")\n",
    "            print(f\"train dict length : {self.len_train_ones}\")\n",
    "            print(f\"test dict length : {self.len_test_ones}\")\n",
    "            print(f\"set train_test_ratio : {test_ratio}\")\n",
    "            print(f\"result train_test_ratio : {self.len_test_ones / (self.len_train_ones+self.len_test_ones)}\")\n",
    "\n",
    "    # 총 데이터의 개수를 리턴\n",
    "    def __len__(self): \n",
    "        return len(self.sparse_matrix)\n",
    "\n",
    "    # 인덱스를 입력받아 그에 맵핑되는 입출력 데이터를 파이토치의 Tensor 형태로 리턴\n",
    "    def __getitem__(self, idx): \n",
    "        x = torch.FloatTensor(self.sparse_matrix[idx]).to(self.device)\n",
    "        return x\n",
    "    \n",
    "    # 유저가 푼 문제번호 반환\n",
    "    def get_user_pos_items(self, users):\n",
    "        posItems = []\n",
    "        for user in users:\n",
    "            posItems.append(self.sparse_matrix[user].nonzero()[0])\n",
    "        return posItems\n",
    "    "
   ]
  },
  {
   "cell_type": "code",
   "execution_count": 6,
   "id": "f084c350",
   "metadata": {},
   "outputs": [
    {
     "name": "stdout",
     "output_type": "stream",
     "text": [
      "\n",
      "1017\n",
      "complete making test dict\n",
      "length of failed test data : 26\n",
      "\n",
      "train dict length : 493564\n",
      "test dict length : 209924\n",
      "set train_test_ratio : 0.3\n",
      "result train_test_ratio : 0.2984045214701601\n",
      "\n",
      "986\n",
      "complete making test dict\n",
      "length of failed test data : 26\n",
      "\n",
      "train dict length : 493564\n",
      "test dict length : 209924\n",
      "set train_test_ratio : 0.3\n",
      "result train_test_ratio : 0.2984045214701601\n"
     ]
    }
   ],
   "source": [
    "data_path = f'{cfg[\"data_dir\"]}/{cfg[\"data_file\"]}'\n",
    "train_s_mat = sparse.load_npz(data_path).astype(np.float32).toarray()\n",
    "test_s_mat = sparse.load_npz(data_path).astype(np.float32).toarray()\n",
    "\n",
    "train_dataset = AEDataset(train_s_mat, test_ratio=cfg['test_ratio'])\n",
    "test_dataset = AEDataset(test_s_mat, test_ratio=cfg['test_ratio'])\n",
    "\n",
    "train_dataloader = DataLoader(train_dataset, batch_size=cfg[\"batch_size\"])\n",
    "test_dataloader = DataLoader(test_dataset, batch_size=cfg[\"batch_size\"])"
   ]
  },
  {
   "attachments": {},
   "cell_type": "markdown",
   "id": "1b7d5305",
   "metadata": {},
   "source": [
    "## Train & Test"
   ]
  },
  {
   "cell_type": "code",
   "execution_count": 7,
   "id": "86b6923c",
   "metadata": {},
   "outputs": [],
   "source": [
    "def train_loop(dataloader, model, loss_fn, optimizer):\n",
    "    size = len(dataloader.dataset)\n",
    "    for batch, X in enumerate(dataloader):\n",
    "        # Compute prediction and loss\n",
    "        pred = model(X)      \n",
    "\n",
    "        loss_const = 0.\n",
    "        if cfg['const']:\n",
    "            sel = dataloader.dataset.nz_probs\n",
    "            mul_weight_diag = (model.I_1.weight.T[sel] * model.I_2.weight[sel]).sum(1)\n",
    "            loss_const = 1e0 * torch.sum((mul_weight_diag - 0) ** 2)     \n",
    "                \n",
    "        loss = loss_fn(pred, X)\n",
    "        \n",
    "        loss_all = loss + loss_const\n",
    "        \n",
    "        # Backpropagation\n",
    "        optimizer.zero_grad()\n",
    "        loss_all.backward()\n",
    "        optimizer.step()\n",
    "    \n",
    "    return loss, loss_const\n",
    "\n",
    "def loss_function(recon_x, x, mu, logvar):\n",
    "    BCE = F.binary_cross_entropy(recon_x, x, reduction = 'sum')\n",
    "    KLD = -0.5 * torch.sum(1 + logvar - mu.pow(2) - logvar.exp())\n",
    "    return BCE, KLD\n",
    "\n",
    "def train(dataloader, model , optimizer):\n",
    "    model.train()\n",
    "    train_loss = 0\n",
    "    for batch_idx, data in enumerate(dataloader):\n",
    "        data = data.to(cfg['device'])\n",
    "        optimizer.zero_grad()\n",
    "\n",
    "        recon_batch, mu, logvar = model(data)\n",
    "\n",
    "        BCE, KLD = loss_function(recon_batch, data, mu, logvar)\n",
    "\n",
    "        loss = BCE + KLD\n",
    "\n",
    "        loss.backward()\n",
    "\n",
    "        train_loss += loss.item()\n",
    "\n",
    "        optimizer.step()\n",
    "\n",
    "    return train_loss / len(dataloader.dataset), BCE.item(), KLD.item()\n",
    "\n",
    "def minibatch(*tensors, **kwargs):\n",
    "\n",
    "    batch_size = kwargs.get('batch_size', cfg['batch_size'])\n",
    "\n",
    "    if len(tensors) == 1:\n",
    "        tensor = tensors[0]\n",
    "        for i in range(0, len(tensor), batch_size):\n",
    "            yield tensor[i:i + batch_size]\n",
    "    else:\n",
    "        for i in range(0, len(tensors[0]), batch_size):\n",
    "            yield tuple(x[i:i + batch_size] for x in tensors)\n",
    "\n",
    "def _test_loop(dataloader, Recmodel, cfg, loss_fn=None, exclude=True, addPos=False):    \n",
    "    u_batch_size = cfg['test_batch_size']\n",
    "    dataset = dataloader.dataset\n",
    "    testDict: dict = dataset.test_dict\n",
    "    # eval mode with no dropout\n",
    "    try:\n",
    "        Recmodel = Recmodel.eval()\n",
    "    except:\n",
    "        print(\"model is not a torch model\")\n",
    "        \n",
    "    max_K = max(cfg['topks'])\n",
    "    results = {'precision': np.zeros(len(cfg['topks'])),\n",
    "               'recall': np.zeros(len(cfg['topks'])),\n",
    "               'ndcg': np.zeros(len(cfg['topks'])),\n",
    "               'test_loss' : 0}\n",
    "    \n",
    "    with torch.no_grad():\n",
    "        users = list(testDict.keys())\n",
    "        try:\n",
    "            assert u_batch_size <= len(users) / 10\n",
    "        except AssertionError:\n",
    "            print(f\"test_u_batch_size is too big for this dataset, try a small one {len(users) // 10}\")\n",
    "        users_list = []\n",
    "        rating_list = []\n",
    "        groundTrue_list = []\n",
    "        # auc_record = []\n",
    "        # ratings = []\n",
    "        total_batch = len(users) // u_batch_size + 1\n",
    "        for batch_users in minibatch(users, batch_size=u_batch_size):\n",
    "            groundTrue = [list(testDict[u]) for u in batch_users]\n",
    "            _batch_users = dataloader.dataset[batch_users]\n",
    "            \n",
    "            rating = torch.Tensor(Recmodel.getUsersRating(_batch_users.cpu().detach().numpy()))\n",
    "            _batch_users = torch.Tensor(_batch_users).cpu()\n",
    "                \n",
    "            if loss_fn is not None:\n",
    "                results['test_loss'] += loss_fn(rating, _batch_users).item()\n",
    "            \n",
    "            #rating = rating.cpu()\n",
    "            #print('Exclude Rated Item')\n",
    "            allPos = dataset.get_user_pos_items(batch_users)\n",
    "            \n",
    "            if exclude:\n",
    "                exclude_index = []\n",
    "                exclude_items = []\n",
    "                for range_i, items in enumerate(allPos):\n",
    "                    exclude_index.extend([range_i] * len(items))\n",
    "                    exclude_items.extend(items)\n",
    "                rating[exclude_index, exclude_items] = -(1<<10)\n",
    "\n",
    "            if addPos:\n",
    "                for i in range(len(batch_users)):\n",
    "                    groundTrue[i].extend(allPos[i])\n",
    "\n",
    "            _, rating_K = torch.topk(rating, k=max_K)\n",
    "\n",
    "            del rating    \n",
    "            \n",
    "            users_list.append(batch_users)\n",
    "            rating_list.append(rating_K.cpu())\n",
    "            groundTrue_list.append(groundTrue)\n",
    "\n",
    "        assert total_batch == len(users_list)\n",
    "        X = zip(rating_list, groundTrue_list)\n",
    "        pre_results = []\n",
    "        for x in X:\n",
    "            pre_results.append(test_one_batch(x,cfg))\n",
    "        scale = float(u_batch_size/len(users))\n",
    "        for result in pre_results:\n",
    "            results['recall'] += result['recall']\n",
    "            results['precision'] += result['precision']\n",
    "            results['ndcg'] += result['ndcg']\n",
    "        results['recall'] /= float(len(users))\n",
    "        results['precision'] /= float(len(users))\n",
    "        results['ndcg'] /= float(len(users))\n",
    "        results['test_loss'] /= total_batch\n",
    "        return results\n",
    "\n",
    "def save_result_to_tensor_board(result, epoch):\n",
    "    for i, k in enumerate(cfg[\"topks\"]):\n",
    "        writer.add_scalar(f\"Precision/@{k}\", result['precision'][i], epoch)\n",
    "        writer.add_scalar(f\"Recall/@{k}\", result['recall'][i], epoch)\n",
    "        writer.add_scalar(f\"ndcg/@{k}\", result['ndcg'][i], epoch)\n",
    "        \n",
    "def _save_result_to_tensor_board(result, epoch, dev='Train'):\n",
    "    for key, val in result.items():\n",
    "        if key == \"test_loss\" : continue\n",
    "        res_dict = {}\n",
    "        for k, v in zip(cfg[\"topks\"],val):\n",
    "            res_dict[f\"@{k}_{dev}\"] = v\n",
    "            \n",
    "        writer.add_scalars(f\"{key}\", res_dict , epoch)\n",
    "        \n",
    "def __save_result_to_tensor_board(result, epoch, dev='Train'):        \n",
    "    for i, k in enumerate(cfg[\"topks\"]):\n",
    "        writer.add_scalars(f\"{dev}/@{k}\", {\n",
    "            \"precision\" : result['precision'][i],\n",
    "            'recall' : result['recall'][i],\n",
    "            'ndcg' : result['ndcg'][i]\n",
    "        }, epoch)\n",
    "        \n",
    "def _save_result_avg(result, key, epoch, name='avg'): \n",
    "    res_dict = {name : result}\n",
    "    writer.add_scalars(f\"{key}\", res_dict , epoch)"
   ]
  },
  {
   "attachments": {},
   "cell_type": "markdown",
   "id": "6c213597",
   "metadata": {},
   "source": [
    "### AutoEncoder"
   ]
  },
  {
   "cell_type": "code",
   "execution_count": 18,
   "id": "3ea36034",
   "metadata": {},
   "outputs": [],
   "source": [
    "RecModel = AutoEncoder(train_s_mat.shape[1], cfg)\n",
    "optim = torch.optim.Adam(RecModel.parameters(), lr=cfg[\"lr\"], betas=(0.9, 0.999), weight_decay=1e-6)\n",
    "loss_fn = torch.nn.MSELoss(size_average=None, reduce=None, reduction='mean')\n",
    "#loss_fn = torch.nn.BCELoss(weight=None, size_average=None, reduce=None, reduction='mean')"
   ]
  },
  {
   "cell_type": "code",
   "execution_count": 19,
   "id": "2709d9c2",
   "metadata": {},
   "outputs": [],
   "source": [
    "writer = SummaryWriter()\n",
    "max_prec = 0"
   ]
  },
  {
   "cell_type": "code",
   "execution_count": 20,
   "id": "3aa0486c",
   "metadata": {},
   "outputs": [
    {
     "name": "stderr",
     "output_type": "stream",
     "text": [
      "\r\n",
      "  0%|                                                                                          | 0/120 [00:00<?, ?it/s]"
     ]
    },
    {
     "name": "stdout",
     "output_type": "stream",
     "text": [
      "TEST\n",
      "precision : [0.00359741 0.00363783 0.00363783]\n",
      "recall : [0.00041063 0.00086987 0.00218821]\n",
      "ndcg : [0.00354973 0.00358507 0.00361277]\n",
      "test_loss : 0.007700000388117937\n",
      "TEST - Another\n",
      "precision : [0.00355699 0.00359741 0.00355699]\n",
      "recall : [0.00041835 0.00085868 0.00209595]\n",
      "ndcg : [0.00335469 0.00344125 0.00348641]\n",
      "test_loss : 0.007699655494294488\n",
      "==========================\n",
      "max_prec: 0.003597\n"
     ]
    },
    {
     "name": "stderr",
     "output_type": "stream",
     "text": [
      "\r\n",
      "  1%|▋                                                                                 | 1/120 [00:05<10:25,  5.26s/it]"
     ]
    },
    {
     "name": "stdout",
     "output_type": "stream",
     "text": [
      "loss: 0.003519  [    0/  120]\n",
      "loss_const: 0.000000  [    0/  120]\n"
     ]
    },
    {
     "name": "stderr",
     "output_type": "stream",
     "text": [
      "  4%|███▍                                                                              | 5/120 [00:08<02:11,  1.15s/it]"
     ]
    },
    {
     "name": "stdout",
     "output_type": "stream",
     "text": [
      "max_prec: 0.845513\n"
     ]
    },
    {
     "name": "stderr",
     "output_type": "stream",
     "text": [
      "  8%|██████▊                                                                          | 10/120 [00:15<01:53,  1.03s/it]"
     ]
    },
    {
     "name": "stdout",
     "output_type": "stream",
     "text": [
      "max_prec: 0.890703\n"
     ]
    },
    {
     "name": "stderr",
     "output_type": "stream",
     "text": [
      "\r\n",
      "  9%|███████▍                                                                         | 11/120 [00:18<03:19,  1.83s/it]"
     ]
    },
    {
     "name": "stdout",
     "output_type": "stream",
     "text": [
      "loss: 0.002391  [   10/  120]\n",
      "loss_const: 0.000000  [   10/  120]\n"
     ]
    },
    {
     "name": "stderr",
     "output_type": "stream",
     "text": [
      " 12%|██████████▏                                                                      | 15/120 [00:21<01:46,  1.01s/it]"
     ]
    },
    {
     "name": "stdout",
     "output_type": "stream",
     "text": [
      "max_prec: 0.915441\n"
     ]
    },
    {
     "name": "stderr",
     "output_type": "stream",
     "text": [
      " 17%|█████████████▌                                                                   | 20/120 [00:28<01:40,  1.00s/it]"
     ]
    },
    {
     "name": "stdout",
     "output_type": "stream",
     "text": [
      "TEST\n",
      "precision : [0.9128941  0.86899757 0.719135  ]\n",
      "recall : [0.11896322 0.22533612 0.4560467 ]\n",
      "ndcg : [0.92235686 0.88853155 0.76892039]\n",
      "test_loss : 0.003880705060556722\n",
      "TEST - Another\n",
      "precision : [0.93023444 0.88506467 0.74022635]\n",
      "recall : [0.1210644  0.22879717 0.46687415]\n",
      "ndcg : [0.93907045 0.9045202  0.78880413]\n",
      "test_loss : 0.0040861546384313935\n",
      "==========================\n",
      "max_prec: 0.930234\n"
     ]
    },
    {
     "name": "stderr",
     "output_type": "stream",
     "text": [
      "\r\n",
      " 18%|██████████████▏                                                                  | 21/120 [00:31<02:57,  1.79s/it]"
     ]
    },
    {
     "name": "stdout",
     "output_type": "stream",
     "text": [
      "loss: 0.000589  [   20/  120]\n",
      "loss_const: 0.000000  [   20/  120]\n"
     ]
    },
    {
     "name": "stderr",
     "output_type": "stream",
     "text": [
      " 21%|████████████████▉                                                                | 25/120 [00:34<01:35,  1.00s/it]"
     ]
    },
    {
     "name": "stdout",
     "output_type": "stream",
     "text": [
      "max_prec: 0.942805\n"
     ]
    },
    {
     "name": "stderr",
     "output_type": "stream",
     "text": [
      " 25%|████████████████████▎                                                            | 30/120 [00:41<01:29,  1.01it/s]"
     ]
    },
    {
     "name": "stdout",
     "output_type": "stream",
     "text": [
      "max_prec: 0.947454\n"
     ]
    },
    {
     "name": "stderr",
     "output_type": "stream",
     "text": [
      "\r\n",
      " 26%|████████████████████▉                                                            | 31/120 [00:44<02:35,  1.74s/it]"
     ]
    },
    {
     "name": "stdout",
     "output_type": "stream",
     "text": [
      "loss: 0.000208  [   30/  120]\n",
      "loss_const: 0.000000  [   30/  120]\n"
     ]
    },
    {
     "name": "stderr",
     "output_type": "stream",
     "text": [
      " 29%|███████████████████████▋                                                         | 35/120 [00:47<01:24,  1.01it/s]"
     ]
    },
    {
     "name": "stdout",
     "output_type": "stream",
     "text": [
      "max_prec: 0.954729\n"
     ]
    },
    {
     "name": "stderr",
     "output_type": "stream",
     "text": [
      " 33%|███████████████████████████                                                      | 40/120 [00:54<01:18,  1.01it/s]"
     ]
    },
    {
     "name": "stdout",
     "output_type": "stream",
     "text": [
      "TEST\n",
      "precision : [0.89676637 0.85311237 0.71284559]\n",
      "recall : [0.11781695 0.22345731 0.45936958]\n",
      "ndcg : [0.90778076 0.87352648 0.76068255]\n",
      "test_loss : 0.002645327667825115\n",
      "TEST - Another\n",
      "precision : [0.95820534 0.92356508 0.79438965]\n",
      "recall : [0.12495177 0.23962402 0.50305873]\n",
      "ndcg : [0.96562102 0.93893533 0.83680501]\n",
      "test_loss : 0.0033080820770313344\n",
      "==========================\n",
      "max_prec: 0.958205\n"
     ]
    },
    {
     "name": "stderr",
     "output_type": "stream",
     "text": [
      "\r\n",
      " 34%|███████████████████████████▋                                                     | 41/120 [00:57<02:17,  1.74s/it]"
     ]
    },
    {
     "name": "stdout",
     "output_type": "stream",
     "text": [
      "loss: 0.000136  [   40/  120]\n",
      "loss_const: 0.000000  [   40/  120]\n"
     ]
    },
    {
     "name": "stderr",
     "output_type": "stream",
     "text": [
      " 38%|██████████████████████████████▍                                                  | 45/120 [01:00<01:13,  1.01it/s]"
     ]
    },
    {
     "name": "stdout",
     "output_type": "stream",
     "text": [
      "max_prec: 0.959499\n"
     ]
    },
    {
     "name": "stderr",
     "output_type": "stream",
     "text": [
      " 42%|█████████████████████████████████▊                                               | 50/120 [01:07<01:08,  1.01it/s]"
     ]
    },
    {
     "name": "stdout",
     "output_type": "stream",
     "text": [
      "max_prec: 0.959499\n"
     ]
    },
    {
     "name": "stderr",
     "output_type": "stream",
     "text": [
      "\r\n",
      " 42%|██████████████████████████████████▍                                              | 51/120 [01:10<01:55,  1.67s/it]"
     ]
    },
    {
     "name": "stdout",
     "output_type": "stream",
     "text": [
      "loss: 0.000135  [   50/  120]\n",
      "loss_const: 0.000000  [   50/  120]\n"
     ]
    },
    {
     "name": "stderr",
     "output_type": "stream",
     "text": [
      " 46%|█████████████████████████████████████▏                                           | 55/120 [01:13<01:03,  1.02it/s]"
     ]
    },
    {
     "name": "stdout",
     "output_type": "stream",
     "text": [
      "max_prec: 0.959499\n"
     ]
    },
    {
     "name": "stderr",
     "output_type": "stream",
     "text": [
      " 50%|████████████████████████████████████████▌                                        | 60/120 [01:20<00:59,  1.02it/s]"
     ]
    },
    {
     "name": "stdout",
     "output_type": "stream",
     "text": [
      "TEST\n",
      "precision : [0.82283751 0.76491512 0.62226354]\n",
      "recall : [0.10884806 0.20223548 0.40693341]\n",
      "ndcg : [0.84044625 0.79386283 0.67500846]\n",
      "test_loss : 0.0017553238117565902\n",
      "TEST - Another\n",
      "precision : [0.95715441 0.92303961 0.79590946]\n",
      "recall : [0.12484501 0.23931607 0.50421174]\n",
      "ndcg : [0.96507396 0.93853595 0.83793095]\n",
      "test_loss : 0.0026746864657466994\n",
      "==========================\n",
      "max_prec: 0.959499\n"
     ]
    },
    {
     "name": "stderr",
     "output_type": "stream",
     "text": [
      "\r\n",
      " 51%|█████████████████████████████████████████▏                                       | 61/120 [01:23<01:39,  1.69s/it]"
     ]
    },
    {
     "name": "stdout",
     "output_type": "stream",
     "text": [
      "loss: 0.000150  [   60/  120]\n",
      "loss_const: 0.000000  [   60/  120]\n"
     ]
    },
    {
     "name": "stderr",
     "output_type": "stream",
     "text": [
      " 54%|███████████████████████████████████████████▉                                     | 65/120 [01:26<00:53,  1.02it/s]"
     ]
    },
    {
     "name": "stdout",
     "output_type": "stream",
     "text": [
      "max_prec: 0.959499\n"
     ]
    },
    {
     "name": "stderr",
     "output_type": "stream",
     "text": [
      " 58%|███████████████████████████████████████████████▎                                 | 70/120 [01:32<00:48,  1.03it/s]"
     ]
    },
    {
     "name": "stdout",
     "output_type": "stream",
     "text": [
      "max_prec: 0.959499\n"
     ]
    },
    {
     "name": "stderr",
     "output_type": "stream",
     "text": [
      "\r\n",
      " 59%|███████████████████████████████████████████████▉                                 | 71/120 [01:36<01:23,  1.70s/it]"
     ]
    },
    {
     "name": "stdout",
     "output_type": "stream",
     "text": [
      "loss: 0.000101  [   70/  120]\n",
      "loss_const: 0.000000  [   70/  120]\n"
     ]
    },
    {
     "name": "stderr",
     "output_type": "stream",
     "text": [
      " 62%|██████████████████████████████████████████████████▋                              | 75/120 [01:39<00:44,  1.01it/s]"
     ]
    },
    {
     "name": "stdout",
     "output_type": "stream",
     "text": [
      "max_prec: 0.959499\n"
     ]
    },
    {
     "name": "stderr",
     "output_type": "stream",
     "text": [
      " 67%|██████████████████████████████████████████████████████                           | 80/120 [01:45<00:39,  1.00it/s]"
     ]
    },
    {
     "name": "stdout",
     "output_type": "stream",
     "text": [
      "TEST\n",
      "precision : [0.74890865 0.68215441 0.54176233]\n",
      "recall : [0.09957156 0.18080582 0.35512659]\n",
      "ndcg : [0.7715548  0.71683535 0.59688605]\n",
      "test_loss : 0.0012397979780171926\n",
      "TEST - Another\n",
      "precision : [0.94911075 0.90864996 0.7738561 ]\n",
      "recall : [0.12356328 0.23506264 0.48838243]\n",
      "ndcg : [0.9582281  0.92684959 0.81919874]\n",
      "test_loss : 0.002199186261397046\n",
      "==========================\n",
      "max_prec: 0.959499\n"
     ]
    },
    {
     "name": "stderr",
     "output_type": "stream",
     "text": [
      "\r\n",
      " 68%|██████████████████████████████████████████████████████▋                          | 81/120 [01:49<01:07,  1.72s/it]"
     ]
    },
    {
     "name": "stdout",
     "output_type": "stream",
     "text": [
      "loss: 0.000159  [   80/  120]\n",
      "loss_const: 0.000000  [   80/  120]\n"
     ]
    },
    {
     "name": "stderr",
     "output_type": "stream",
     "text": [
      " 71%|█████████████████████████████████████████████████████████▍                       | 85/120 [01:52<00:35,  1.00s/it]"
     ]
    },
    {
     "name": "stdout",
     "output_type": "stream",
     "text": [
      "max_prec: 0.959499\n"
     ]
    },
    {
     "name": "stderr",
     "output_type": "stream",
     "text": [
      " 75%|████████████████████████████████████████████████████████████▊                    | 90/120 [01:58<00:30,  1.02s/it]"
     ]
    },
    {
     "name": "stdout",
     "output_type": "stream",
     "text": [
      "max_prec: 0.959499\n"
     ]
    },
    {
     "name": "stderr",
     "output_type": "stream",
     "text": [
      "\r\n",
      " 76%|█████████████████████████████████████████████████████████████▍                   | 91/120 [02:02<00:51,  1.76s/it]"
     ]
    },
    {
     "name": "stdout",
     "output_type": "stream",
     "text": [
      "loss: 0.000121  [   90/  120]\n",
      "loss_const: 0.000000  [   90/  120]\n"
     ]
    },
    {
     "name": "stderr",
     "output_type": "stream",
     "text": [
      " 79%|████████████████████████████████████████████████████████████████▏                | 95/120 [02:05<00:25,  1.01s/it]"
     ]
    },
    {
     "name": "stdout",
     "output_type": "stream",
     "text": [
      "max_prec: 0.959499\n"
     ]
    },
    {
     "name": "stderr",
     "output_type": "stream",
     "text": [
      " 83%|██████████████████████████████████████████████████████████████████▋             | 100/120 [02:12<00:20,  1.03s/it]"
     ]
    },
    {
     "name": "stdout",
     "output_type": "stream",
     "text": [
      "TEST\n",
      "precision : [0.60347615 0.52562652 0.3911156 ]\n",
      "recall : [0.08070182 0.14067619 0.25999322]\n",
      "ndcg : [0.6338507  0.56839889 0.44872087]\n",
      "test_loss : 0.0009855978543129868\n",
      "TEST - Another\n",
      "precision : [0.91390461 0.856346   0.69759903]\n",
      "recall : [0.11845525 0.2202012  0.43723364]\n",
      "ndcg : [0.92867283 0.88337848 0.75357784]\n",
      "test_loss : 0.0019021248355364571\n",
      "==========================\n",
      "max_prec: 0.959499\n"
     ]
    },
    {
     "name": "stderr",
     "output_type": "stream",
     "text": [
      "\r\n",
      " 84%|███████████████████████████████████████████████████████████████████▎            | 101/120 [02:15<00:33,  1.77s/it]"
     ]
    },
    {
     "name": "stdout",
     "output_type": "stream",
     "text": [
      "loss: 0.000120  [  100/  120]\n",
      "loss_const: 0.000000  [  100/  120]\n"
     ]
    },
    {
     "name": "stderr",
     "output_type": "stream",
     "text": [
      " 88%|██████████████████████████████████████████████████████████████████████          | 105/120 [02:18<00:15,  1.01s/it]"
     ]
    },
    {
     "name": "stdout",
     "output_type": "stream",
     "text": [
      "max_prec: 0.959499\n"
     ]
    },
    {
     "name": "stderr",
     "output_type": "stream",
     "text": [
      " 92%|█████████████████████████████████████████████████████████████████████████▎      | 110/120 [02:25<00:09,  1.01it/s]"
     ]
    },
    {
     "name": "stdout",
     "output_type": "stream",
     "text": [
      "max_prec: 0.959499\n"
     ]
    },
    {
     "name": "stderr",
     "output_type": "stream",
     "text": [
      "\r\n",
      " 92%|██████████████████████████████████████████████████████████████████████████      | 111/120 [02:29<00:16,  1.80s/it]"
     ]
    },
    {
     "name": "stdout",
     "output_type": "stream",
     "text": [
      "loss: 0.000140  [  110/  120]\n",
      "loss_const: 0.000000  [  110/  120]\n"
     ]
    },
    {
     "name": "stderr",
     "output_type": "stream",
     "text": [
      " 96%|████████████████████████████████████████████████████████████████████████████▋   | 115/120 [02:32<00:05,  1.01s/it]"
     ]
    },
    {
     "name": "stdout",
     "output_type": "stream",
     "text": [
      "max_prec: 0.959499\n"
     ]
    },
    {
     "name": "stderr",
     "output_type": "stream",
     "text": [
      "100%|████████████████████████████████████████████████████████████████████████████████| 120/120 [02:38<00:00,  1.32s/it]\n"
     ]
    }
   ],
   "source": [
    "st_num = 0\n",
    "test_Indicator = \"precision\"\n",
    "\n",
    "max_prec = 0\n",
    "for i in tqdm(range(st_num,cfg[\"n_epochs\"]+st_num)):\n",
    "    if i % 5 == 0:   \n",
    "        test_res = _test_loop(train_dataloader, RecModel, cfg, loss_fn)\n",
    "        t_res = _test_loop(test_dataloader, RecModel, cfg, loss_fn)\n",
    "        \n",
    "        if i % 20 == 0: \n",
    "            print(\"TEST\")\n",
    "            print_result(test_res)\n",
    "            print(\"TEST - Another\")\n",
    "            print_result(t_res)\n",
    "            print(\"==========================\")\n",
    "            \n",
    "        _save_result_to_tensor_board(test_res, i)\n",
    "        _save_result_to_tensor_board(t_res, i, dev='Test')\n",
    "        writer.add_scalar(f\"Loss/test\", test_res['test_loss'], i)\n",
    "\n",
    "        if max_prec < max(t_res[test_Indicator]) :\n",
    "            max_prec = max(t_res[test_Indicator])\n",
    "            torch.save(RecModel.state_dict(), cfg[\"model_path\"])\n",
    "            \n",
    "        print(f\"max_prec: {max_prec:>7f}\")\n",
    "    loss, loss_const = train_loop(train_dataloader, RecModel, loss_fn, optim)  \n",
    "    writer.add_scalar(f\"Loss/train\", loss, i)\n",
    "    if i % 10 == 0:\n",
    "        print(f\"loss: {loss:>7f}  [{i:>5d}/{cfg['n_epochs']+st_num:>5d}]\")\n",
    "        print(f\"loss_const: {loss_const:>7f}  [{i:>5d}/{cfg['n_epochs']+st_num:>5d}]\")"
   ]
  },
  {
   "cell_type": "code",
   "execution_count": 21,
   "id": "ca0378ec",
   "metadata": {},
   "outputs": [],
   "source": [
    "writer.flush()\n",
    "writer.close()"
   ]
  },
  {
   "cell_type": "code",
   "execution_count": null,
   "id": "979b2443",
   "metadata": {},
   "outputs": [],
   "source": [
    "# const => 0.964673\n",
    "# no const => 0.959499"
   ]
  },
  {
   "cell_type": "code",
   "execution_count": 53,
   "id": "1fc3ac43",
   "metadata": {},
   "outputs": [
    {
     "name": "stdout",
     "output_type": "stream",
     "text": [
      "0\n",
      "0.0\n"
     ]
    }
   ],
   "source": [
    "# 대각 값 확인\n",
    "mul_emb = (RecModel.I_1.weight.T @ RecModel.I_2.weight.T).cpu().detach().numpy()\n",
    "am = np.argmax(mul_emb,0)\n",
    "\n",
    "cnt = 0\n",
    "for i in range(len(am)):\n",
    "    if am[i] == i : cnt+=1\n",
    "print(cnt)\n",
    "print(cnt / len(am))\n",
    "\n",
    "clear()"
   ]
  },
  {
   "cell_type": "code",
   "execution_count": 18,
   "id": "b47a9fed",
   "metadata": {},
   "outputs": [
    {
     "data": {
      "text/plain": [
       "0.9351657235246567"
      ]
     },
     "execution_count": 18,
     "metadata": {},
     "output_type": "execute_result"
    }
   ],
   "source": [
    "max_prec"
   ]
  },
  {
   "cell_type": "code",
   "execution_count": 36,
   "id": "4d28a79f",
   "metadata": {},
   "outputs": [
    {
     "name": "stderr",
     "output_type": "stream",
     "text": [
      "79it [00:01, 58.56it/s]\n"
     ]
    },
    {
     "name": "stdout",
     "output_type": "stream",
     "text": [
      "precision : [0.95206082 0.90860344 0.762497  ]\n",
      "recall : [0.12497667 0.23716896 0.48620402]\n",
      "ndcg : [0.95965917 0.92676056 0.81101567]\n",
      "test_loss : 0.0040974134897601\n"
     ]
    }
   ],
   "source": [
    "print_result(_test_loop(test_dataloader, ae_const, cfg, loss_fn))"
   ]
  },
  {
   "attachments": {},
   "cell_type": "markdown",
   "id": "6d1aaf7f",
   "metadata": {},
   "source": [
    "### VAE"
   ]
  },
  {
   "cell_type": "code",
   "execution_count": 120,
   "id": "493092ee",
   "metadata": {},
   "outputs": [],
   "source": [
    "VAE_Model = VAE(train_s_mat.shape[1], cfg, hidden_dims = [1024,512]).to(cfg['device'])\n",
    "optimizer = torch.optim.Adam(VAE_Model.parameters(), lr = 1e-4)"
   ]
  },
  {
   "cell_type": "code",
   "execution_count": null,
   "id": "3f1e608b",
   "metadata": {},
   "outputs": [
    {
     "name": "stderr",
     "output_type": "stream",
     "text": [
      "\r\n",
      "  0%|                                                                                          | 0/100 [00:00<?, ?it/s]"
     ]
    },
    {
     "name": "stdout",
     "output_type": "stream",
     "text": [
      "TEST\n",
      "precision : [0.0047696  0.00432498 0.00389652]\n",
      "recall : [0.00057874 0.00101854 0.00237192]\n",
      "ndcg : [0.00465985 0.0043775  0.00402546]\n",
      "test_loss : 0.2504696330198875\n",
      "TEST - Another\n",
      "precision : [0.00355699 0.00367825 0.00366209]\n",
      "recall : [0.00041859 0.00088726 0.00216251]\n",
      "ndcg : [0.00348191 0.00359161 0.00361515]\n",
      "test_loss : 0.2504686208871695\n",
      "precision - avg\n",
      "0.00422392886014551\n",
      "==========================\n"
     ]
    },
    {
     "name": "stderr",
     "output_type": "stream",
     "text": [
      "\r\n",
      "  1%|▊                                                                                 | 1/100 [00:05<08:43,  5.28s/it]"
     ]
    },
    {
     "name": "stdout",
     "output_type": "stream",
     "text": [
      "loss: 10748.642892  [    0/  100]\n"
     ]
    },
    {
     "name": "stderr",
     "output_type": "stream",
     "text": [
      " 11%|████████▉                                                                        | 11/100 [00:19<02:50,  1.92s/it]"
     ]
    },
    {
     "name": "stdout",
     "output_type": "stream",
     "text": [
      "loss: 616.478139  [   10/  100]\n"
     ]
    },
    {
     "name": "stderr",
     "output_type": "stream",
     "text": [
      " 20%|████████████████▏                                                                | 20/100 [00:29<01:23,  1.05s/it]"
     ]
    },
    {
     "name": "stdout",
     "output_type": "stream",
     "text": [
      "TEST\n",
      "precision : [0.73084074 0.65584074 0.5012692 ]\n",
      "recall : [0.09388341 0.16698781 0.31311569]\n",
      "ndcg : [0.74933706 0.69040027 0.55958529]\n",
      "test_loss : 0.005476700783802722\n",
      "TEST - Another\n",
      "precision : [0.72821342 0.65701293 0.50118027]\n",
      "recall : [0.0936547  0.16742044 0.31322853]\n",
      "ndcg : [0.74817449 0.69160817 0.55986903]\n",
      "test_loss : 0.005479186862850418\n",
      "precision - avg\n",
      "0.7295270816491513\n",
      "==========================\n"
     ]
    },
    {
     "name": "stderr",
     "output_type": "stream",
     "text": [
      "\r\n",
      " 21%|█████████████████                                                                | 21/100 [00:33<02:27,  1.86s/it]"
     ]
    },
    {
     "name": "stdout",
     "output_type": "stream",
     "text": [
      "loss: 553.799468  [   20/  100]\n"
     ]
    },
    {
     "name": "stderr",
     "output_type": "stream",
     "text": [
      " 31%|█████████████████████████                                                        | 31/100 [00:46<02:02,  1.78s/it]"
     ]
    },
    {
     "name": "stdout",
     "output_type": "stream",
     "text": [
      "loss: 541.809768  [   30/  100]\n"
     ]
    },
    {
     "name": "stderr",
     "output_type": "stream",
     "text": [
      " 39%|███████████████████████████████▌                                                 | 39/100 [00:55<01:11,  1.16s/it]"
     ]
    }
   ],
   "source": [
    "writer = SummaryWriter()\n",
    "st_num = 0\n",
    "max_prec = 0\n",
    "test_Indicator = \"precision\"\n",
    "\n",
    "for i in tqdm(range(st_num,cfg[\"n_epochs\"]+st_num)):\n",
    "    if i % 5 == 0:   \n",
    "        test_res = _test_loop(train_dataloader, VAE_Model, cfg, loss_fn)\n",
    "        t_res = _test_loop(test_dataloader, VAE_Model, cfg, loss_fn)\n",
    "        \n",
    "        prec_avg = (max(test_res[test_Indicator])+max(t_res[test_Indicator]))/2\n",
    "        if i % 20 == 0: \n",
    "            print(\"TEST\")\n",
    "            print_result(test_res)\n",
    "            print(\"TEST - Another\")\n",
    "            print_result(t_res)\n",
    "            print(f\"{test_Indicator} - avg\")\n",
    "            print(prec_avg)\n",
    "            print(\"==========================\")\n",
    "            \n",
    "        _save_result_to_tensor_board(test_res, i)\n",
    "        _save_result_to_tensor_board(t_res, i, dev='Test')\n",
    "        _save_result_avg(prec_avg, test_Indicator, i)\n",
    "        writer.add_scalar(f\"Loss/test\", test_res['test_loss'], i)\n",
    "\n",
    "        if max_prec < prec_avg :\n",
    "            max_prec = prec_avg\n",
    "            torch.save(VAE_Model.state_dict(), cfg[\"model_path\"])\n",
    "            \n",
    "    loss, BCE, KLD = train(train_dataloader, VAE_Model, optimizer)  \n",
    "    \n",
    "    writer.add_scalar(\"Train/Reconstruction Error\", BCE, i)\n",
    "    writer.add_scalar(\"Train/KL-Divergence\", KLD, i)\n",
    "    writer.add_scalar(\"Train/Total Loss\" , loss, i)\n",
    "    \n",
    "    if i % 10 == 0:\n",
    "        print(f\"loss: {loss:>7f}  [{i:>5d}/{cfg['n_epochs']+st_num:>5d}]\")\n",
    "\n",
    "writer.flush()\n",
    "writer.close()"
   ]
  },
  {
   "attachments": {},
   "cell_type": "markdown",
   "id": "738852eb",
   "metadata": {},
   "source": [
    "# Tensorboard 시각화"
   ]
  },
  {
   "cell_type": "code",
   "execution_count": 22,
   "id": "eb17f979",
   "metadata": {},
   "outputs": [],
   "source": [
    "%load_ext tensorboard"
   ]
  },
  {
   "cell_type": "code",
   "execution_count": 8,
   "id": "8f5ee0df",
   "metadata": {},
   "outputs": [],
   "source": [
    "%reload_ext tensorboard"
   ]
  },
  {
   "cell_type": "code",
   "execution_count": 27,
   "id": "8e87687b",
   "metadata": {},
   "outputs": [
    {
     "data": {
      "text/plain": [
       "Reusing TensorBoard on port 6006 (pid 18328), started 0:02:12 ago. (Use '!kill 18328' to kill it.)"
      ]
     },
     "metadata": {},
     "output_type": "display_data"
    },
    {
     "data": {
      "text/html": [
       "\n",
       "      <iframe id=\"tensorboard-frame-bb7b1bbdd27cc7e\" width=\"100%\" height=\"800\" frameborder=\"0\">\n",
       "      </iframe>\n",
       "      <script>\n",
       "        (function() {\n",
       "          const frame = document.getElementById(\"tensorboard-frame-bb7b1bbdd27cc7e\");\n",
       "          const url = new URL(\"/\", window.location);\n",
       "          const port = 6006;\n",
       "          if (port) {\n",
       "            url.port = port;\n",
       "          }\n",
       "          frame.src = url;\n",
       "        })();\n",
       "      </script>\n",
       "    "
      ],
      "text/plain": [
       "<IPython.core.display.HTML object>"
      ]
     },
     "metadata": {},
     "output_type": "display_data"
    }
   ],
   "source": [
    "%tensorboard --logdir i"
   ]
  },
  {
   "attachments": {},
   "cell_type": "markdown",
   "id": "ceecdccb",
   "metadata": {},
   "source": [
    "# TEST"
   ]
  },
  {
   "attachments": {},
   "cell_type": "markdown",
   "id": "0c91f3cb",
   "metadata": {},
   "source": [
    "### Dataset Setting"
   ]
  },
  {
   "cell_type": "code",
   "execution_count": 12,
   "id": "c0700f5b",
   "metadata": {},
   "outputs": [],
   "source": [
    "def get_test_dataloader(test_ratio=0.3, edit_mat=True, test_data_path = None, rand_like=False, log=True):\n",
    "    if test_data_path is not None:\n",
    "        # 미리 얻은 test_dataset으로 test\n",
    "        test_s_mat = sparse.load_npz(test_data_path).astype(np.float32).toarray()\n",
    "        if rand_like:\n",
    "            test_s_mat = random_sample(test_s_mat.shape[0], test_s_mat.shape[1])\n",
    "    else:\n",
    "        test_s_mat = np.random.randint(2,size=train_s_mat.shape)\n",
    "    if log:\n",
    "        print_sparcity(test_s_mat)\n",
    "    test_dataset = AEDataset(test_s_mat, test_ratio=test_ratio, edit_mat=edit_mat, log=log)\n",
    "    test_dataloader = DataLoader(test_dataset, batch_size=cfg[\"batch_size\"])\n",
    "    \n",
    "    return test_dataloader"
   ]
  },
  {
   "cell_type": "code",
   "execution_count": 15,
   "id": "6e1d3119",
   "metadata": {},
   "outputs": [
    {
     "name": "stdout",
     "output_type": "stream",
     "text": [
      "0 개수 : 66747396\n",
      "1 개수 : 707604\n",
      "sparsity : 0.9895099844340671\n",
      "\n",
      "1935\n",
      "complete making test dict\n",
      "length of failed test data : 1\n",
      "\n",
      "train dict length : 354429\n",
      "test dict length : 353175\n",
      "set train_test_ratio : 0.5\n",
      "result train_test_ratio : 0.4991139111706548\n"
     ]
    }
   ],
   "source": [
    "# 미리 얻은 test_dataset으로 test\n",
    "test_data_path = f'{cfg[\"data_dir\"]}/{cfg[\"data_file\"]}'\n",
    "test_dataloader = get_test_dataloader(test_ratio=0.7, edit_mat=True, test_data_path = test_data_path, rand_like=False)"
   ]
  },
  {
   "cell_type": "code",
   "execution_count": 144,
   "id": "eeefa124",
   "metadata": {},
   "outputs": [
    {
     "name": "stdout",
     "output_type": "stream",
     "text": [
      "0 개수 : 66449668\n",
      "1 개수 : 1005332\n",
      "sparsity : 0.9850962567637684\n",
      "complete making test dict\n",
      "length of failed test data : 0\n",
      "\n",
      "train dict length : 704853\n",
      "test dict length : 300479\n",
      "set train_test_ratio : 0.3\n",
      "result train_test_ratio : 0.29888534334926176\n"
     ]
    }
   ],
   "source": [
    "# 실제와 비슷한 sparcity로 생성\n",
    "test_all_rand_dataloader = get_test_dataloader(test_ratio=0.3, edit_mat=True, test_data_path = test_data_path, rand_like=True)"
   ]
  },
  {
   "cell_type": "code",
   "execution_count": 145,
   "id": "58e2816e",
   "metadata": {},
   "outputs": [
    {
     "name": "stdout",
     "output_type": "stream",
     "text": [
      "0 개수 : 33726607\n",
      "1 개수 : 33728393\n",
      "sparsity : 0.49998676154473354\n",
      "complete making test dict\n",
      "length of failed test data : 0\n",
      "\n",
      "train dict length : 23611013\n",
      "test dict length : 10117380\n",
      "set train_test_ratio : 0.3\n",
      "result train_test_ratio : 0.29996626284566835\n"
     ]
    }
   ],
   "source": [
    "# 완전 랜덤으로 생성 \n",
    "test_rand_dataloader = get_test_dataloader(test_ratio=0.3, edit_mat=True, rand_like=False)"
   ]
  },
  {
   "attachments": {},
   "cell_type": "markdown",
   "id": "41fcf01b",
   "metadata": {},
   "source": [
    "### Model Comparing"
   ]
  },
  {
   "cell_type": "code",
   "execution_count": 33,
   "id": "8a0642d2",
   "metadata": {},
   "outputs": [],
   "source": [
    "# 모델 불러오기\n",
    "ease = EASE(300)\n",
    "ease.B = sparse.load_npz('./saved_model/ease_model.npz').toarray()"
   ]
  },
  {
   "cell_type": "code",
   "execution_count": 33,
   "id": "796ca000",
   "metadata": {},
   "outputs": [
    {
     "data": {
      "text/plain": [
       "<All keys matched successfully>"
      ]
     },
     "execution_count": 33,
     "metadata": {},
     "output_type": "execute_result"
    }
   ],
   "source": [
    "num_problem = test_s_mat.shape[1]\n",
    "#cfg['K'] = 1024\n",
    "#ae = AutoEncoder(num_problem, cfg)\n",
    "ae_const = AutoEncoder(num_problem, cfg)\n",
    "#ae.load_state_dict(torch.load(f\"./saved_model/auto_encoder_K_1024_const.pt\"))\n",
    "ae_const.load_state_dict(torch.load(f\"./saved_model/auto_encoder_K_1024_const_g.pt\"))\n",
    "#ae_const.load_state_dict(torch.load(cfg[\"model_path\"]))"
   ]
  },
  {
   "attachments": {},
   "cell_type": "markdown",
   "id": "6def0559",
   "metadata": {},
   "source": [
    "## 실제 데이터 - 랜덤 데이터 비교"
   ]
  },
  {
   "cell_type": "code",
   "execution_count": 78,
   "id": "32e57bc0",
   "metadata": {
    "collapsed": true
   },
   "outputs": [
    {
     "name": "stdout",
     "output_type": "stream",
     "text": [
      "Test - AE_CONSTRAINT\n",
      "\n",
      "\n",
      "[ REAL DATA ]\n",
      "precision : [0.91572629 0.87022809 0.72493798]\n",
      "recall : [0.12021676 0.22752979 0.46397714]\n",
      "ndcg : [0.92628467 0.89091788 0.77453269]\n",
      "test_loss : 0.0\n",
      "\n",
      "[ ALL_RANDOM DATA ]\n"
     ]
    },
    {
     "ename": "NameError",
     "evalue": "name 'test_all_rand_dataloader' is not defined",
     "output_type": "error",
     "traceback": [
      "\u001b[1;31m---------------------------------------------------------------------------\u001b[0m",
      "\u001b[1;31mNameError\u001b[0m                                 Traceback (most recent call last)",
      "Cell \u001b[1;32mIn[78], line 6\u001b[0m\n\u001b[0;32m      4\u001b[0m print_result(res)\n\u001b[0;32m      5\u001b[0m \u001b[38;5;28mprint\u001b[39m(\u001b[38;5;124m\"\u001b[39m\u001b[38;5;130;01m\\n\u001b[39;00m\u001b[38;5;124m[ ALL_RANDOM DATA ]\u001b[39m\u001b[38;5;124m\"\u001b[39m)\n\u001b[1;32m----> 6\u001b[0m res \u001b[38;5;241m=\u001b[39m _test_loop(\u001b[43mtest_all_rand_dataloader\u001b[49m, ae_const, cfg)\n\u001b[0;32m      7\u001b[0m print_result(res)\n\u001b[0;32m      9\u001b[0m \u001b[38;5;28mprint\u001b[39m(\u001b[38;5;124m\"\u001b[39m\u001b[38;5;130;01m\\n\u001b[39;00m\u001b[38;5;124m[ RANDOM DATA ]\u001b[39m\u001b[38;5;124m\"\u001b[39m)\n",
      "\u001b[1;31mNameError\u001b[0m: name 'test_all_rand_dataloader' is not defined"
     ]
    }
   ],
   "source": [
    "print(\"Test - AE_CONSTRAINT\\n\")\n",
    "print(\"\\n[ REAL DATA ]\")\n",
    "res = _test_loop(train_dataloader, ae_const, cfg)\n",
    "print_result(res)\n",
    "print(\"\\n[ ALL_RANDOM DATA ]\")\n",
    "res = _test_loop(test_all_rand_dataloader, ae_const, cfg)\n",
    "print_result(res)\n",
    "\n",
    "print(\"\\n[ RANDOM DATA ]\")\n",
    "res = _test_loop(test_rand_dataloader, ae_const, cfg)\n",
    "print_result(res)"
   ]
  },
  {
   "attachments": {},
   "cell_type": "markdown",
   "id": "1de434df",
   "metadata": {},
   "source": [
    "## 테스트 비교"
   ]
  },
  {
   "cell_type": "code",
   "execution_count": null,
   "id": "b860ea79",
   "metadata": {},
   "outputs": [],
   "source": [
    "# 테스트 케이스 여러개 실험\n",
    "mean_prec = 0\n",
    "for i in tqdm(range(100)):\n",
    "    test_dataloader = get_test_dataloader(test_ratio=0.3, edit_mat=True, test_data_path = test_data_path, rand_like=False, log=False)\n",
    "    res = _test_loop(test_dataloader, ae_const, cfg)\n",
    "    mean_prec += res['precision'][0]\n",
    "\n",
    "    print(res['precision'][0])\n",
    "    \n",
    "print(mean_prec/100)"
   ]
  },
  {
   "cell_type": "code",
   "execution_count": 49,
   "id": "c9bf78e4",
   "metadata": {},
   "outputs": [
    {
     "name": "stdout",
     "output_type": "stream",
     "text": [
      "0 개수 : 66747396\n",
      "1 개수 : 707604\n",
      "sparsity : 0.9895099844340671\n",
      "\n",
      "1004\n",
      "complete making test dict\n",
      "length of failed test data : 26\n",
      "\n",
      "train dict length : 493564\n",
      "test dict length : 209924\n",
      "set train_test_ratio : 0.3\n",
      "result train_test_ratio : 0.2984045214701601\n"
     ]
    }
   ],
   "source": [
    "# 미리 얻은 test_dataset으로 test\n",
    "test_data_path = f'{cfg[\"data_dir\"]}/{cfg[\"data_file\"]}'\n",
    "test_dataloader = get_test_dataloader(test_ratio=0.3, edit_mat=True, test_data_path = test_data_path, rand_like=False)"
   ]
  },
  {
   "cell_type": "code",
   "execution_count": 34,
   "id": "c6a6eba8",
   "metadata": {},
   "outputs": [
    {
     "name": "stdout",
     "output_type": "stream",
     "text": [
      "Test - AE_Const\n",
      "[ REAL DATA ]\n",
      "precision : [0.96467259 0.92920372 0.79510105]\n",
      "recall : [0.12592511 0.24125968 0.50412026]\n",
      "ndcg : [0.97123425 0.94425348 0.83860836]\n",
      "test_loss : 0.0\n"
     ]
    }
   ],
   "source": [
    "print(\"Test - AE_Const\")\n",
    "print(\"[ REAL DATA ]\")\n",
    "res = _test_loop(test_dataloader, ae_const, cfg)\n",
    "print_result(res)"
   ]
  },
  {
   "cell_type": "code",
   "execution_count": 31,
   "id": "2ede01fd",
   "metadata": {
    "collapsed": true
   },
   "outputs": [
    {
     "name": "stdout",
     "output_type": "stream",
     "text": [
      "Test - AE\n",
      "[ REAL DATA ]\n"
     ]
    },
    {
     "ename": "NameError",
     "evalue": "name 'ae' is not defined",
     "output_type": "error",
     "traceback": [
      "\u001b[1;31m---------------------------------------------------------------------------\u001b[0m",
      "\u001b[1;31mNameError\u001b[0m                                 Traceback (most recent call last)",
      "Cell \u001b[1;32mIn[31], line 3\u001b[0m\n\u001b[0;32m      1\u001b[0m \u001b[38;5;28mprint\u001b[39m(\u001b[38;5;124m\"\u001b[39m\u001b[38;5;124mTest - AE\u001b[39m\u001b[38;5;124m\"\u001b[39m)\n\u001b[0;32m      2\u001b[0m \u001b[38;5;28mprint\u001b[39m(\u001b[38;5;124m\"\u001b[39m\u001b[38;5;124m[ REAL DATA ]\u001b[39m\u001b[38;5;124m\"\u001b[39m)\n\u001b[1;32m----> 3\u001b[0m res \u001b[38;5;241m=\u001b[39m _test_loop(test_dataloader, \u001b[43mae\u001b[49m, cfg)\n\u001b[0;32m      4\u001b[0m print_result(res)\n",
      "\u001b[1;31mNameError\u001b[0m: name 'ae' is not defined"
     ]
    }
   ],
   "source": [
    "print(\"Test - AE\")\n",
    "print(\"[ REAL DATA ]\")\n",
    "res = _test_loop(test_dataloader, ae, cfg)\n",
    "print_result(res)"
   ]
  },
  {
   "cell_type": "code",
   "execution_count": 29,
   "id": "2fdd0012",
   "metadata": {},
   "outputs": [
    {
     "name": "stdout",
     "output_type": "stream",
     "text": [
      "Test - EASE\n",
      "[ REAL DATA ]\n",
      "model is not a torch model\n",
      "precision : [0.96139854 0.92590946 0.79523848]\n",
      "recall : [0.12548272 0.24037884 0.50482716]\n",
      "ndcg : [0.96910368 0.94180521 0.83839845]\n",
      "test_loss : 0.004028800863008468\n"
     ]
    }
   ],
   "source": [
    "print(\"Test - EASE\")\n",
    "print(\"[ REAL DATA ]\")\n",
    "res = _test_loop(test_dataloader, ease, cfg, loss_fn)\n",
    "print_result(res)\n",
    "\n",
    "# print(\"\\n[ ALL_RANDOM DATA ]\")\n",
    "# res = _test_loop(test_all_rand_dataloadder, ease, cfg, loss_fn)\n",
    "# print_result(res)\n",
    "\n",
    "# print(\"\\n[ RANDOM DATA ]\")\n",
    "# res = _test_loop(test_rand_dataloader, ease, cfg, loss_fn)\n",
    "# print_result(res)"
   ]
  },
  {
   "attachments": {},
   "cell_type": "markdown",
   "id": "feb69ce2",
   "metadata": {},
   "source": [
    "## 임베딩 시각화"
   ]
  },
  {
   "cell_type": "code",
   "execution_count": 40,
   "id": "fb12277e",
   "metadata": {},
   "outputs": [],
   "source": [
    "from sklearn.datasets import load_digits\n",
    "from sklearn.manifold import TSNE\n",
    "import seaborn as sns\n",
    "from matplotlib import pyplot as plt"
   ]
  },
  {
   "cell_type": "code",
   "execution_count": 12,
   "id": "437c20d5",
   "metadata": {},
   "outputs": [],
   "source": [
    "# 태그로 라벨링\n",
    "selected_tags = ['그리디 알고리즘', '다이나믹 프로그래밍', '브루트포스 알고리즘', '이분 탐색',\n",
    "                '너비 우선 탐색', '깊이 우선 탐색', '데이크스트라', '플로이드–워셜', '비트마스킹', '분리 집합']\n",
    "selected_tags_to_code = ['greedy','dynamic','broute','binary', 'bfs','dfs','dijks', 'floyd','bit','union']\n",
    "\n",
    "tag_problem_mat = pd.read_csv(f\"{cfg['data_dir']}/tag_problem_mat_all.csv\", index_col = 0)\n",
    "tag_problem_mat_trans = tag_problem_mat.T\n",
    "tag_problem_mat_trans = tag_problem_mat_trans[selected_tags] # shape = (?, 10)\n",
    "tag_problem_mat = tag_problem_mat_trans.T\n",
    "tag_problem_mat_np = np.array(tag_problem_mat)\n",
    "\n",
    "labels = np.array(['others'] * num_problem)\n",
    "\n",
    "for i, tag in enumerate(selected_tags):\n",
    "    num_list = tag_problem_mat_np[i].nonzero()[0]  \n",
    "    labels[num_list] = selected_tags_to_code[i]\n",
    "\n",
    "selected = np.where(labels!='others')\n",
    "labels = labels[selected]"
   ]
  },
  {
   "cell_type": "code",
   "execution_count": 43,
   "id": "5dbdfe24",
   "metadata": {},
   "outputs": [],
   "source": [
    "# 푼 문제, 안푼 문제로 라벨링\n",
    "train_user_problem_mat = pd.read_csv(f\"{cfg['data_dir']}/train_user_problem_mat.csv\", index_col = 0)\n",
    "user_problem_mat = np.array(train_user_problem_mat)"
   ]
  },
  {
   "cell_type": "code",
   "execution_count": 44,
   "id": "d222a304",
   "metadata": {},
   "outputs": [],
   "source": [
    "labels = np.array(['no'] * num_problem)\n",
    "yes = user_problem_mat.sum(0).nonzero()[0]\n",
    "no = np.where(user_problem_mat.sum(0)==0)[0]\n",
    "labels[yes] = 'yes'"
   ]
  },
  {
   "cell_type": "code",
   "execution_count": 45,
   "id": "b5b6c2a2",
   "metadata": {},
   "outputs": [],
   "source": [
    "num_yes = len(yes)"
   ]
  },
  {
   "cell_type": "code",
   "execution_count": 46,
   "id": "9285a1a3",
   "metadata": {},
   "outputs": [],
   "source": [
    "# 축소한 차원의 수를 정합니다.\n",
    "n_components = 2\n",
    "# TSNE 모델의 인스턴스를 만듭니다.\n",
    "model = TSNE(n_components=n_components, perplexity=30)"
   ]
  },
  {
   "cell_type": "code",
   "execution_count": 106,
   "id": "56ef0a9e",
   "metadata": {},
   "outputs": [],
   "source": [
    "mul_emb = ae.I_1.weight.T @ ae.I_2.weight.T"
   ]
  },
  {
   "cell_type": "code",
   "execution_count": 107,
   "id": "f2bf619e",
   "metadata": {},
   "outputs": [],
   "source": [
    "mul_emb = mul_emb.cpu().detach().numpy()"
   ]
  },
  {
   "cell_type": "code",
   "execution_count": 78,
   "id": "a369d4a9",
   "metadata": {},
   "outputs": [],
   "source": [
    "ae_mul_embedded = model.fit_transform(mul_emb)"
   ]
  },
  {
   "cell_type": "code",
   "execution_count": 79,
   "id": "24cb55ce",
   "metadata": {},
   "outputs": [
    {
     "name": "stderr",
     "output_type": "stream",
     "text": [
      "C:\\Users\\suhan\\AppData\\Local\\Temp\\ipykernel_15744\\656586385.py:3: UserWarning: The palette list has more values (10) than needed (2), which may not be intended.\n",
      "  sns.scatterplot(x=ae_mul_embedded[:,0], y=ae_mul_embedded[:,1], hue=labels, legend='full', palette=palette)\n"
     ]
    },
    {
     "data": {
      "image/png": "[encoded data removed]",
      "text/plain": [
       "<Figure size 640x480 with 1 Axes>"
      ]
     },
     "metadata": {},
     "output_type": "display_data"
    }
   ],
   "source": [
    "plt.title(\"AUTO_ENCODER_mul_embedding\")\n",
    "palette = sns.color_palette(\"bright\", 10)\n",
    "sns.scatterplot(x=ae_mul_embedded[:,0], y=ae_mul_embedded[:,1], hue=labels, legend='full', palette=palette)\n",
    "plt.show()"
   ]
  },
  {
   "cell_type": "code",
   "execution_count": 49,
   "id": "1d1b7780",
   "metadata": {},
   "outputs": [
    {
     "name": "stderr",
     "output_type": "stream",
     "text": [
      "C:\\Users\\suhan\\AppData\\Local\\Temp\\ipykernel_1252\\1530613956.py:9: UserWarning: The palette list has more values (10) than needed (2), which may not be intended.\n",
      "  sns.scatterplot(x=ae_mul_embedded[:,0], y=ae_mul_embedded[:,1], hue=labels, legend='full', palette=palette)\n"
     ]
    },
    {
     "data": {
      "image/png": "[encoded data removed]",
      "text/plain": [
       "<Figure size 640x480 with 1 Axes>"
      ]
     },
     "metadata": {},
     "output_type": "display_data"
    }
   ],
   "source": [
    "mul_emb = ae_const.I_1.weight.T @ ae_const.I_2.weight.T\n",
    "\n",
    "mul_emb = mul_emb.cpu().detach().numpy()\n",
    "\n",
    "ae_mul_embedded = model.fit_transform(mul_emb)\n",
    "\n",
    "plt.title(\"AUTO_ENCODER_CONSTRAINT_mul_embedding\")\n",
    "palette = sns.color_palette(\"bright\", 10)\n",
    "sns.scatterplot(x=ae_mul_embedded[:,0], y=ae_mul_embedded[:,1], hue=labels, legend='full', palette=palette)\n",
    "plt.show()"
   ]
  },
  {
   "cell_type": "code",
   "execution_count": 36,
   "id": "46eea8d0",
   "metadata": {},
   "outputs": [],
   "source": [
    "ease_embedded = model.fit_transform(ease.B.transpose())"
   ]
  },
  {
   "cell_type": "code",
   "execution_count": 37,
   "id": "5edfcebb",
   "metadata": {},
   "outputs": [
    {
     "name": "stderr",
     "output_type": "stream",
     "text": [
      "C:\\Users\\suhan\\AppData\\Local\\Temp\\ipykernel_13884\\154922973.py:3: UserWarning: The palette list has more values (10) than needed (2), which may not be intended.\n",
      "  sns.scatterplot(x=ease_embedded[:,0], y=ease_embedded[:,1], hue=labels, legend='full', palette=palette)\n"
     ]
    },
    {
     "data": {
      "image/png": "[encoded data removed]",
      "text/plain": [
       "<Figure size 640x480 with 1 Axes>"
      ]
     },
     "metadata": {},
     "output_type": "display_data"
    }
   ],
   "source": [
    "plt.title(\"EASE_embedding\")\n",
    "palette = sns.color_palette(\"bright\", 10)\n",
    "sns.scatterplot(x=ease_embedded[:,0], y=ease_embedded[:,1], hue=labels, legend='full', palette=palette)\n",
    "plt.show()"
   ]
  },
  {
   "cell_type": "code",
   "execution_count": 38,
   "id": "131b8ff3",
   "metadata": {},
   "outputs": [],
   "source": [
    "ease_embedded_clip = np.clip(ease_embedded,-200,200)"
   ]
  },
  {
   "cell_type": "code",
   "execution_count": 39,
   "id": "b8f1193e",
   "metadata": {},
   "outputs": [
    {
     "name": "stderr",
     "output_type": "stream",
     "text": [
      "C:\\Users\\suhan\\AppData\\Local\\Temp\\ipykernel_13884\\700786308.py:3: UserWarning: The palette list has more values (10) than needed (2), which may not be intended.\n",
      "  sns.scatterplot(x=ease_embedded_clip[:,0], y=ease_embedded_clip[:,1], hue=labels, legend='full', palette=palette)\n"
     ]
    },
    {
     "data": {
      "image/png": "[encoded data removed]",
      "text/plain": [
       "<Figure size 640x480 with 1 Axes>"
      ]
     },
     "metadata": {},
     "output_type": "display_data"
    }
   ],
   "source": [
    "plt.title(\"EASE_embedding_clip\")\n",
    "palette = sns.color_palette(\"bright\", 10)\n",
    "sns.scatterplot(x=ease_embedded_clip[:,0], y=ease_embedded_clip[:,1], hue=labels, legend='full', palette=palette)\n",
    "plt.show()"
   ]
  },
  {
   "attachments": {},
   "cell_type": "markdown",
   "id": "f710f629",
   "metadata": {},
   "source": [
    "## 문제 유사도 시각화"
   ]
  },
  {
   "cell_type": "code",
   "execution_count": 15,
   "id": "ba6daf1e",
   "metadata": {},
   "outputs": [],
   "source": [
    "import matplotlib.pyplot as plt\n",
    "from mpl_toolkits.mplot3d import Axes3D"
   ]
  },
  {
   "cell_type": "code",
   "execution_count": 52,
   "id": "8b4f3a5c",
   "metadata": {},
   "outputs": [],
   "source": [
    "%matplotlib inline"
   ]
  },
  {
   "cell_type": "code",
   "execution_count": 83,
   "id": "b581b2a6",
   "metadata": {},
   "outputs": [],
   "source": [
    "x = list(range(num_problem))"
   ]
  },
  {
   "cell_type": "code",
   "execution_count": 103,
   "id": "50284601",
   "metadata": {},
   "outputs": [],
   "source": [
    "y = ease.B.T[0].flatten()"
   ]
  },
  {
   "cell_type": "code",
   "execution_count": 104,
   "id": "2d130cf3",
   "metadata": {},
   "outputs": [
    {
     "data": {
      "text/plain": [
       "array([ 1557,     1,  1438, ..., 14596,  3386,  1638], dtype=int64)"
      ]
     },
     "execution_count": 104,
     "metadata": {},
     "output_type": "execute_result"
    }
   ],
   "source": [
    "np.argsort(y)[::-1]"
   ]
  },
  {
   "cell_type": "code",
   "execution_count": 105,
   "id": "524e73db",
   "metadata": {},
   "outputs": [
    {
     "data": {
      "image/png": "[encoded data removed]",
      "text/plain": [
       "<Figure size 640x480 with 1 Axes>"
      ]
     },
     "metadata": {},
     "output_type": "display_data"
    }
   ],
   "source": [
    "plt.plot(x,y)\n",
    "plt.show()"
   ]
  },
  {
   "attachments": {},
   "cell_type": "markdown",
   "id": "6d8d42db",
   "metadata": {},
   "source": [
    "# 유저에 따른 문제 추천"
   ]
  },
  {
   "cell_type": "code",
   "execution_count": 112,
   "id": "43e53b30",
   "metadata": {},
   "outputs": [
    {
     "data": {
      "text/plain": [
       "MFGDTorch(\n",
       "  (I_1): Linear(in_features=26982, out_features=128, bias=True)\n",
       "  (I_2): Linear(in_features=128, out_features=26982, bias=True)\n",
       ")"
      ]
     },
     "execution_count": 112,
     "metadata": {},
     "output_type": "execute_result"
    }
   ],
   "source": [
    "# 모델 불러오기\n",
    "RecModel = AutoEncoder(train_s_mat, cfg)\n",
    "RecModel.load_state_dict(torch.load(cfg[\"model_path\"]))\n",
    "RecModel.eval()"
   ]
  },
  {
   "cell_type": "code",
   "execution_count": 116,
   "id": "06556742",
   "metadata": {},
   "outputs": [],
   "source": [
    "st_pb_num = 1000\n",
    "ed_pb_num = 27981\n",
    "num_problem = ed_pb_num - st_pb_num + 1  # 1000 ~ 27981\n",
    "\n",
    "NUM_TOP_PROBLEMS = 10\n",
    "user_id = 'faang12594'"
   ]
  },
  {
   "cell_type": "code",
   "execution_count": 117,
   "id": "aae23a4f",
   "metadata": {},
   "outputs": [
    {
     "name": "stdout",
     "output_type": "stream",
     "text": [
      "범위를 벗어난 문제 번호 : 26982\n",
      "범위를 벗어난 문제 번호 : 26983\n"
     ]
    }
   ],
   "source": [
    "user_problem = np.zeros([1, num_problem])\n",
    "add_to_user_problem_mat(0, user_id, user_problem)\n",
    "\n",
    "result = RecModel.getUsersRating(user_problem)"
   ]
  },
  {
   "cell_type": "code",
   "execution_count": 118,
   "id": "d655f00c",
   "metadata": {},
   "outputs": [
    {
     "name": "stdout",
     "output_type": "stream",
     "text": [
      "[[16234 11657  1707  1976 17609 21758  1655  4149  5615  2436]]\n"
     ]
    }
   ],
   "source": [
    "# 유저가 푼 문제와 비슷한 유형 추천 - 예전\n",
    "result[user_problem.nonzero()] = -np.inf\n",
    "top_problems_by_user = bn.argpartition(-result, NUM_TOP_PROBLEMS, axis=1)[:, :NUM_TOP_PROBLEMS] # 값이 큰 10개 문제 고름\n",
    "top_problems_by_user += 1000\n",
    "print(top_problems_by_user)"
   ]
  }
 ],
 "metadata": {
  "kernelspec": {
   "display_name": "Python 3 (ipykernel)",
   "language": "python",
   "name": "python3"
  },
  "language_info": {
   "codemirror_mode": {
    "name": "ipython",
    "version": 3
   },
   "file_extension": ".py",
   "mimetype": "text/x-python",
   "name": "python",
   "nbconvert_exporter": "python",
   "pygments_lexer": "ipython3",
   "version": "3.10.9"
  }
 },
 "nbformat": 4,
 "nbformat_minor": 5
}
