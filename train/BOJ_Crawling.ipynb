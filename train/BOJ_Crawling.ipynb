{
 "cells": [
  {
   "cell_type": "markdown",
   "id": "e904f962",
   "metadata": {},
   "source": [
    "# BOJ에서 유저가이 푼 문제 목록 정리"
   ]
  },
  {
   "cell_type": "code",
   "execution_count": 3,
   "id": "7ece761a",
   "metadata": {},
   "outputs": [],
   "source": [
    "import numpy as np\n",
    "import requests\n",
    "from bs4 import BeautifulSoup\n",
    "import pandas as pd\n",
    "from tqdm import tqdm\n",
    "import bottleneck as bn\n",
    "import pickle\n",
    "import time \n",
    "import random\n",
    "import math\n",
    "from sklearn.model_selection import train_test_split\n",
    "from scipy import sparse"
   ]
  },
  {
   "cell_type": "code",
   "execution_count": 2,
   "id": "f50a3697",
   "metadata": {},
   "outputs": [],
   "source": [
    "headers = {\n",
    "    'User-Agent': 'Mozilla/5.0 (Windows NT 10.0; Win64; x64)AppleWebKit/537.36 (KHTML, like Gecko) Chrome/73.0.3683.86 Safari/537.36'}\n",
    "\n",
    "def add_ids(page_num : int, user_ids: list, sample_len : int = 5):\n",
    "    data = requests.get(f'https://www.acmicpc.net/ranklist/{page_num}', headers=headers)\n",
    "    soup = BeautifulSoup(data.text, 'html.parser')\n",
    "    trs = soup.select('tbody > tr')\n",
    "\n",
    "    user_len = len(trs) # 최대 100명 임\n",
    "    \n",
    "    if user_len < sample_len :\n",
    "        sample_len = user_len\n",
    "\n",
    "    sample_nums = random.sample(range(0,user_len),sample_len)\n",
    "\n",
    "    for num in sample_nums:\n",
    "        tr = trs[num]\n",
    "        user_ids.append(tr.select_one('td:nth-child(2) > a').text)\n",
    "        \n",
    "        \n",
    "def add_group_ids(group_num,page_num, user_ids : list):\n",
    "    data = requests.get(f'https://www.acmicpc.net/school/ranklist/{group_num}/{page_num}', headers=headers)\n",
    "    soup = BeautifulSoup(data.text, 'html.parser')\n",
    "    trs = soup.select('tbody > tr')\n",
    "\n",
    "    for tr in trs:\n",
    "        user_ids.append(tr.select_one('td:nth-child(2) > a').text)\n",
    "\n",
    "def add_to_user_problem_mat(idx, id, user_problem_mat : np.array):\n",
    "    data = requests.get(f'https://www.acmicpc.net/user/{id}', headers=headers)\n",
    "    soup = BeautifulSoup(data.text, 'html.parser')\n",
    "    trs = soup.select('div.problem-list')\n",
    "\n",
    "    for tr in trs:\n",
    "        problem_nums = tr.select('a')\n",
    "            \n",
    "        for problem_num in problem_nums :\n",
    "\n",
    "            problem_num = int(problem_num.text) - 1000\n",
    "            #print(problem_num)\n",
    "            try:\n",
    "                user_problem_mat[idx,problem_num] = 1\n",
    "            except:\n",
    "                print(\"범위를 벗어난 문제 번호 : \" + str(problem_num))\n",
    "                \n",
    "def gen_user_problem_mat(id, user_problem : dict, problem_num_set : set):\n",
    "    data = requests.get(f'https://www.acmicpc.net/user/{id}', headers=headers)\n",
    "    soup = BeautifulSoup(data.text, 'html.parser')\n",
    "    trs = soup.select('div.problem-list')\n",
    "\n",
    "    time.sleep(0.1)\n",
    "    \n",
    "    user_problem[id] = []\n",
    "    \n",
    "    for tr in trs:\n",
    "        problem_nums = tr.select('a')\n",
    "        for problem_num in problem_nums :\n",
    "            problem_num = int(problem_num.text)\n",
    "            #print(problem_num)\n",
    "            user_problem[id].append(problem_num)\n",
    "            problem_num_set.add(problem_num)\n",
    "                \n",
    "def add_to_tag_pb(pb_nums : str, tag_pb : dict, tag_name_to_id : dict, num_problem: int):    \n",
    "    resp = requests.get(f\"https://solved.ac/api/v3/problem/lookup?problemIds={pb_nums}\", headers = {'Content-Type': 'application/json'})\n",
    "    \n",
    "    if resp.status_code != 200: \n",
    "        print(f'{resp.status_code} : {pb_num} - error!!!')\n",
    "        return\n",
    "    \n",
    "    jsons = resp.json()\n",
    "    #print(resp)\n",
    "    time.sleep(1)\n",
    "    \n",
    "    for json in jsons:\n",
    "        tags = json['tags']\n",
    "        pb_num = json['problemId']\n",
    "        tag_pb[pb_num] = []\n",
    "        for tag in tags:\n",
    "            for displayName in tag['displayNames']:\n",
    "                if displayName['language'] == 'ko' :\n",
    "                    tag_name = tag['displayNames'][0]['name']\n",
    "                    break\n",
    "            tag_pb[pb_num].append(tag_name)\n",
    "            tag_name_to_id[tag_name] = tag['bojTagId']\n",
    "    "
   ]
  },
  {
   "cell_type": "code",
   "execution_count": 3,
   "id": "f8716f9d",
   "metadata": {},
   "outputs": [],
   "source": [
    "st_pb_num = 1000\n",
    "ed_pb_num = 27981\n",
    "num_problem = ed_pb_num - st_pb_num + 1 # 1000 ~ 27981"
   ]
  },
  {
   "cell_type": "markdown",
   "id": "866a0071",
   "metadata": {},
   "source": [
    "# 태그 분석"
   ]
  },
  {
   "cell_type": "code",
   "execution_count": 4,
   "id": "a37ba90b",
   "metadata": {},
   "outputs": [],
   "source": [
    "# 태그-문제 매트릭 생성\n",
    "tag_pb = {}\n",
    "tag_name_to_id = {}\n",
    "num_sample_pbs = num_problem\n",
    "num_slice = 100\n",
    "#rand_pbs = np.random.randint(st_pb_num, ed_pb_num, num_sample_pbs)\n",
    "rand_pbs = list(range(st_pb_num,ed_pb_num+1))"
   ]
  },
  {
   "cell_type": "code",
   "execution_count": 5,
   "id": "240bf009",
   "metadata": {},
   "outputs": [
    {
     "name": "stderr",
     "output_type": "stream",
     "text": [
      "100%|████████████████████████████████████████████████████████████████████████████████| 270/270 [05:11<00:00,  1.15s/it]\n"
     ]
    }
   ],
   "source": [
    "for idx in tqdm(range(0,num_sample_pbs,num_slice)) :\n",
    "    rand_pbs_str = ','.join(str(e) for e in rand_pbs[idx:idx+num_slice])\n",
    "    add_to_tag_pb(rand_pbs_str, tag_pb, tag_name_to_id, num_problem)    "
   ]
  },
  {
   "cell_type": "code",
   "execution_count": 8,
   "id": "a9385170",
   "metadata": {},
   "outputs": [
    {
     "name": "stdout",
     "output_type": "stream",
     "text": [
      "26188\n"
     ]
    }
   ],
   "source": [
    "tags = tag_name_to_id.keys()\n",
    "print(len(tag_pb.keys()))\n",
    "tag_pb_mat = {}\n",
    "for pb in tag_pb.keys():\n",
    "    tag_pb_mat[pb] = {tag:0 for tag in tags}\n",
    "    for tag in tag_pb[pb]:\n",
    "        tag_pb_mat[pb][tag] = 1    "
   ]
  },
  {
   "cell_type": "code",
   "execution_count": null,
   "id": "aa90b9fe",
   "metadata": {},
   "outputs": [],
   "source": [
    "tag_list_all = np.array(list(tag_pb_mat.keys()))\n",
    "np.save('./tag_list_all.npy',tag_list_all)\n",
    "\n",
    "sparse_coo = sparse.coo_matrix(tag_problem_mat)\n",
    "sparse.save_npz('./tag_problem_mat_all.npz', sparse_coo)"
   ]
  },
  {
   "cell_type": "code",
   "execution_count": 4,
   "id": "79877440",
   "metadata": {},
   "outputs": [],
   "source": [
    "## 태그 분석 ##\n",
    "\n",
    "# pd.set_option('display.max_columns', None) # 모든 열 출력\n",
    "# pd.options.display.max_rows = 60 # 행 출력 초기화\n",
    "# pd.options.display.max_columns = 20 # 열 출력 초기화\n",
    "\n",
    "def get_ranking(mat, selected_tags, topk = 4):\n",
    "    tag_corr_ranking = {}\n",
    "    for tag in selected_tags:\n",
    "        tag_corr_ranking[tag]= list(mat[tag].sort_values(ascending=False).index)[1:1+topk]\n",
    "    return tag_corr_ranking\n",
    "\n",
    "selected_tags = ['그리디 알고리즘', '다이나믹 프로그래밍', '브루트포스 알고리즘', '이분 탐색',\n",
    "                '너비 우선 탐색', '깊이 우선 탐색', '데이크스트라', '플로이드–워셜', '비트마스킹', '분리 집합']"
   ]
  },
  {
   "cell_type": "code",
   "execution_count": 43,
   "id": "76b918f3",
   "metadata": {},
   "outputs": [],
   "source": [
    "# tag_problem_mat = pd.read_csv('./dataset/tag_problem_mat_all.csv', index_col=0)\n",
    "# tag_list_all = np.array(tag_problem_mat.index)\n",
    "# np.save('./tag_list_all.npy',tag_list_all)\n",
    "# prob_num_list_all = np.array(tag_problem_mat.columns)\n",
    "# np.save('./prob_num_list_all.npy',prob_num_list_all)"
   ]
  },
  {
   "cell_type": "code",
   "execution_count": null,
   "id": "5cba6c80",
   "metadata": {},
   "outputs": [],
   "source": [
    "tag_problem_mat = sparse.load_npz('./dataset/tag_problem_mat_all.npz').toarray()\n",
    "tag_list_all = np.load('./tag_list_all.npy', allow_pickle=True)"
   ]
  },
  {
   "cell_type": "code",
   "execution_count": 24,
   "id": "e14daae5",
   "metadata": {},
   "outputs": [],
   "source": [
    "tag_problem_mat_trans = tag_problem_mat.T\n",
    "tag_problem_mat_trans = tag_problem_mat_trans[selected_tags]\n",
    "tag_problem_mat = tag_problem_mat_trans.T"
   ]
  },
  {
   "cell_type": "code",
   "execution_count": 26,
   "id": "c781f409",
   "metadata": {},
   "outputs": [],
   "source": [
    "def get_problems_by_category(tag_name, tag_problem_mat):\n",
    "    selected_probs_by_tag = []\n",
    "    for tag_pro_row in tag_problem_mat:\n",
    "        if tag_problem_mat[tag_pro_row][tag_name]:\n",
    "            selected_probs_by_tag.append(int(tag_pro_row) - 1000)\n",
    "    return selected_probs_by_tag\n",
    "\n",
    "def set_tag_problem(tag_problem_mat):\n",
    "    selected_probs_by_tags = {}\n",
    "    idx_to_num = {}\n",
    "\n",
    "    for tag in selected_tags:\n",
    "        selected_probs_by_tags[tag] = get_problems_by_category(tag, tag_problem_mat)\n",
    "        idx_to_num[tag] = dict(zip(range(len(selected_probs_by_tags[tag])), selected_probs_by_tags[tag]))\n",
    "\n",
    "    return selected_probs_by_tags,idx_to_num\n",
    "\n",
    "selected_probs_by_tags,idx_to_num = set_tag_problem(tag_problem_mat)"
   ]
  },
  {
   "cell_type": "code",
   "execution_count": 34,
   "id": "295433e4",
   "metadata": {},
   "outputs": [
    {
     "name": "stdout",
     "output_type": "stream",
     "text": [
      "그리디 알고리즘 - 1841\n",
      "다이나믹 프로그래밍 - 3140\n",
      "브루트포스 알고리즘 - 1681\n",
      "이분 탐색 - 930\n",
      "너비 우선 탐색 - 803\n",
      "깊이 우선 탐색 - 668\n",
      "데이크스트라 - 446\n",
      "플로이드–워셜 - 141\n",
      "비트마스킹 - 565\n",
      "분리 집합 - 355\n"
     ]
    }
   ],
   "source": [
    "for key, value in selected_probs_by_tags.items():\n",
    "    print(key + \" - \" + str(len(value)))"
   ]
  },
  {
   "cell_type": "code",
   "execution_count": 16,
   "id": "d37e1e3c",
   "metadata": {},
   "outputs": [],
   "source": [
    "pearson = tag_problem_mat_trans.corr()"
   ]
  },
  {
   "cell_type": "code",
   "execution_count": 17,
   "id": "5718c567",
   "metadata": {},
   "outputs": [
    {
     "data": {
      "text/html": [
       "<div>\n",
       "<style scoped>\n",
       "    .dataframe tbody tr th:only-of-type {\n",
       "        vertical-align: middle;\n",
       "    }\n",
       "\n",
       "    .dataframe tbody tr th {\n",
       "        vertical-align: top;\n",
       "    }\n",
       "\n",
       "    .dataframe thead th {\n",
       "        text-align: right;\n",
       "    }\n",
       "</style>\n",
       "<table border=\"1\" class=\"dataframe\">\n",
       "  <thead>\n",
       "    <tr style=\"text-align: right;\">\n",
       "      <th></th>\n",
       "      <th>그리디 알고리즘</th>\n",
       "      <th>다이나믹 프로그래밍</th>\n",
       "      <th>브루트포스 알고리즘</th>\n",
       "      <th>이분 탐색</th>\n",
       "      <th>너비 우선 탐색</th>\n",
       "      <th>깊이 우선 탐색</th>\n",
       "      <th>데이크스트라</th>\n",
       "      <th>플로이드–워셜</th>\n",
       "      <th>비트마스킹</th>\n",
       "      <th>분리 집합</th>\n",
       "    </tr>\n",
       "  </thead>\n",
       "  <tbody>\n",
       "    <tr>\n",
       "      <th>그리디 알고리즘</th>\n",
       "      <td>1.000000</td>\n",
       "      <td>0.005177</td>\n",
       "      <td>-0.016560</td>\n",
       "      <td>0.017450</td>\n",
       "      <td>-0.030713</td>\n",
       "      <td>0.011406</td>\n",
       "      <td>-0.020033</td>\n",
       "      <td>-0.016150</td>\n",
       "      <td>-0.004852</td>\n",
       "      <td>0.011681</td>\n",
       "    </tr>\n",
       "    <tr>\n",
       "      <th>다이나믹 프로그래밍</th>\n",
       "      <td>0.005177</td>\n",
       "      <td>1.000000</td>\n",
       "      <td>-0.046789</td>\n",
       "      <td>0.000312</td>\n",
       "      <td>-0.024056</td>\n",
       "      <td>0.016332</td>\n",
       "      <td>0.000476</td>\n",
       "      <td>-0.004668</td>\n",
       "      <td>0.169300</td>\n",
       "      <td>-0.018872</td>\n",
       "    </tr>\n",
       "    <tr>\n",
       "      <th>브루트포스 알고리즘</th>\n",
       "      <td>-0.016560</td>\n",
       "      <td>-0.046789</td>\n",
       "      <td>1.000000</td>\n",
       "      <td>-0.021632</td>\n",
       "      <td>0.003123</td>\n",
       "      <td>0.007037</td>\n",
       "      <td>-0.017615</td>\n",
       "      <td>0.008408</td>\n",
       "      <td>0.071561</td>\n",
       "      <td>-0.025313</td>\n",
       "    </tr>\n",
       "    <tr>\n",
       "      <th>이분 탐색</th>\n",
       "      <td>0.017450</td>\n",
       "      <td>0.000312</td>\n",
       "      <td>-0.021632</td>\n",
       "      <td>1.000000</td>\n",
       "      <td>-0.006602</td>\n",
       "      <td>-0.014032</td>\n",
       "      <td>0.003447</td>\n",
       "      <td>-0.005659</td>\n",
       "      <td>-0.005772</td>\n",
       "      <td>0.032818</td>\n",
       "    </tr>\n",
       "    <tr>\n",
       "      <th>너비 우선 탐색</th>\n",
       "      <td>-0.030713</td>\n",
       "      <td>-0.024056</td>\n",
       "      <td>0.003123</td>\n",
       "      <td>-0.006602</td>\n",
       "      <td>1.000000</td>\n",
       "      <td>0.269051</td>\n",
       "      <td>0.055335</td>\n",
       "      <td>0.023234</td>\n",
       "      <td>0.033043</td>\n",
       "      <td>0.017458</td>\n",
       "    </tr>\n",
       "    <tr>\n",
       "      <th>깊이 우선 탐색</th>\n",
       "      <td>0.011406</td>\n",
       "      <td>0.016332</td>\n",
       "      <td>0.007037</td>\n",
       "      <td>-0.014032</td>\n",
       "      <td>0.269051</td>\n",
       "      <td>1.000000</td>\n",
       "      <td>-0.010064</td>\n",
       "      <td>0.017883</td>\n",
       "      <td>0.000980</td>\n",
       "      <td>0.066907</td>\n",
       "    </tr>\n",
       "    <tr>\n",
       "      <th>데이크스트라</th>\n",
       "      <td>-0.020033</td>\n",
       "      <td>0.000476</td>\n",
       "      <td>-0.017615</td>\n",
       "      <td>0.003447</td>\n",
       "      <td>0.055335</td>\n",
       "      <td>-0.010064</td>\n",
       "      <td>1.000000</td>\n",
       "      <td>0.070975</td>\n",
       "      <td>0.017018</td>\n",
       "      <td>0.002435</td>\n",
       "    </tr>\n",
       "    <tr>\n",
       "      <th>플로이드–워셜</th>\n",
       "      <td>-0.016150</td>\n",
       "      <td>-0.004668</td>\n",
       "      <td>0.008408</td>\n",
       "      <td>-0.005659</td>\n",
       "      <td>0.023234</td>\n",
       "      <td>0.017883</td>\n",
       "      <td>0.070975</td>\n",
       "      <td>1.000000</td>\n",
       "      <td>0.010623</td>\n",
       "      <td>-0.004113</td>\n",
       "    </tr>\n",
       "    <tr>\n",
       "      <th>비트마스킹</th>\n",
       "      <td>-0.004852</td>\n",
       "      <td>0.169300</td>\n",
       "      <td>0.071561</td>\n",
       "      <td>-0.005772</td>\n",
       "      <td>0.033043</td>\n",
       "      <td>0.000980</td>\n",
       "      <td>0.017018</td>\n",
       "      <td>0.010623</td>\n",
       "      <td>1.000000</td>\n",
       "      <td>-0.012862</td>\n",
       "    </tr>\n",
       "    <tr>\n",
       "      <th>분리 집합</th>\n",
       "      <td>0.011681</td>\n",
       "      <td>-0.018872</td>\n",
       "      <td>-0.025313</td>\n",
       "      <td>0.032818</td>\n",
       "      <td>0.017458</td>\n",
       "      <td>0.066907</td>\n",
       "      <td>0.002435</td>\n",
       "      <td>-0.004113</td>\n",
       "      <td>-0.012862</td>\n",
       "      <td>1.000000</td>\n",
       "    </tr>\n",
       "  </tbody>\n",
       "</table>\n",
       "</div>"
      ],
      "text/plain": [
       "            그리디 알고리즘  다이나믹 프로그래밍  브루트포스 알고리즘     이분 탐색  너비 우선 탐색  깊이 우선 탐색  \\\n",
       "그리디 알고리즘    1.000000    0.005177   -0.016560  0.017450 -0.030713  0.011406   \n",
       "다이나믹 프로그래밍  0.005177    1.000000   -0.046789  0.000312 -0.024056  0.016332   \n",
       "브루트포스 알고리즘 -0.016560   -0.046789    1.000000 -0.021632  0.003123  0.007037   \n",
       "이분 탐색       0.017450    0.000312   -0.021632  1.000000 -0.006602 -0.014032   \n",
       "너비 우선 탐색   -0.030713   -0.024056    0.003123 -0.006602  1.000000  0.269051   \n",
       "깊이 우선 탐색    0.011406    0.016332    0.007037 -0.014032  0.269051  1.000000   \n",
       "데이크스트라     -0.020033    0.000476   -0.017615  0.003447  0.055335 -0.010064   \n",
       "플로이드–워셜    -0.016150   -0.004668    0.008408 -0.005659  0.023234  0.017883   \n",
       "비트마스킹      -0.004852    0.169300    0.071561 -0.005772  0.033043  0.000980   \n",
       "분리 집합       0.011681   -0.018872   -0.025313  0.032818  0.017458  0.066907   \n",
       "\n",
       "              데이크스트라   플로이드–워셜     비트마스킹     분리 집합  \n",
       "그리디 알고리즘   -0.020033 -0.016150 -0.004852  0.011681  \n",
       "다이나믹 프로그래밍  0.000476 -0.004668  0.169300 -0.018872  \n",
       "브루트포스 알고리즘 -0.017615  0.008408  0.071561 -0.025313  \n",
       "이분 탐색       0.003447 -0.005659 -0.005772  0.032818  \n",
       "너비 우선 탐색    0.055335  0.023234  0.033043  0.017458  \n",
       "깊이 우선 탐색   -0.010064  0.017883  0.000980  0.066907  \n",
       "데이크스트라      1.000000  0.070975  0.017018  0.002435  \n",
       "플로이드–워셜     0.070975  1.000000  0.010623 -0.004113  \n",
       "비트마스킹       0.017018  0.010623  1.000000 -0.012862  \n",
       "분리 집합       0.002435 -0.004113 -0.012862  1.000000  "
      ]
     },
     "execution_count": 17,
     "metadata": {},
     "output_type": "execute_result"
    }
   ],
   "source": [
    "pearson"
   ]
  },
  {
   "cell_type": "code",
   "execution_count": 22,
   "id": "2d2d1657",
   "metadata": {},
   "outputs": [
    {
     "data": {
      "text/plain": [
       "{'그리디 알고리즘': ['이분 탐색', '깊이 우선 탐색', '다이나믹 프로그래밍', '플로이드–워셜'],\n",
       " '다이나믹 프로그래밍': ['깊이 우선 탐색', '그리디 알고리즘', '이분 탐색', '데이크스트라'],\n",
       " '브루트포스 알고리즘': ['플로이드–워셜', '깊이 우선 탐색', '너비 우선 탐색', '그리디 알고리즘'],\n",
       " '이분 탐색': ['그리디 알고리즘', '데이크스트라', '다이나믹 프로그래밍', '플로이드–워셜'],\n",
       " '너비 우선 탐색': ['깊이 우선 탐색', '데이크스트라', '플로이드–워셜', '브루트포스 알고리즘'],\n",
       " '깊이 우선 탐색': ['너비 우선 탐색', '다이나믹 프로그래밍', '플로이드–워셜', '그리디 알고리즘'],\n",
       " '데이크스트라': ['플로이드–워셜', '너비 우선 탐색', '이분 탐색', '다이나믹 프로그래밍'],\n",
       " '플로이드–워셜': ['데이크스트라', '너비 우선 탐색', '깊이 우선 탐색', '브루트포스 알고리즘']}"
      ]
     },
     "execution_count": 22,
     "metadata": {},
     "output_type": "execute_result"
    }
   ],
   "source": [
    "get_ranking(pearson, selected_tags)"
   ]
  },
  {
   "cell_type": "code",
   "execution_count": 62,
   "id": "b1c89fea",
   "metadata": {},
   "outputs": [],
   "source": [
    "intersect = tag_problem_mat.dot(tag_problem_mat_trans)\n",
    "#intersect.to_csv(\"./tag_tag_mat.csv\")"
   ]
  },
  {
   "cell_type": "code",
   "execution_count": 63,
   "id": "863b074c",
   "metadata": {},
   "outputs": [
    {
     "data": {
      "text/html": [
       "<div>\n",
       "<style scoped>\n",
       "    .dataframe tbody tr th:only-of-type {\n",
       "        vertical-align: middle;\n",
       "    }\n",
       "\n",
       "    .dataframe tbody tr th {\n",
       "        vertical-align: top;\n",
       "    }\n",
       "\n",
       "    .dataframe thead th {\n",
       "        text-align: right;\n",
       "    }\n",
       "</style>\n",
       "<table border=\"1\" class=\"dataframe\">\n",
       "  <thead>\n",
       "    <tr style=\"text-align: right;\">\n",
       "      <th></th>\n",
       "      <th>그리디 알고리즘</th>\n",
       "      <th>다이나믹 프로그래밍</th>\n",
       "      <th>브루트포스 알고리즘</th>\n",
       "      <th>이분 탐색</th>\n",
       "      <th>너비 우선 탐색</th>\n",
       "      <th>깊이 우선 탐색</th>\n",
       "      <th>데이크스트라</th>\n",
       "      <th>플로이드–워셜</th>\n",
       "      <th>비트마스킹</th>\n",
       "      <th>분리 집합</th>\n",
       "    </tr>\n",
       "  </thead>\n",
       "  <tbody>\n",
       "    <tr>\n",
       "      <th>그리디 알고리즘</th>\n",
       "      <td>1257</td>\n",
       "      <td>144</td>\n",
       "      <td>66</td>\n",
       "      <td>59</td>\n",
       "      <td>9</td>\n",
       "      <td>41</td>\n",
       "      <td>9</td>\n",
       "      <td>1</td>\n",
       "      <td>22</td>\n",
       "      <td>23</td>\n",
       "    </tr>\n",
       "    <tr>\n",
       "      <th>다이나믹 프로그래밍</th>\n",
       "      <td>144</td>\n",
       "      <td>2312</td>\n",
       "      <td>82</td>\n",
       "      <td>76</td>\n",
       "      <td>37</td>\n",
       "      <td>68</td>\n",
       "      <td>38</td>\n",
       "      <td>10</td>\n",
       "      <td>211</td>\n",
       "      <td>16</td>\n",
       "    </tr>\n",
       "    <tr>\n",
       "      <th>브루트포스 알고리즘</th>\n",
       "      <td>66</td>\n",
       "      <td>82</td>\n",
       "      <td>1289</td>\n",
       "      <td>26</td>\n",
       "      <td>43</td>\n",
       "      <td>44</td>\n",
       "      <td>8</td>\n",
       "      <td>9</td>\n",
       "      <td>82</td>\n",
       "      <td>3</td>\n",
       "    </tr>\n",
       "    <tr>\n",
       "      <th>이분 탐색</th>\n",
       "      <td>59</td>\n",
       "      <td>76</td>\n",
       "      <td>26</td>\n",
       "      <td>663</td>\n",
       "      <td>19</td>\n",
       "      <td>9</td>\n",
       "      <td>16</td>\n",
       "      <td>2</td>\n",
       "      <td>10</td>\n",
       "      <td>26</td>\n",
       "    </tr>\n",
       "    <tr>\n",
       "      <th>너비 우선 탐색</th>\n",
       "      <td>9</td>\n",
       "      <td>37</td>\n",
       "      <td>43</td>\n",
       "      <td>19</td>\n",
       "      <td>606</td>\n",
       "      <td>170</td>\n",
       "      <td>40</td>\n",
       "      <td>11</td>\n",
       "      <td>25</td>\n",
       "      <td>16</td>\n",
       "    </tr>\n",
       "    <tr>\n",
       "      <th>깊이 우선 탐색</th>\n",
       "      <td>41</td>\n",
       "      <td>68</td>\n",
       "      <td>44</td>\n",
       "      <td>9</td>\n",
       "      <td>170</td>\n",
       "      <td>480</td>\n",
       "      <td>7</td>\n",
       "      <td>8</td>\n",
       "      <td>8</td>\n",
       "      <td>31</td>\n",
       "    </tr>\n",
       "    <tr>\n",
       "      <th>데이크스트라</th>\n",
       "      <td>9</td>\n",
       "      <td>38</td>\n",
       "      <td>8</td>\n",
       "      <td>16</td>\n",
       "      <td>40</td>\n",
       "      <td>7</td>\n",
       "      <td>348</td>\n",
       "      <td>15</td>\n",
       "      <td>12</td>\n",
       "      <td>5</td>\n",
       "    </tr>\n",
       "    <tr>\n",
       "      <th>플로이드–워셜</th>\n",
       "      <td>1</td>\n",
       "      <td>10</td>\n",
       "      <td>9</td>\n",
       "      <td>2</td>\n",
       "      <td>11</td>\n",
       "      <td>8</td>\n",
       "      <td>15</td>\n",
       "      <td>119</td>\n",
       "      <td>6</td>\n",
       "      <td>1</td>\n",
       "    </tr>\n",
       "    <tr>\n",
       "      <th>비트마스킹</th>\n",
       "      <td>22</td>\n",
       "      <td>211</td>\n",
       "      <td>82</td>\n",
       "      <td>10</td>\n",
       "      <td>25</td>\n",
       "      <td>8</td>\n",
       "      <td>12</td>\n",
       "      <td>6</td>\n",
       "      <td>409</td>\n",
       "      <td>2</td>\n",
       "    </tr>\n",
       "    <tr>\n",
       "      <th>분리 집합</th>\n",
       "      <td>23</td>\n",
       "      <td>16</td>\n",
       "      <td>3</td>\n",
       "      <td>26</td>\n",
       "      <td>16</td>\n",
       "      <td>31</td>\n",
       "      <td>5</td>\n",
       "      <td>1</td>\n",
       "      <td>2</td>\n",
       "      <td>258</td>\n",
       "    </tr>\n",
       "  </tbody>\n",
       "</table>\n",
       "</div>"
      ],
      "text/plain": [
       "            그리디 알고리즘  다이나믹 프로그래밍  브루트포스 알고리즘  이분 탐색  너비 우선 탐색  깊이 우선 탐색  \\\n",
       "그리디 알고리즘        1257         144          66     59         9        41   \n",
       "다이나믹 프로그래밍       144        2312          82     76        37        68   \n",
       "브루트포스 알고리즘        66          82        1289     26        43        44   \n",
       "이분 탐색             59          76          26    663        19         9   \n",
       "너비 우선 탐색           9          37          43     19       606       170   \n",
       "깊이 우선 탐색          41          68          44      9       170       480   \n",
       "데이크스트라             9          38           8     16        40         7   \n",
       "플로이드–워셜            1          10           9      2        11         8   \n",
       "비트마스킹             22         211          82     10        25         8   \n",
       "분리 집합             23          16           3     26        16        31   \n",
       "\n",
       "            데이크스트라  플로이드–워셜  비트마스킹  분리 집합  \n",
       "그리디 알고리즘         9        1     22     23  \n",
       "다이나믹 프로그래밍      38       10    211     16  \n",
       "브루트포스 알고리즘       8        9     82      3  \n",
       "이분 탐색           16        2     10     26  \n",
       "너비 우선 탐색        40       11     25     16  \n",
       "깊이 우선 탐색         7        8      8     31  \n",
       "데이크스트라         348       15     12      5  \n",
       "플로이드–워셜         15      119      6      1  \n",
       "비트마스킹           12        6    409      2  \n",
       "분리 집합            5        1      2    258  "
      ]
     },
     "execution_count": 63,
     "metadata": {},
     "output_type": "execute_result"
    }
   ],
   "source": [
    "intersect"
   ]
  },
  {
   "cell_type": "code",
   "execution_count": 64,
   "id": "771a04c1",
   "metadata": {},
   "outputs": [],
   "source": [
    "Jaccard = {}\n",
    "for in_tag in selected_tags:\n",
    "    Jaccard[in_tag] = {}\n",
    "    for out_tag in selected_tags:\n",
    "        union = intersect[in_tag][in_tag] + intersect[out_tag][out_tag] - intersect[in_tag][out_tag]\n",
    "        Jaccard[in_tag][out_tag] = intersect[in_tag][out_tag] / union"
   ]
  },
  {
   "cell_type": "code",
   "execution_count": 65,
   "id": "dd7b25e7",
   "metadata": {},
   "outputs": [],
   "source": [
    "Jaccard = pd.DataFrame(Jaccard)"
   ]
  },
  {
   "cell_type": "code",
   "execution_count": 66,
   "id": "b5637327",
   "metadata": {},
   "outputs": [
    {
     "data": {
      "text/html": [
       "<div>\n",
       "<style scoped>\n",
       "    .dataframe tbody tr th:only-of-type {\n",
       "        vertical-align: middle;\n",
       "    }\n",
       "\n",
       "    .dataframe tbody tr th {\n",
       "        vertical-align: top;\n",
       "    }\n",
       "\n",
       "    .dataframe thead th {\n",
       "        text-align: right;\n",
       "    }\n",
       "</style>\n",
       "<table border=\"1\" class=\"dataframe\">\n",
       "  <thead>\n",
       "    <tr style=\"text-align: right;\">\n",
       "      <th></th>\n",
       "      <th>그리디 알고리즘</th>\n",
       "      <th>다이나믹 프로그래밍</th>\n",
       "      <th>브루트포스 알고리즘</th>\n",
       "      <th>이분 탐색</th>\n",
       "      <th>너비 우선 탐색</th>\n",
       "      <th>깊이 우선 탐색</th>\n",
       "      <th>데이크스트라</th>\n",
       "      <th>플로이드–워셜</th>\n",
       "      <th>비트마스킹</th>\n",
       "      <th>분리 집합</th>\n",
       "    </tr>\n",
       "  </thead>\n",
       "  <tbody>\n",
       "    <tr>\n",
       "      <th>그리디 알고리즘</th>\n",
       "      <td>1.000000</td>\n",
       "      <td>0.042044</td>\n",
       "      <td>0.026613</td>\n",
       "      <td>0.031703</td>\n",
       "      <td>0.004854</td>\n",
       "      <td>0.024175</td>\n",
       "      <td>0.005639</td>\n",
       "      <td>0.000727</td>\n",
       "      <td>0.013382</td>\n",
       "      <td>0.015416</td>\n",
       "    </tr>\n",
       "    <tr>\n",
       "      <th>다이나믹 프로그래밍</th>\n",
       "      <td>0.042044</td>\n",
       "      <td>1.000000</td>\n",
       "      <td>0.023302</td>\n",
       "      <td>0.026216</td>\n",
       "      <td>0.012843</td>\n",
       "      <td>0.024963</td>\n",
       "      <td>0.014493</td>\n",
       "      <td>0.004131</td>\n",
       "      <td>0.084064</td>\n",
       "      <td>0.006265</td>\n",
       "    </tr>\n",
       "    <tr>\n",
       "      <th>브루트포스 알고리즘</th>\n",
       "      <td>0.026613</td>\n",
       "      <td>0.023302</td>\n",
       "      <td>1.000000</td>\n",
       "      <td>0.013499</td>\n",
       "      <td>0.023218</td>\n",
       "      <td>0.025507</td>\n",
       "      <td>0.004911</td>\n",
       "      <td>0.006433</td>\n",
       "      <td>0.050743</td>\n",
       "      <td>0.001943</td>\n",
       "    </tr>\n",
       "    <tr>\n",
       "      <th>이분 탐색</th>\n",
       "      <td>0.031703</td>\n",
       "      <td>0.026216</td>\n",
       "      <td>0.013499</td>\n",
       "      <td>1.000000</td>\n",
       "      <td>0.015200</td>\n",
       "      <td>0.007937</td>\n",
       "      <td>0.016080</td>\n",
       "      <td>0.002564</td>\n",
       "      <td>0.009416</td>\n",
       "      <td>0.029050</td>\n",
       "    </tr>\n",
       "    <tr>\n",
       "      <th>너비 우선 탐색</th>\n",
       "      <td>0.004854</td>\n",
       "      <td>0.012843</td>\n",
       "      <td>0.023218</td>\n",
       "      <td>0.015200</td>\n",
       "      <td>1.000000</td>\n",
       "      <td>0.185590</td>\n",
       "      <td>0.043764</td>\n",
       "      <td>0.015406</td>\n",
       "      <td>0.025253</td>\n",
       "      <td>0.018868</td>\n",
       "    </tr>\n",
       "    <tr>\n",
       "      <th>깊이 우선 탐색</th>\n",
       "      <td>0.024175</td>\n",
       "      <td>0.024963</td>\n",
       "      <td>0.025507</td>\n",
       "      <td>0.007937</td>\n",
       "      <td>0.185590</td>\n",
       "      <td>1.000000</td>\n",
       "      <td>0.008526</td>\n",
       "      <td>0.013536</td>\n",
       "      <td>0.009081</td>\n",
       "      <td>0.043847</td>\n",
       "    </tr>\n",
       "    <tr>\n",
       "      <th>데이크스트라</th>\n",
       "      <td>0.005639</td>\n",
       "      <td>0.014493</td>\n",
       "      <td>0.004911</td>\n",
       "      <td>0.016080</td>\n",
       "      <td>0.043764</td>\n",
       "      <td>0.008526</td>\n",
       "      <td>1.000000</td>\n",
       "      <td>0.033186</td>\n",
       "      <td>0.016107</td>\n",
       "      <td>0.008319</td>\n",
       "    </tr>\n",
       "    <tr>\n",
       "      <th>플로이드–워셜</th>\n",
       "      <td>0.000727</td>\n",
       "      <td>0.004131</td>\n",
       "      <td>0.006433</td>\n",
       "      <td>0.002564</td>\n",
       "      <td>0.015406</td>\n",
       "      <td>0.013536</td>\n",
       "      <td>0.033186</td>\n",
       "      <td>1.000000</td>\n",
       "      <td>0.011494</td>\n",
       "      <td>0.002660</td>\n",
       "    </tr>\n",
       "    <tr>\n",
       "      <th>비트마스킹</th>\n",
       "      <td>0.013382</td>\n",
       "      <td>0.084064</td>\n",
       "      <td>0.050743</td>\n",
       "      <td>0.009416</td>\n",
       "      <td>0.025253</td>\n",
       "      <td>0.009081</td>\n",
       "      <td>0.016107</td>\n",
       "      <td>0.011494</td>\n",
       "      <td>1.000000</td>\n",
       "      <td>0.003008</td>\n",
       "    </tr>\n",
       "    <tr>\n",
       "      <th>분리 집합</th>\n",
       "      <td>0.015416</td>\n",
       "      <td>0.006265</td>\n",
       "      <td>0.001943</td>\n",
       "      <td>0.029050</td>\n",
       "      <td>0.018868</td>\n",
       "      <td>0.043847</td>\n",
       "      <td>0.008319</td>\n",
       "      <td>0.002660</td>\n",
       "      <td>0.003008</td>\n",
       "      <td>1.000000</td>\n",
       "    </tr>\n",
       "  </tbody>\n",
       "</table>\n",
       "</div>"
      ],
      "text/plain": [
       "            그리디 알고리즘  다이나믹 프로그래밍  브루트포스 알고리즘     이분 탐색  너비 우선 탐색  깊이 우선 탐색  \\\n",
       "그리디 알고리즘    1.000000    0.042044    0.026613  0.031703  0.004854  0.024175   \n",
       "다이나믹 프로그래밍  0.042044    1.000000    0.023302  0.026216  0.012843  0.024963   \n",
       "브루트포스 알고리즘  0.026613    0.023302    1.000000  0.013499  0.023218  0.025507   \n",
       "이분 탐색       0.031703    0.026216    0.013499  1.000000  0.015200  0.007937   \n",
       "너비 우선 탐색    0.004854    0.012843    0.023218  0.015200  1.000000  0.185590   \n",
       "깊이 우선 탐색    0.024175    0.024963    0.025507  0.007937  0.185590  1.000000   \n",
       "데이크스트라      0.005639    0.014493    0.004911  0.016080  0.043764  0.008526   \n",
       "플로이드–워셜     0.000727    0.004131    0.006433  0.002564  0.015406  0.013536   \n",
       "비트마스킹       0.013382    0.084064    0.050743  0.009416  0.025253  0.009081   \n",
       "분리 집합       0.015416    0.006265    0.001943  0.029050  0.018868  0.043847   \n",
       "\n",
       "              데이크스트라   플로이드–워셜     비트마스킹     분리 집합  \n",
       "그리디 알고리즘    0.005639  0.000727  0.013382  0.015416  \n",
       "다이나믹 프로그래밍  0.014493  0.004131  0.084064  0.006265  \n",
       "브루트포스 알고리즘  0.004911  0.006433  0.050743  0.001943  \n",
       "이분 탐색       0.016080  0.002564  0.009416  0.029050  \n",
       "너비 우선 탐색    0.043764  0.015406  0.025253  0.018868  \n",
       "깊이 우선 탐색    0.008526  0.013536  0.009081  0.043847  \n",
       "데이크스트라      1.000000  0.033186  0.016107  0.008319  \n",
       "플로이드–워셜     0.033186  1.000000  0.011494  0.002660  \n",
       "비트마스킹       0.016107  0.011494  1.000000  0.003008  \n",
       "분리 집합       0.008319  0.002660  0.003008  1.000000  "
      ]
     },
     "execution_count": 66,
     "metadata": {},
     "output_type": "execute_result"
    }
   ],
   "source": [
    "Jaccard"
   ]
  },
  {
   "cell_type": "code",
   "execution_count": 104,
   "id": "24b31cbc",
   "metadata": {
    "scrolled": false
   },
   "outputs": [],
   "source": [
    "new_Jaccard = {}\n",
    "for in_tag in selected_tags:\n",
    "    new_Jaccard[in_tag] = {}\n",
    "    for out_tag in selected_tags:\n",
    "        new_Jaccard[in_tag][out_tag] = intersect[in_tag][out_tag] / intersect[in_tag][in_tag]"
   ]
  },
  {
   "cell_type": "code",
   "execution_count": 105,
   "id": "5e73f41a",
   "metadata": {},
   "outputs": [],
   "source": [
    "new_Jaccard = pd.DataFrame(new_Jaccard)"
   ]
  },
  {
   "cell_type": "code",
   "execution_count": 106,
   "id": "6048bf25",
   "metadata": {},
   "outputs": [
    {
     "data": {
      "text/html": [
       "<div>\n",
       "<style scoped>\n",
       "    .dataframe tbody tr th:only-of-type {\n",
       "        vertical-align: middle;\n",
       "    }\n",
       "\n",
       "    .dataframe tbody tr th {\n",
       "        vertical-align: top;\n",
       "    }\n",
       "\n",
       "    .dataframe thead th {\n",
       "        text-align: right;\n",
       "    }\n",
       "</style>\n",
       "<table border=\"1\" class=\"dataframe\">\n",
       "  <thead>\n",
       "    <tr style=\"text-align: right;\">\n",
       "      <th></th>\n",
       "      <th>그리디 알고리즘</th>\n",
       "      <th>다이나믹 프로그래밍</th>\n",
       "      <th>브루트포스 알고리즘</th>\n",
       "      <th>이분 탐색</th>\n",
       "      <th>너비 우선 탐색</th>\n",
       "      <th>깊이 우선 탐색</th>\n",
       "      <th>데이크스트라</th>\n",
       "      <th>플로이드–워셜</th>\n",
       "      <th>비트마스킹</th>\n",
       "      <th>분리 집합</th>\n",
       "    </tr>\n",
       "  </thead>\n",
       "  <tbody>\n",
       "    <tr>\n",
       "      <th>그리디 알고리즘</th>\n",
       "      <td>1.000000</td>\n",
       "      <td>0.114558</td>\n",
       "      <td>0.052506</td>\n",
       "      <td>0.046937</td>\n",
       "      <td>0.007160</td>\n",
       "      <td>0.032617</td>\n",
       "      <td>0.007160</td>\n",
       "      <td>0.000796</td>\n",
       "      <td>0.017502</td>\n",
       "      <td>0.018298</td>\n",
       "    </tr>\n",
       "    <tr>\n",
       "      <th>다이나믹 프로그래밍</th>\n",
       "      <td>0.062284</td>\n",
       "      <td>1.000000</td>\n",
       "      <td>0.035467</td>\n",
       "      <td>0.032872</td>\n",
       "      <td>0.016003</td>\n",
       "      <td>0.029412</td>\n",
       "      <td>0.016436</td>\n",
       "      <td>0.004325</td>\n",
       "      <td>0.091263</td>\n",
       "      <td>0.006920</td>\n",
       "    </tr>\n",
       "    <tr>\n",
       "      <th>브루트포스 알고리즘</th>\n",
       "      <td>0.051202</td>\n",
       "      <td>0.063615</td>\n",
       "      <td>1.000000</td>\n",
       "      <td>0.020171</td>\n",
       "      <td>0.033359</td>\n",
       "      <td>0.034135</td>\n",
       "      <td>0.006206</td>\n",
       "      <td>0.006982</td>\n",
       "      <td>0.063615</td>\n",
       "      <td>0.002327</td>\n",
       "    </tr>\n",
       "    <tr>\n",
       "      <th>이분 탐색</th>\n",
       "      <td>0.088989</td>\n",
       "      <td>0.114630</td>\n",
       "      <td>0.039216</td>\n",
       "      <td>1.000000</td>\n",
       "      <td>0.028658</td>\n",
       "      <td>0.013575</td>\n",
       "      <td>0.024133</td>\n",
       "      <td>0.003017</td>\n",
       "      <td>0.015083</td>\n",
       "      <td>0.039216</td>\n",
       "    </tr>\n",
       "    <tr>\n",
       "      <th>너비 우선 탐색</th>\n",
       "      <td>0.014851</td>\n",
       "      <td>0.061056</td>\n",
       "      <td>0.070957</td>\n",
       "      <td>0.031353</td>\n",
       "      <td>1.000000</td>\n",
       "      <td>0.280528</td>\n",
       "      <td>0.066007</td>\n",
       "      <td>0.018152</td>\n",
       "      <td>0.041254</td>\n",
       "      <td>0.026403</td>\n",
       "    </tr>\n",
       "    <tr>\n",
       "      <th>깊이 우선 탐색</th>\n",
       "      <td>0.085417</td>\n",
       "      <td>0.141667</td>\n",
       "      <td>0.091667</td>\n",
       "      <td>0.018750</td>\n",
       "      <td>0.354167</td>\n",
       "      <td>1.000000</td>\n",
       "      <td>0.014583</td>\n",
       "      <td>0.016667</td>\n",
       "      <td>0.016667</td>\n",
       "      <td>0.064583</td>\n",
       "    </tr>\n",
       "    <tr>\n",
       "      <th>데이크스트라</th>\n",
       "      <td>0.025862</td>\n",
       "      <td>0.109195</td>\n",
       "      <td>0.022989</td>\n",
       "      <td>0.045977</td>\n",
       "      <td>0.114943</td>\n",
       "      <td>0.020115</td>\n",
       "      <td>1.000000</td>\n",
       "      <td>0.043103</td>\n",
       "      <td>0.034483</td>\n",
       "      <td>0.014368</td>\n",
       "    </tr>\n",
       "    <tr>\n",
       "      <th>플로이드–워셜</th>\n",
       "      <td>0.008403</td>\n",
       "      <td>0.084034</td>\n",
       "      <td>0.075630</td>\n",
       "      <td>0.016807</td>\n",
       "      <td>0.092437</td>\n",
       "      <td>0.067227</td>\n",
       "      <td>0.126050</td>\n",
       "      <td>1.000000</td>\n",
       "      <td>0.050420</td>\n",
       "      <td>0.008403</td>\n",
       "    </tr>\n",
       "    <tr>\n",
       "      <th>비트마스킹</th>\n",
       "      <td>0.053790</td>\n",
       "      <td>0.515892</td>\n",
       "      <td>0.200489</td>\n",
       "      <td>0.024450</td>\n",
       "      <td>0.061125</td>\n",
       "      <td>0.019560</td>\n",
       "      <td>0.029340</td>\n",
       "      <td>0.014670</td>\n",
       "      <td>1.000000</td>\n",
       "      <td>0.004890</td>\n",
       "    </tr>\n",
       "    <tr>\n",
       "      <th>분리 집합</th>\n",
       "      <td>0.089147</td>\n",
       "      <td>0.062016</td>\n",
       "      <td>0.011628</td>\n",
       "      <td>0.100775</td>\n",
       "      <td>0.062016</td>\n",
       "      <td>0.120155</td>\n",
       "      <td>0.019380</td>\n",
       "      <td>0.003876</td>\n",
       "      <td>0.007752</td>\n",
       "      <td>1.000000</td>\n",
       "    </tr>\n",
       "  </tbody>\n",
       "</table>\n",
       "</div>"
      ],
      "text/plain": [
       "            그리디 알고리즘  다이나믹 프로그래밍  브루트포스 알고리즘     이분 탐색  너비 우선 탐색  깊이 우선 탐색  \\\n",
       "그리디 알고리즘    1.000000    0.114558    0.052506  0.046937  0.007160  0.032617   \n",
       "다이나믹 프로그래밍  0.062284    1.000000    0.035467  0.032872  0.016003  0.029412   \n",
       "브루트포스 알고리즘  0.051202    0.063615    1.000000  0.020171  0.033359  0.034135   \n",
       "이분 탐색       0.088989    0.114630    0.039216  1.000000  0.028658  0.013575   \n",
       "너비 우선 탐색    0.014851    0.061056    0.070957  0.031353  1.000000  0.280528   \n",
       "깊이 우선 탐색    0.085417    0.141667    0.091667  0.018750  0.354167  1.000000   \n",
       "데이크스트라      0.025862    0.109195    0.022989  0.045977  0.114943  0.020115   \n",
       "플로이드–워셜     0.008403    0.084034    0.075630  0.016807  0.092437  0.067227   \n",
       "비트마스킹       0.053790    0.515892    0.200489  0.024450  0.061125  0.019560   \n",
       "분리 집합       0.089147    0.062016    0.011628  0.100775  0.062016  0.120155   \n",
       "\n",
       "              데이크스트라   플로이드–워셜     비트마스킹     분리 집합  \n",
       "그리디 알고리즘    0.007160  0.000796  0.017502  0.018298  \n",
       "다이나믹 프로그래밍  0.016436  0.004325  0.091263  0.006920  \n",
       "브루트포스 알고리즘  0.006206  0.006982  0.063615  0.002327  \n",
       "이분 탐색       0.024133  0.003017  0.015083  0.039216  \n",
       "너비 우선 탐색    0.066007  0.018152  0.041254  0.026403  \n",
       "깊이 우선 탐색    0.014583  0.016667  0.016667  0.064583  \n",
       "데이크스트라      1.000000  0.043103  0.034483  0.014368  \n",
       "플로이드–워셜     0.126050  1.000000  0.050420  0.008403  \n",
       "비트마스킹       0.029340  0.014670  1.000000  0.004890  \n",
       "분리 집합       0.019380  0.003876  0.007752  1.000000  "
      ]
     },
     "execution_count": 106,
     "metadata": {},
     "output_type": "execute_result"
    }
   ],
   "source": [
    "new_Jaccard.T"
   ]
  },
  {
   "cell_type": "code",
   "execution_count": 97,
   "id": "68262da9",
   "metadata": {},
   "outputs": [],
   "source": [
    "jac = np.array(new_Jaccard)"
   ]
  },
  {
   "cell_type": "code",
   "execution_count": 98,
   "id": "3e644d63",
   "metadata": {},
   "outputs": [],
   "source": [
    "np.fill_diagonal(jac,0)"
   ]
  },
  {
   "cell_type": "code",
   "execution_count": 100,
   "id": "5143045e",
   "metadata": {},
   "outputs": [
    {
     "data": {
      "text/plain": [
       "array([0.11455847, 0.09126298, 0.06361521, 0.11463047, 0.28052805,\n",
       "       0.35416667, 0.11494253, 0.12605042, 0.51589242, 0.12015504])"
      ]
     },
     "execution_count": 100,
     "metadata": {},
     "output_type": "execute_result"
    }
   ],
   "source": [
    "np.max(jac, axis=1)"
   ]
  },
  {
   "cell_type": "code",
   "execution_count": 107,
   "id": "9b21ccf9",
   "metadata": {},
   "outputs": [
    {
     "data": {
      "text/plain": [
       "{'그리디 알고리즘': ['다이나믹 프로그래밍', '브루트포스 알고리즘', '이분 탐색', '깊이 우선 탐색'],\n",
       " '다이나믹 프로그래밍': ['비트마스킹', '그리디 알고리즘', '브루트포스 알고리즘', '이분 탐색'],\n",
       " '브루트포스 알고리즘': ['다이나믹 프로그래밍', '비트마스킹', '그리디 알고리즘', '깊이 우선 탐색'],\n",
       " '이분 탐색': ['다이나믹 프로그래밍', '그리디 알고리즘', '브루트포스 알고리즘', '분리 집합'],\n",
       " '너비 우선 탐색': ['깊이 우선 탐색', '브루트포스 알고리즘', '데이크스트라', '다이나믹 프로그래밍'],\n",
       " '깊이 우선 탐색': ['너비 우선 탐색', '다이나믹 프로그래밍', '브루트포스 알고리즘', '그리디 알고리즘'],\n",
       " '데이크스트라': ['너비 우선 탐색', '다이나믹 프로그래밍', '이분 탐색', '플로이드–워셜'],\n",
       " '플로이드–워셜': ['데이크스트라', '너비 우선 탐색', '다이나믹 프로그래밍', '브루트포스 알고리즘'],\n",
       " '비트마스킹': ['다이나믹 프로그래밍', '브루트포스 알고리즘', '너비 우선 탐색', '그리디 알고리즘'],\n",
       " '분리 집합': ['깊이 우선 탐색', '이분 탐색', '그리디 알고리즘', '다이나믹 프로그래밍']}"
      ]
     },
     "execution_count": 107,
     "metadata": {},
     "output_type": "execute_result"
    }
   ],
   "source": [
    "get_ranking(new_Jaccard, selected_tags)"
   ]
  },
  {
   "cell_type": "markdown",
   "id": "b42b75bd",
   "metadata": {},
   "source": [
    "# 유저-문제 분석"
   ]
  },
  {
   "cell_type": "code",
   "execution_count": 11,
   "id": "a8496700",
   "metadata": {},
   "outputs": [],
   "source": [
    "from scipy import sparse\n",
    "import scipy"
   ]
  },
  {
   "cell_type": "code",
   "execution_count": 4,
   "id": "7006f56f",
   "metadata": {},
   "outputs": [
    {
     "name": "stderr",
     "output_type": "stream",
     "text": [
      "100%|████████████████████████████████████████████████████████████████████████████████| 250/250 [02:47<00:00,  1.49it/s]\n"
     ]
    }
   ],
   "source": [
    "## 유저 랭킹 페이지에서 선택 ##\n",
    "page_st = 31\n",
    "page_ed = 280\n",
    "\n",
    "user_ids = []\n",
    "\n",
    "for num in tqdm(range(page_st, page_ed+1)):\n",
    "    add_ids(num, user_ids,10)"
   ]
  },
  {
   "cell_type": "code",
   "execution_count": 5,
   "id": "b70336ac",
   "metadata": {},
   "outputs": [
    {
     "name": "stderr",
     "output_type": "stream",
     "text": [
      "67it [00:27,  2.20it/s]"
     ]
    },
    {
     "name": "stdout",
     "output_type": "stream",
     "text": [
      "범위를 벗어난 문제 번호 : 27014\n"
     ]
    },
    {
     "name": "stderr",
     "output_type": "stream",
     "text": [
      "79it [00:32,  2.24it/s]"
     ]
    },
    {
     "name": "stdout",
     "output_type": "stream",
     "text": [
      "범위를 벗어난 문제 번호 : 27014\n",
      "범위를 벗어난 문제 번호 : 27015\n"
     ]
    },
    {
     "name": "stderr",
     "output_type": "stream",
     "text": [
      "100it [00:40,  2.72it/s]"
     ]
    },
    {
     "name": "stdout",
     "output_type": "stream",
     "text": [
      "범위를 벗어난 문제 번호 : 26986\n",
      "범위를 벗어난 문제 번호 : 27014\n",
      "범위를 벗어난 문제 번호 : 27015\n",
      "범위를 벗어난 문제 번호 : 27017\n",
      "범위를 벗어난 문제 번호 : 27018\n",
      "범위를 벗어난 문제 번호 : 27019\n",
      "범위를 벗어난 문제 번호 : 27016\n"
     ]
    },
    {
     "name": "stderr",
     "output_type": "stream",
     "text": [
      "107it [00:43,  2.65it/s]"
     ]
    },
    {
     "name": "stdout",
     "output_type": "stream",
     "text": [
      "범위를 벗어난 문제 번호 : 27014\n"
     ]
    },
    {
     "name": "stderr",
     "output_type": "stream",
     "text": [
      "138it [00:55,  2.61it/s]"
     ]
    },
    {
     "name": "stdout",
     "output_type": "stream",
     "text": [
      "범위를 벗어난 문제 번호 : 27014\n"
     ]
    },
    {
     "name": "stderr",
     "output_type": "stream",
     "text": [
      "156it [01:03,  1.93it/s]"
     ]
    },
    {
     "name": "stdout",
     "output_type": "stream",
     "text": [
      "범위를 벗어난 문제 번호 : 27014\n",
      "범위를 벗어난 문제 번호 : 27015\n",
      "범위를 벗어난 문제 번호 : 27016\n"
     ]
    },
    {
     "name": "stderr",
     "output_type": "stream",
     "text": [
      "202it [01:25,  2.41it/s]"
     ]
    },
    {
     "name": "stdout",
     "output_type": "stream",
     "text": [
      "범위를 벗어난 문제 번호 : 27014\n",
      "범위를 벗어난 문제 번호 : 27015\n"
     ]
    },
    {
     "name": "stderr",
     "output_type": "stream",
     "text": [
      "206it [01:27,  2.17it/s]"
     ]
    },
    {
     "name": "stdout",
     "output_type": "stream",
     "text": [
      "범위를 벗어난 문제 번호 : 27014\n",
      "범위를 벗어난 문제 번호 : 27015\n"
     ]
    },
    {
     "name": "stderr",
     "output_type": "stream",
     "text": [
      "345it [02:24,  2.34it/s]"
     ]
    },
    {
     "name": "stdout",
     "output_type": "stream",
     "text": [
      "범위를 벗어난 문제 번호 : 27014\n",
      "범위를 벗어난 문제 번호 : 27015\n",
      "범위를 벗어난 문제 번호 : 27017\n",
      "범위를 벗어난 문제 번호 : 27018\n"
     ]
    },
    {
     "name": "stderr",
     "output_type": "stream",
     "text": [
      "357it [02:29,  2.35it/s]"
     ]
    },
    {
     "name": "stdout",
     "output_type": "stream",
     "text": [
      "범위를 벗어난 문제 번호 : 27014\n",
      "범위를 벗어난 문제 번호 : 27015\n"
     ]
    },
    {
     "name": "stderr",
     "output_type": "stream",
     "text": [
      "418it [03:15,  2.54it/s]"
     ]
    },
    {
     "name": "stdout",
     "output_type": "stream",
     "text": [
      "범위를 벗어난 문제 번호 : 27014\n",
      "범위를 벗어난 문제 번호 : 27015\n",
      "범위를 벗어난 문제 번호 : 27017\n",
      "범위를 벗어난 문제 번호 : 27018\n",
      "범위를 벗어난 문제 번호 : 27016\n"
     ]
    },
    {
     "name": "stderr",
     "output_type": "stream",
     "text": [
      "422it [03:17,  2.46it/s]"
     ]
    },
    {
     "name": "stdout",
     "output_type": "stream",
     "text": [
      "범위를 벗어난 문제 번호 : 27015\n",
      "범위를 벗어난 문제 번호 : 27017\n",
      "범위를 벗어난 문제 번호 : 27018\n",
      "범위를 벗어난 문제 번호 : 27019\n"
     ]
    },
    {
     "name": "stderr",
     "output_type": "stream",
     "text": [
      "643it [04:45,  2.90it/s]"
     ]
    },
    {
     "name": "stdout",
     "output_type": "stream",
     "text": [
      "범위를 벗어난 문제 번호 : 27014\n",
      "범위를 벗어난 문제 번호 : 27015\n",
      "범위를 벗어난 문제 번호 : 27016\n",
      "범위를 벗어난 문제 번호 : 27017\n"
     ]
    },
    {
     "name": "stderr",
     "output_type": "stream",
     "text": [
      "695it [05:04,  2.73it/s]"
     ]
    },
    {
     "name": "stdout",
     "output_type": "stream",
     "text": [
      "범위를 벗어난 문제 번호 : 27014\n",
      "범위를 벗어난 문제 번호 : 27015\n",
      "범위를 벗어난 문제 번호 : 27017\n",
      "범위를 벗어난 문제 번호 : 27018\n"
     ]
    },
    {
     "name": "stderr",
     "output_type": "stream",
     "text": [
      "743it [05:23,  2.42it/s]"
     ]
    },
    {
     "name": "stdout",
     "output_type": "stream",
     "text": [
      "범위를 벗어난 문제 번호 : 27014\n",
      "범위를 벗어난 문제 번호 : 27015\n"
     ]
    },
    {
     "name": "stderr",
     "output_type": "stream",
     "text": [
      "746it [05:24,  2.41it/s]"
     ]
    },
    {
     "name": "stdout",
     "output_type": "stream",
     "text": [
      "범위를 벗어난 문제 번호 : 27014\n"
     ]
    },
    {
     "name": "stderr",
     "output_type": "stream",
     "text": [
      "868it [06:13,  2.69it/s]"
     ]
    },
    {
     "name": "stdout",
     "output_type": "stream",
     "text": [
      "범위를 벗어난 문제 번호 : 27014\n",
      "범위를 벗어난 문제 번호 : 27015\n"
     ]
    },
    {
     "name": "stderr",
     "output_type": "stream",
     "text": [
      "1063it [07:31,  1.75it/s]"
     ]
    },
    {
     "name": "stdout",
     "output_type": "stream",
     "text": [
      "범위를 벗어난 문제 번호 : 27017\n"
     ]
    },
    {
     "name": "stderr",
     "output_type": "stream",
     "text": [
      "1382it [09:58,  2.22it/s]"
     ]
    },
    {
     "name": "stdout",
     "output_type": "stream",
     "text": [
      "범위를 벗어난 문제 번호 : 27014\n",
      "범위를 벗어난 문제 번호 : 27015\n"
     ]
    },
    {
     "name": "stderr",
     "output_type": "stream",
     "text": [
      "1669it [12:23,  2.01it/s]"
     ]
    },
    {
     "name": "stdout",
     "output_type": "stream",
     "text": [
      "범위를 벗어난 문제 번호 : 27014\n"
     ]
    },
    {
     "name": "stderr",
     "output_type": "stream",
     "text": [
      "1727it [12:55,  2.10it/s]"
     ]
    },
    {
     "name": "stdout",
     "output_type": "stream",
     "text": [
      "범위를 벗어난 문제 번호 : 27014\n"
     ]
    },
    {
     "name": "stderr",
     "output_type": "stream",
     "text": [
      "1806it [13:37,  2.35it/s]"
     ]
    },
    {
     "name": "stdout",
     "output_type": "stream",
     "text": [
      "범위를 벗어난 문제 번호 : 27014\n",
      "범위를 벗어난 문제 번호 : 27015\n"
     ]
    },
    {
     "name": "stderr",
     "output_type": "stream",
     "text": [
      "1844it [13:55,  2.33it/s]"
     ]
    },
    {
     "name": "stdout",
     "output_type": "stream",
     "text": [
      "범위를 벗어난 문제 번호 : 27014\n",
      "범위를 벗어난 문제 번호 : 27015\n",
      "범위를 벗어난 문제 번호 : 27017\n"
     ]
    },
    {
     "name": "stderr",
     "output_type": "stream",
     "text": [
      "1977it [15:03,  2.19it/s]"
     ]
    },
    {
     "name": "stdout",
     "output_type": "stream",
     "text": [
      "범위를 벗어난 문제 번호 : 27014\n"
     ]
    },
    {
     "name": "stderr",
     "output_type": "stream",
     "text": [
      "2063it [15:53,  1.72it/s]"
     ]
    },
    {
     "name": "stdout",
     "output_type": "stream",
     "text": [
      "범위를 벗어난 문제 번호 : 27014\n"
     ]
    },
    {
     "name": "stderr",
     "output_type": "stream",
     "text": [
      "2091it [16:12,  1.56it/s]"
     ]
    },
    {
     "name": "stdout",
     "output_type": "stream",
     "text": [
      "범위를 벗어난 문제 번호 : 27014\n"
     ]
    },
    {
     "name": "stderr",
     "output_type": "stream",
     "text": [
      "2228it [17:28,  2.05it/s]"
     ]
    },
    {
     "name": "stdout",
     "output_type": "stream",
     "text": [
      "범위를 벗어난 문제 번호 : 27014\n",
      "범위를 벗어난 문제 번호 : 27018\n",
      "범위를 벗어난 문제 번호 : 27015\n",
      "범위를 벗어난 문제 번호 : 27017\n"
     ]
    },
    {
     "name": "stderr",
     "output_type": "stream",
     "text": [
      "2313it [18:08,  1.57it/s]"
     ]
    },
    {
     "name": "stdout",
     "output_type": "stream",
     "text": [
      "범위를 벗어난 문제 번호 : 27015\n",
      "범위를 벗어난 문제 번호 : 27014\n",
      "범위를 벗어난 문제 번호 : 27017\n",
      "범위를 벗어난 문제 번호 : 27018\n"
     ]
    },
    {
     "name": "stderr",
     "output_type": "stream",
     "text": [
      "2500it [19:35,  2.13it/s]"
     ]
    },
    {
     "name": "stdout",
     "output_type": "stream",
     "text": [
      "1175.89724 sec\n"
     ]
    },
    {
     "name": "stderr",
     "output_type": "stream",
     "text": [
      "\n"
     ]
    }
   ],
   "source": [
    "start = time.time()\n",
    "\n",
    "user_problem_mat = np.zeros((len(user_ids),num_problem), dtype=np.float16)\n",
    "\n",
    "for idx, id in tqdm(enumerate(user_ids), position=0):\n",
    "    add_to_user_problem_mat(idx, id, user_problem_mat)\n",
    "\n",
    "end = time.time()\n",
    "\n",
    "print(f\"{end - start:.5f} sec\")"
   ]
  },
  {
   "cell_type": "code",
   "execution_count": 8,
   "id": "293a31d8",
   "metadata": {},
   "outputs": [],
   "source": [
    "sparse_coo = sparse.coo_matrix(user_problem_mat)"
   ]
  },
  {
   "cell_type": "code",
   "execution_count": 13,
   "id": "91ed2a58",
   "metadata": {},
   "outputs": [],
   "source": [
    "sparse.save_npz('./user_problem_mat.npz', sparse_coo)"
   ]
  },
  {
   "cell_type": "code",
   "execution_count": 26,
   "id": "5f77474b",
   "metadata": {},
   "outputs": [],
   "source": [
    "train_user_problem_mat, test_user_problem_mat = train_test_split(user_problem_mat,\n",
    "                                                                        test_size=0.3, \n",
    "                                                                        shuffle=True, \n",
    "                                                                        random_state=1004)"
   ]
  },
  {
   "cell_type": "code",
   "execution_count": 27,
   "id": "81dc7383",
   "metadata": {},
   "outputs": [],
   "source": [
    "# sparse matrix로 저장\n",
    "sparse_coo_train = sparse.coo_matrix(train_user_problem_mat)\n",
    "sparse_coo_test = sparse.coo_matrix(test_user_problem_mat)\n",
    "\n",
    "sparse.save_npz('./train_user_problem_mat.npz', sparse_coo_train)\n",
    "sparse.save_npz('./test_user_problem_mat.npz', sparse_coo_test)"
   ]
  },
  {
   "cell_type": "code",
   "execution_count": 78,
   "id": "1728cfcd",
   "metadata": {},
   "outputs": [],
   "source": [
    "# dataframe으로 저장\n",
    "idx_to_id = {}\n",
    "id_to_idx = {}\n",
    "for i, id in enumerate(user_ids):\n",
    "    idx_to_id[i] = id\n",
    "    id_to_idx[id] = i\n",
    "    \n",
    "df_train = pd.DataFrame(train_user_problem_mat)\n",
    "df_train.to_csv(\"./train_user_problem_mat.csv\")\n",
    "\n",
    "df_test = pd.DataFrame(test_user_problem_mat)\n",
    "df_test.to_csv(\"./test_user_problem_mat.csv\")\n",
    "#df_rename = df.rename(index=idx_to_id) #행(row) 이름 바꾸기\n",
    "#df_rename.to_csv(\"./test_user_problem_mat.csv\")"
   ]
  },
  {
   "cell_type": "code",
   "execution_count": 10,
   "id": "b7fa6f94",
   "metadata": {},
   "outputs": [
    {
     "data": {
      "text/plain": [
       "(750, 26982)"
      ]
     },
     "execution_count": 10,
     "metadata": {},
     "output_type": "execute_result"
    }
   ],
   "source": [
    "test_user_problem_mat.shape"
   ]
  },
  {
   "cell_type": "code",
   "execution_count": 111,
   "id": "f24facc8",
   "metadata": {},
   "outputs": [
    {
     "name": "stderr",
     "output_type": "stream",
     "text": [
      "100%|████████████████████████████████████████████████████████████████████████████████████| 4/4 [00:01<00:00,  2.75it/s]\n"
     ]
    }
   ],
   "source": [
    "## 한 그룹 내에서 선택 ##\n",
    "group_num = 302 # 서울시립대학교\n",
    "page_st = 1\n",
    "page_ed = 4\n",
    "\n",
    "user_ids = []\n",
    "\n",
    "for num in tqdm(range(page_st, page_ed+1)):\n",
    "    add_group_ids(group_num,num, user_ids)"
   ]
  },
  {
   "cell_type": "code",
   "execution_count": 116,
   "id": "4fcc42da",
   "metadata": {
    "scrolled": true
   },
   "outputs": [
    {
     "name": "stdout",
     "output_type": "stream",
     "text": [
      "400\n"
     ]
    }
   ],
   "source": [
    "print(len(user_ids))"
   ]
  },
  {
   "cell_type": "code",
   "execution_count": 117,
   "id": "2d1e998e",
   "metadata": {},
   "outputs": [
    {
     "name": "stderr",
     "output_type": "stream",
     "text": [
      "100%|████████████████████████████████████████████████████████████████████████████████| 400/400 [03:36<00:00,  1.85it/s]"
     ]
    },
    {
     "name": "stdout",
     "output_type": "stream",
     "text": [
      "216.28883 sec\n"
     ]
    },
    {
     "name": "stderr",
     "output_type": "stream",
     "text": [
      "\n"
     ]
    }
   ],
   "source": [
    "import math\n",
    "import time\n",
    "\n",
    "start = time.time()\n",
    "\n",
    "user_problem = {}\n",
    "problem_num_set = set([])\n",
    "\n",
    "for id in tqdm(user_ids, position=0):\n",
    "    gen_user_problem_mat(id, user_problem, problem_num_set)\n",
    "\n",
    "end = time.time()\n",
    "\n",
    "print(f\"{end - start:.5f} sec\")"
   ]
  },
  {
   "cell_type": "code",
   "execution_count": 118,
   "id": "a19a2d19",
   "metadata": {},
   "outputs": [],
   "source": [
    "user_problem_mat = {}\n",
    "for user, problems in user_problem.items():\n",
    "    user_problem_mat[user] = {num:0 for num in problem_num_set}\n",
    "    for problem in problems:\n",
    "        user_problem_mat[user][problem] = 1    "
   ]
  },
  {
   "cell_type": "code",
   "execution_count": 119,
   "id": "a8346dc9",
   "metadata": {},
   "outputs": [],
   "source": [
    "df = pd.DataFrame(user_problem_mat).T"
   ]
  },
  {
   "cell_type": "code",
   "execution_count": 120,
   "id": "93562028",
   "metadata": {},
   "outputs": [
    {
     "data": {
      "text/html": [
       "<div>\n",
       "<style scoped>\n",
       "    .dataframe tbody tr th:only-of-type {\n",
       "        vertical-align: middle;\n",
       "    }\n",
       "\n",
       "    .dataframe tbody tr th {\n",
       "        vertical-align: top;\n",
       "    }\n",
       "\n",
       "    .dataframe thead th {\n",
       "        text-align: right;\n",
       "    }\n",
       "</style>\n",
       "<table border=\"1\" class=\"dataframe\">\n",
       "  <thead>\n",
       "    <tr style=\"text-align: right;\">\n",
       "      <th></th>\n",
       "      <th>1000</th>\n",
       "      <th>1001</th>\n",
       "      <th>1002</th>\n",
       "      <th>1003</th>\n",
       "      <th>1004</th>\n",
       "      <th>1005</th>\n",
       "      <th>1006</th>\n",
       "      <th>1007</th>\n",
       "      <th>1008</th>\n",
       "      <th>1009</th>\n",
       "      <th>...</th>\n",
       "      <th>27924</th>\n",
       "      <th>27925</th>\n",
       "      <th>27930</th>\n",
       "      <th>27931</th>\n",
       "      <th>27939</th>\n",
       "      <th>27940</th>\n",
       "      <th>27941</th>\n",
       "      <th>27942</th>\n",
       "      <th>27943</th>\n",
       "      <th>27944</th>\n",
       "    </tr>\n",
       "  </thead>\n",
       "  <tbody>\n",
       "    <tr>\n",
       "      <th>iknoom1107</th>\n",
       "      <td>1</td>\n",
       "      <td>1</td>\n",
       "      <td>1</td>\n",
       "      <td>1</td>\n",
       "      <td>1</td>\n",
       "      <td>1</td>\n",
       "      <td>0</td>\n",
       "      <td>1</td>\n",
       "      <td>1</td>\n",
       "      <td>1</td>\n",
       "      <td>...</td>\n",
       "      <td>0</td>\n",
       "      <td>0</td>\n",
       "      <td>0</td>\n",
       "      <td>0</td>\n",
       "      <td>0</td>\n",
       "      <td>0</td>\n",
       "      <td>0</td>\n",
       "      <td>0</td>\n",
       "      <td>0</td>\n",
       "      <td>0</td>\n",
       "    </tr>\n",
       "    <tr>\n",
       "      <th>young920503</th>\n",
       "      <td>1</td>\n",
       "      <td>1</td>\n",
       "      <td>1</td>\n",
       "      <td>1</td>\n",
       "      <td>1</td>\n",
       "      <td>1</td>\n",
       "      <td>0</td>\n",
       "      <td>0</td>\n",
       "      <td>1</td>\n",
       "      <td>1</td>\n",
       "      <td>...</td>\n",
       "      <td>0</td>\n",
       "      <td>0</td>\n",
       "      <td>0</td>\n",
       "      <td>0</td>\n",
       "      <td>0</td>\n",
       "      <td>0</td>\n",
       "      <td>0</td>\n",
       "      <td>0</td>\n",
       "      <td>0</td>\n",
       "      <td>0</td>\n",
       "    </tr>\n",
       "    <tr>\n",
       "      <th>ljwljw8541</th>\n",
       "      <td>1</td>\n",
       "      <td>1</td>\n",
       "      <td>1</td>\n",
       "      <td>1</td>\n",
       "      <td>1</td>\n",
       "      <td>0</td>\n",
       "      <td>0</td>\n",
       "      <td>0</td>\n",
       "      <td>1</td>\n",
       "      <td>1</td>\n",
       "      <td>...</td>\n",
       "      <td>0</td>\n",
       "      <td>0</td>\n",
       "      <td>1</td>\n",
       "      <td>1</td>\n",
       "      <td>1</td>\n",
       "      <td>0</td>\n",
       "      <td>0</td>\n",
       "      <td>0</td>\n",
       "      <td>0</td>\n",
       "      <td>0</td>\n",
       "    </tr>\n",
       "    <tr>\n",
       "      <th>powergee</th>\n",
       "      <td>1</td>\n",
       "      <td>1</td>\n",
       "      <td>1</td>\n",
       "      <td>1</td>\n",
       "      <td>1</td>\n",
       "      <td>1</td>\n",
       "      <td>1</td>\n",
       "      <td>1</td>\n",
       "      <td>1</td>\n",
       "      <td>1</td>\n",
       "      <td>...</td>\n",
       "      <td>0</td>\n",
       "      <td>0</td>\n",
       "      <td>0</td>\n",
       "      <td>0</td>\n",
       "      <td>0</td>\n",
       "      <td>0</td>\n",
       "      <td>0</td>\n",
       "      <td>0</td>\n",
       "      <td>0</td>\n",
       "      <td>0</td>\n",
       "    </tr>\n",
       "    <tr>\n",
       "      <th>vjerksen</th>\n",
       "      <td>1</td>\n",
       "      <td>1</td>\n",
       "      <td>1</td>\n",
       "      <td>1</td>\n",
       "      <td>0</td>\n",
       "      <td>1</td>\n",
       "      <td>0</td>\n",
       "      <td>0</td>\n",
       "      <td>1</td>\n",
       "      <td>1</td>\n",
       "      <td>...</td>\n",
       "      <td>0</td>\n",
       "      <td>0</td>\n",
       "      <td>0</td>\n",
       "      <td>0</td>\n",
       "      <td>0</td>\n",
       "      <td>0</td>\n",
       "      <td>0</td>\n",
       "      <td>0</td>\n",
       "      <td>0</td>\n",
       "      <td>0</td>\n",
       "    </tr>\n",
       "    <tr>\n",
       "      <th>...</th>\n",
       "      <td>...</td>\n",
       "      <td>...</td>\n",
       "      <td>...</td>\n",
       "      <td>...</td>\n",
       "      <td>...</td>\n",
       "      <td>...</td>\n",
       "      <td>...</td>\n",
       "      <td>...</td>\n",
       "      <td>...</td>\n",
       "      <td>...</td>\n",
       "      <td>...</td>\n",
       "      <td>...</td>\n",
       "      <td>...</td>\n",
       "      <td>...</td>\n",
       "      <td>...</td>\n",
       "      <td>...</td>\n",
       "      <td>...</td>\n",
       "      <td>...</td>\n",
       "      <td>...</td>\n",
       "      <td>...</td>\n",
       "      <td>...</td>\n",
       "    </tr>\n",
       "    <tr>\n",
       "      <th>kriss1607</th>\n",
       "      <td>1</td>\n",
       "      <td>1</td>\n",
       "      <td>0</td>\n",
       "      <td>0</td>\n",
       "      <td>0</td>\n",
       "      <td>0</td>\n",
       "      <td>0</td>\n",
       "      <td>0</td>\n",
       "      <td>1</td>\n",
       "      <td>0</td>\n",
       "      <td>...</td>\n",
       "      <td>0</td>\n",
       "      <td>0</td>\n",
       "      <td>0</td>\n",
       "      <td>0</td>\n",
       "      <td>0</td>\n",
       "      <td>0</td>\n",
       "      <td>0</td>\n",
       "      <td>0</td>\n",
       "      <td>0</td>\n",
       "      <td>0</td>\n",
       "    </tr>\n",
       "    <tr>\n",
       "      <th>mk020408</th>\n",
       "      <td>1</td>\n",
       "      <td>1</td>\n",
       "      <td>0</td>\n",
       "      <td>0</td>\n",
       "      <td>0</td>\n",
       "      <td>0</td>\n",
       "      <td>0</td>\n",
       "      <td>0</td>\n",
       "      <td>1</td>\n",
       "      <td>0</td>\n",
       "      <td>...</td>\n",
       "      <td>0</td>\n",
       "      <td>0</td>\n",
       "      <td>0</td>\n",
       "      <td>0</td>\n",
       "      <td>0</td>\n",
       "      <td>0</td>\n",
       "      <td>0</td>\n",
       "      <td>0</td>\n",
       "      <td>0</td>\n",
       "      <td>0</td>\n",
       "    </tr>\n",
       "    <tr>\n",
       "      <th>leejoon924</th>\n",
       "      <td>0</td>\n",
       "      <td>0</td>\n",
       "      <td>0</td>\n",
       "      <td>1</td>\n",
       "      <td>0</td>\n",
       "      <td>0</td>\n",
       "      <td>0</td>\n",
       "      <td>0</td>\n",
       "      <td>1</td>\n",
       "      <td>0</td>\n",
       "      <td>...</td>\n",
       "      <td>0</td>\n",
       "      <td>0</td>\n",
       "      <td>0</td>\n",
       "      <td>0</td>\n",
       "      <td>0</td>\n",
       "      <td>0</td>\n",
       "      <td>0</td>\n",
       "      <td>0</td>\n",
       "      <td>0</td>\n",
       "      <td>0</td>\n",
       "    </tr>\n",
       "    <tr>\n",
       "      <th>dlatldud11</th>\n",
       "      <td>1</td>\n",
       "      <td>0</td>\n",
       "      <td>0</td>\n",
       "      <td>0</td>\n",
       "      <td>0</td>\n",
       "      <td>0</td>\n",
       "      <td>0</td>\n",
       "      <td>0</td>\n",
       "      <td>0</td>\n",
       "      <td>0</td>\n",
       "      <td>...</td>\n",
       "      <td>0</td>\n",
       "      <td>0</td>\n",
       "      <td>0</td>\n",
       "      <td>0</td>\n",
       "      <td>0</td>\n",
       "      <td>0</td>\n",
       "      <td>0</td>\n",
       "      <td>0</td>\n",
       "      <td>0</td>\n",
       "      <td>0</td>\n",
       "    </tr>\n",
       "    <tr>\n",
       "      <th>bingha</th>\n",
       "      <td>1</td>\n",
       "      <td>0</td>\n",
       "      <td>0</td>\n",
       "      <td>0</td>\n",
       "      <td>0</td>\n",
       "      <td>0</td>\n",
       "      <td>0</td>\n",
       "      <td>0</td>\n",
       "      <td>0</td>\n",
       "      <td>0</td>\n",
       "      <td>...</td>\n",
       "      <td>0</td>\n",
       "      <td>0</td>\n",
       "      <td>0</td>\n",
       "      <td>0</td>\n",
       "      <td>0</td>\n",
       "      <td>0</td>\n",
       "      <td>0</td>\n",
       "      <td>0</td>\n",
       "      <td>0</td>\n",
       "      <td>0</td>\n",
       "    </tr>\n",
       "  </tbody>\n",
       "</table>\n",
       "<p>400 rows × 5808 columns</p>\n",
       "</div>"
      ],
      "text/plain": [
       "             1000   1001   1002   1003   1004   1005   1006   1007   1008   \\\n",
       "iknoom1107       1      1      1      1      1      1      0      1      1   \n",
       "young920503      1      1      1      1      1      1      0      0      1   \n",
       "ljwljw8541       1      1      1      1      1      0      0      0      1   \n",
       "powergee         1      1      1      1      1      1      1      1      1   \n",
       "vjerksen         1      1      1      1      0      1      0      0      1   \n",
       "...            ...    ...    ...    ...    ...    ...    ...    ...    ...   \n",
       "kriss1607        1      1      0      0      0      0      0      0      1   \n",
       "mk020408         1      1      0      0      0      0      0      0      1   \n",
       "leejoon924       0      0      0      1      0      0      0      0      1   \n",
       "dlatldud11       1      0      0      0      0      0      0      0      0   \n",
       "bingha           1      0      0      0      0      0      0      0      0   \n",
       "\n",
       "             1009   ...  27924  27925  27930  27931  27939  27940  27941  \\\n",
       "iknoom1107       1  ...      0      0      0      0      0      0      0   \n",
       "young920503      1  ...      0      0      0      0      0      0      0   \n",
       "ljwljw8541       1  ...      0      0      1      1      1      0      0   \n",
       "powergee         1  ...      0      0      0      0      0      0      0   \n",
       "vjerksen         1  ...      0      0      0      0      0      0      0   \n",
       "...            ...  ...    ...    ...    ...    ...    ...    ...    ...   \n",
       "kriss1607        0  ...      0      0      0      0      0      0      0   \n",
       "mk020408         0  ...      0      0      0      0      0      0      0   \n",
       "leejoon924       0  ...      0      0      0      0      0      0      0   \n",
       "dlatldud11       0  ...      0      0      0      0      0      0      0   \n",
       "bingha           0  ...      0      0      0      0      0      0      0   \n",
       "\n",
       "             27942  27943  27944  \n",
       "iknoom1107       0      0      0  \n",
       "young920503      0      0      0  \n",
       "ljwljw8541       0      0      0  \n",
       "powergee         0      0      0  \n",
       "vjerksen         0      0      0  \n",
       "...            ...    ...    ...  \n",
       "kriss1607        0      0      0  \n",
       "mk020408         0      0      0  \n",
       "leejoon924       0      0      0  \n",
       "dlatldud11       0      0      0  \n",
       "bingha           0      0      0  \n",
       "\n",
       "[400 rows x 5808 columns]"
      ]
     },
     "execution_count": 120,
     "metadata": {},
     "output_type": "execute_result"
    }
   ],
   "source": [
    "df"
   ]
  },
  {
   "cell_type": "code",
   "execution_count": 121,
   "id": "fd3c3a53",
   "metadata": {},
   "outputs": [],
   "source": [
    "df.to_csv(\"./uos_user_problem_mat.csv\")"
   ]
  },
  {
   "cell_type": "markdown",
   "id": "e73ea597",
   "metadata": {},
   "source": [
    "# EASE 사용"
   ]
  },
  {
   "cell_type": "markdown",
   "id": "a0739e7c",
   "metadata": {},
   "source": [
    "### 아무 아이디로 추천"
   ]
  },
  {
   "cell_type": "code",
   "execution_count": 4,
   "id": "926c068b",
   "metadata": {},
   "outputs": [],
   "source": [
    "# 모델 불러오기\n",
    "with open('./saved_model/ease_model.p', 'rb') as file:\n",
    "    ease = pickle.load(file)"
   ]
  },
  {
   "cell_type": "code",
   "execution_count": null,
   "id": "09d08f29",
   "metadata": {},
   "outputs": [],
   "source": [
    "ease = EASE(300)\n",
    "ease.B = sparse.load_npz('./saved_model/ease_model.npz').toarray()"
   ]
  },
  {
   "cell_type": "code",
   "execution_count": 7,
   "id": "e604890a",
   "metadata": {},
   "outputs": [],
   "source": [
    "NUM_TOP_PROBLEMS = 10\n",
    "user_id = 'sem1308'"
   ]
  },
  {
   "cell_type": "code",
   "execution_count": 12,
   "id": "8d4d0647",
   "metadata": {},
   "outputs": [],
   "source": [
    "user_problem = np.zeros([1, num_problem])\n",
    "add_to_user_problem_mat(0, user_id, user_problem)\n",
    "\n",
    "result = ease.getUsersRating(user_problem)"
   ]
  },
  {
   "cell_type": "code",
   "execution_count": 15,
   "id": "72f07923",
   "metadata": {},
   "outputs": [
    {
     "name": "stdout",
     "output_type": "stream",
     "text": [
      "[[ 2741 10952  1008  1966  2178  2742  1931 10818  1107  2606]]\n"
     ]
    }
   ],
   "source": [
    "result[user_problem.nonzero()] = -np.inf\n",
    "top_problems_by_user = bn.argpartition(-result, NUM_TOP_PROBLEMS, axis=1)[:, :NUM_TOP_PROBLEMS] # 값이 큰 10개 문제 고름\n",
    "top_problems_by_user += 1000\n",
    "print(top_problems_by_user)"
   ]
  },
  {
   "cell_type": "code",
   "execution_count": 50,
   "id": "7faf1c4d",
   "metadata": {},
   "outputs": [],
   "source": [
    "# 태그로 추천\n",
    "\n",
    "selected_tags = ['그리디 알고리즘', '다이나믹 프로그래밍', '브루트포스 알고리즘', '이분 탐색',\n",
    "                '너비 우선 탐색', '깊이 우선 탐색', '데이크스트라', '플로이드–워셜', '비트마스킹', '분리 집합']\n",
    "\n",
    "dataset_dir = './dataset'\n",
    "tp_mat = sparse.load_npz(f'{dataset_dir}/tag_problem_mat_all.npz').toarray()\n",
    "tag_list_all = np.load(f'{dataset_dir}/tag_list_all.npy', allow_pickle=True)\n",
    "prob_num_list_all = np.load(f'{dataset_dir}/prob_num_list_all.npy', allow_pickle=True)\n",
    "tag_problem_mat = pd.DataFrame(tp_mat,index = tag_list_all, columns=prob_num_list_all)"
   ]
  },
  {
   "cell_type": "code",
   "execution_count": 51,
   "id": "c4123f47",
   "metadata": {},
   "outputs": [
    {
     "data": {
      "text/html": [
       "<div>\n",
       "<style scoped>\n",
       "    .dataframe tbody tr th:only-of-type {\n",
       "        vertical-align: middle;\n",
       "    }\n",
       "\n",
       "    .dataframe tbody tr th {\n",
       "        vertical-align: top;\n",
       "    }\n",
       "\n",
       "    .dataframe thead th {\n",
       "        text-align: right;\n",
       "    }\n",
       "</style>\n",
       "<table border=\"1\" class=\"dataframe\">\n",
       "  <thead>\n",
       "    <tr style=\"text-align: right;\">\n",
       "      <th></th>\n",
       "      <th>1000</th>\n",
       "      <th>1001</th>\n",
       "      <th>1002</th>\n",
       "      <th>1003</th>\n",
       "      <th>1004</th>\n",
       "      <th>1005</th>\n",
       "      <th>1006</th>\n",
       "      <th>1007</th>\n",
       "      <th>1008</th>\n",
       "      <th>1009</th>\n",
       "      <th>...</th>\n",
       "      <th>27972</th>\n",
       "      <th>27973</th>\n",
       "      <th>27974</th>\n",
       "      <th>27975</th>\n",
       "      <th>27976</th>\n",
       "      <th>27977</th>\n",
       "      <th>27978</th>\n",
       "      <th>27979</th>\n",
       "      <th>27980</th>\n",
       "      <th>27981</th>\n",
       "    </tr>\n",
       "  </thead>\n",
       "  <tbody>\n",
       "    <tr>\n",
       "      <th>구현</th>\n",
       "      <td>1</td>\n",
       "      <td>1</td>\n",
       "      <td>0</td>\n",
       "      <td>0</td>\n",
       "      <td>0</td>\n",
       "      <td>0</td>\n",
       "      <td>0</td>\n",
       "      <td>0</td>\n",
       "      <td>1</td>\n",
       "      <td>1</td>\n",
       "      <td>...</td>\n",
       "      <td>0</td>\n",
       "      <td>0</td>\n",
       "      <td>0</td>\n",
       "      <td>0</td>\n",
       "      <td>0</td>\n",
       "      <td>0</td>\n",
       "      <td>0</td>\n",
       "      <td>0</td>\n",
       "      <td>0</td>\n",
       "      <td>0</td>\n",
       "    </tr>\n",
       "    <tr>\n",
       "      <th>사칙연산</th>\n",
       "      <td>1</td>\n",
       "      <td>1</td>\n",
       "      <td>0</td>\n",
       "      <td>0</td>\n",
       "      <td>0</td>\n",
       "      <td>0</td>\n",
       "      <td>0</td>\n",
       "      <td>0</td>\n",
       "      <td>1</td>\n",
       "      <td>0</td>\n",
       "      <td>...</td>\n",
       "      <td>0</td>\n",
       "      <td>1</td>\n",
       "      <td>0</td>\n",
       "      <td>0</td>\n",
       "      <td>0</td>\n",
       "      <td>0</td>\n",
       "      <td>0</td>\n",
       "      <td>0</td>\n",
       "      <td>0</td>\n",
       "      <td>0</td>\n",
       "    </tr>\n",
       "    <tr>\n",
       "      <th>수학</th>\n",
       "      <td>1</td>\n",
       "      <td>1</td>\n",
       "      <td>1</td>\n",
       "      <td>0</td>\n",
       "      <td>1</td>\n",
       "      <td>0</td>\n",
       "      <td>0</td>\n",
       "      <td>1</td>\n",
       "      <td>1</td>\n",
       "      <td>1</td>\n",
       "      <td>...</td>\n",
       "      <td>0</td>\n",
       "      <td>1</td>\n",
       "      <td>0</td>\n",
       "      <td>0</td>\n",
       "      <td>0</td>\n",
       "      <td>0</td>\n",
       "      <td>0</td>\n",
       "      <td>0</td>\n",
       "      <td>0</td>\n",
       "      <td>1</td>\n",
       "    </tr>\n",
       "    <tr>\n",
       "      <th>많은 조건 분기</th>\n",
       "      <td>0</td>\n",
       "      <td>0</td>\n",
       "      <td>1</td>\n",
       "      <td>0</td>\n",
       "      <td>0</td>\n",
       "      <td>0</td>\n",
       "      <td>0</td>\n",
       "      <td>0</td>\n",
       "      <td>0</td>\n",
       "      <td>0</td>\n",
       "      <td>...</td>\n",
       "      <td>0</td>\n",
       "      <td>0</td>\n",
       "      <td>0</td>\n",
       "      <td>0</td>\n",
       "      <td>0</td>\n",
       "      <td>0</td>\n",
       "      <td>0</td>\n",
       "      <td>0</td>\n",
       "      <td>0</td>\n",
       "      <td>0</td>\n",
       "    </tr>\n",
       "    <tr>\n",
       "      <th>기하학</th>\n",
       "      <td>0</td>\n",
       "      <td>0</td>\n",
       "      <td>1</td>\n",
       "      <td>0</td>\n",
       "      <td>1</td>\n",
       "      <td>0</td>\n",
       "      <td>0</td>\n",
       "      <td>0</td>\n",
       "      <td>0</td>\n",
       "      <td>0</td>\n",
       "      <td>...</td>\n",
       "      <td>0</td>\n",
       "      <td>0</td>\n",
       "      <td>0</td>\n",
       "      <td>0</td>\n",
       "      <td>0</td>\n",
       "      <td>0</td>\n",
       "      <td>0</td>\n",
       "      <td>0</td>\n",
       "      <td>0</td>\n",
       "      <td>0</td>\n",
       "    </tr>\n",
       "    <tr>\n",
       "      <th>...</th>\n",
       "      <td>...</td>\n",
       "      <td>...</td>\n",
       "      <td>...</td>\n",
       "      <td>...</td>\n",
       "      <td>...</td>\n",
       "      <td>...</td>\n",
       "      <td>...</td>\n",
       "      <td>...</td>\n",
       "      <td>...</td>\n",
       "      <td>...</td>\n",
       "      <td>...</td>\n",
       "      <td>...</td>\n",
       "      <td>...</td>\n",
       "      <td>...</td>\n",
       "      <td>...</td>\n",
       "      <td>...</td>\n",
       "      <td>...</td>\n",
       "      <td>...</td>\n",
       "      <td>...</td>\n",
       "      <td>...</td>\n",
       "      <td>...</td>\n",
       "    </tr>\n",
       "    <tr>\n",
       "      <th>레드-블랙 트리</th>\n",
       "      <td>0</td>\n",
       "      <td>0</td>\n",
       "      <td>0</td>\n",
       "      <td>0</td>\n",
       "      <td>0</td>\n",
       "      <td>0</td>\n",
       "      <td>0</td>\n",
       "      <td>0</td>\n",
       "      <td>0</td>\n",
       "      <td>0</td>\n",
       "      <td>...</td>\n",
       "      <td>0</td>\n",
       "      <td>0</td>\n",
       "      <td>0</td>\n",
       "      <td>0</td>\n",
       "      <td>0</td>\n",
       "      <td>0</td>\n",
       "      <td>0</td>\n",
       "      <td>0</td>\n",
       "      <td>0</td>\n",
       "      <td>0</td>\n",
       "    </tr>\n",
       "    <tr>\n",
       "      <th>탑 트리</th>\n",
       "      <td>0</td>\n",
       "      <td>0</td>\n",
       "      <td>0</td>\n",
       "      <td>0</td>\n",
       "      <td>0</td>\n",
       "      <td>0</td>\n",
       "      <td>0</td>\n",
       "      <td>0</td>\n",
       "      <td>0</td>\n",
       "      <td>0</td>\n",
       "      <td>...</td>\n",
       "      <td>0</td>\n",
       "      <td>0</td>\n",
       "      <td>0</td>\n",
       "      <td>0</td>\n",
       "      <td>0</td>\n",
       "      <td>0</td>\n",
       "      <td>0</td>\n",
       "      <td>0</td>\n",
       "      <td>0</td>\n",
       "      <td>0</td>\n",
       "    </tr>\n",
       "    <tr>\n",
       "      <th>데카르트 트리</th>\n",
       "      <td>0</td>\n",
       "      <td>0</td>\n",
       "      <td>0</td>\n",
       "      <td>0</td>\n",
       "      <td>0</td>\n",
       "      <td>0</td>\n",
       "      <td>0</td>\n",
       "      <td>0</td>\n",
       "      <td>0</td>\n",
       "      <td>0</td>\n",
       "      <td>...</td>\n",
       "      <td>0</td>\n",
       "      <td>0</td>\n",
       "      <td>0</td>\n",
       "      <td>0</td>\n",
       "      <td>0</td>\n",
       "      <td>0</td>\n",
       "      <td>0</td>\n",
       "      <td>0</td>\n",
       "      <td>0</td>\n",
       "      <td>0</td>\n",
       "    </tr>\n",
       "    <tr>\n",
       "      <th>다항식 보간법</th>\n",
       "      <td>0</td>\n",
       "      <td>0</td>\n",
       "      <td>0</td>\n",
       "      <td>0</td>\n",
       "      <td>0</td>\n",
       "      <td>0</td>\n",
       "      <td>0</td>\n",
       "      <td>0</td>\n",
       "      <td>0</td>\n",
       "      <td>0</td>\n",
       "      <td>...</td>\n",
       "      <td>0</td>\n",
       "      <td>0</td>\n",
       "      <td>0</td>\n",
       "      <td>0</td>\n",
       "      <td>0</td>\n",
       "      <td>0</td>\n",
       "      <td>0</td>\n",
       "      <td>0</td>\n",
       "      <td>0</td>\n",
       "      <td>0</td>\n",
       "    </tr>\n",
       "    <tr>\n",
       "      <th>생일 문제</th>\n",
       "      <td>0</td>\n",
       "      <td>0</td>\n",
       "      <td>0</td>\n",
       "      <td>0</td>\n",
       "      <td>0</td>\n",
       "      <td>0</td>\n",
       "      <td>0</td>\n",
       "      <td>0</td>\n",
       "      <td>0</td>\n",
       "      <td>0</td>\n",
       "      <td>...</td>\n",
       "      <td>0</td>\n",
       "      <td>0</td>\n",
       "      <td>0</td>\n",
       "      <td>0</td>\n",
       "      <td>0</td>\n",
       "      <td>0</td>\n",
       "      <td>0</td>\n",
       "      <td>0</td>\n",
       "      <td>0</td>\n",
       "      <td>0</td>\n",
       "    </tr>\n",
       "  </tbody>\n",
       "</table>\n",
       "<p>196 rows × 26188 columns</p>\n",
       "</div>"
      ],
      "text/plain": [
       "          1000  1001  1002  1003  1004  1005  1006  1007  1008  1009  ...  \\\n",
       "구현           1     1     0     0     0     0     0     0     1     1  ...   \n",
       "사칙연산         1     1     0     0     0     0     0     0     1     0  ...   \n",
       "수학           1     1     1     0     1     0     0     1     1     1  ...   \n",
       "많은 조건 분기     0     0     1     0     0     0     0     0     0     0  ...   \n",
       "기하학          0     0     1     0     1     0     0     0     0     0  ...   \n",
       "...        ...   ...   ...   ...   ...   ...   ...   ...   ...   ...  ...   \n",
       "레드-블랙 트리     0     0     0     0     0     0     0     0     0     0  ...   \n",
       "탑 트리         0     0     0     0     0     0     0     0     0     0  ...   \n",
       "데카르트 트리      0     0     0     0     0     0     0     0     0     0  ...   \n",
       "다항식 보간법      0     0     0     0     0     0     0     0     0     0  ...   \n",
       "생일 문제        0     0     0     0     0     0     0     0     0     0  ...   \n",
       "\n",
       "          27972  27973  27974  27975  27976  27977  27978  27979  27980  27981  \n",
       "구현            0      0      0      0      0      0      0      0      0      0  \n",
       "사칙연산          0      1      0      0      0      0      0      0      0      0  \n",
       "수학            0      1      0      0      0      0      0      0      0      1  \n",
       "많은 조건 분기      0      0      0      0      0      0      0      0      0      0  \n",
       "기하학           0      0      0      0      0      0      0      0      0      0  \n",
       "...         ...    ...    ...    ...    ...    ...    ...    ...    ...    ...  \n",
       "레드-블랙 트리      0      0      0      0      0      0      0      0      0      0  \n",
       "탑 트리          0      0      0      0      0      0      0      0      0      0  \n",
       "데카르트 트리       0      0      0      0      0      0      0      0      0      0  \n",
       "다항식 보간법       0      0      0      0      0      0      0      0      0      0  \n",
       "생일 문제         0      0      0      0      0      0      0      0      0      0  \n",
       "\n",
       "[196 rows x 26188 columns]"
      ]
     },
     "execution_count": 51,
     "metadata": {},
     "output_type": "execute_result"
    }
   ],
   "source": [
    "tag_problem_mat"
   ]
  },
  {
   "cell_type": "code",
   "execution_count": 52,
   "id": "1b72d40f",
   "metadata": {},
   "outputs": [
    {
     "ename": "KeyError",
     "evalue": "\"None of [Index(['그리디 알고리즘', '다이나믹 프로그래밍', '브루트포스 알고리즘', '이분 탐색', '너비 우선 탐색', '깊이 우선 탐색',\\n       '데이크스트라', '플로이드–워셜', '비트마스킹', '분리 집합'],\\n      dtype='object')] are in the [columns]\"",
     "output_type": "error",
     "traceback": [
      "\u001b[1;31m---------------------------------------------------------------------------\u001b[0m",
      "\u001b[1;31mKeyError\u001b[0m                                  Traceback (most recent call last)",
      "Cell \u001b[1;32mIn[52], line 1\u001b[0m\n\u001b[1;32m----> 1\u001b[0m tag_problem_mat \u001b[38;5;241m=\u001b[39m \u001b[43mtag_problem_mat\u001b[49m\u001b[43m[\u001b[49m\u001b[43mselected_tags\u001b[49m\u001b[43m]\u001b[49m\u001b[38;5;241m.\u001b[39mT\n",
      "File \u001b[1;32m~\\anaconda3\\envs\\PythonProj\\lib\\site-packages\\pandas\\core\\frame.py:3813\u001b[0m, in \u001b[0;36mDataFrame.__getitem__\u001b[1;34m(self, key)\u001b[0m\n\u001b[0;32m   3811\u001b[0m     \u001b[38;5;28;01mif\u001b[39;00m is_iterator(key):\n\u001b[0;32m   3812\u001b[0m         key \u001b[38;5;241m=\u001b[39m \u001b[38;5;28mlist\u001b[39m(key)\n\u001b[1;32m-> 3813\u001b[0m     indexer \u001b[38;5;241m=\u001b[39m \u001b[38;5;28;43mself\u001b[39;49m\u001b[38;5;241;43m.\u001b[39;49m\u001b[43mcolumns\u001b[49m\u001b[38;5;241;43m.\u001b[39;49m\u001b[43m_get_indexer_strict\u001b[49m\u001b[43m(\u001b[49m\u001b[43mkey\u001b[49m\u001b[43m,\u001b[49m\u001b[43m \u001b[49m\u001b[38;5;124;43m\"\u001b[39;49m\u001b[38;5;124;43mcolumns\u001b[39;49m\u001b[38;5;124;43m\"\u001b[39;49m\u001b[43m)\u001b[49m[\u001b[38;5;241m1\u001b[39m]\n\u001b[0;32m   3815\u001b[0m \u001b[38;5;66;03m# take() does not accept boolean indexers\u001b[39;00m\n\u001b[0;32m   3816\u001b[0m \u001b[38;5;28;01mif\u001b[39;00m \u001b[38;5;28mgetattr\u001b[39m(indexer, \u001b[38;5;124m\"\u001b[39m\u001b[38;5;124mdtype\u001b[39m\u001b[38;5;124m\"\u001b[39m, \u001b[38;5;28;01mNone\u001b[39;00m) \u001b[38;5;241m==\u001b[39m \u001b[38;5;28mbool\u001b[39m:\n",
      "File \u001b[1;32m~\\anaconda3\\envs\\PythonProj\\lib\\site-packages\\pandas\\core\\indexes\\base.py:6070\u001b[0m, in \u001b[0;36mIndex._get_indexer_strict\u001b[1;34m(self, key, axis_name)\u001b[0m\n\u001b[0;32m   6067\u001b[0m \u001b[38;5;28;01melse\u001b[39;00m:\n\u001b[0;32m   6068\u001b[0m     keyarr, indexer, new_indexer \u001b[38;5;241m=\u001b[39m \u001b[38;5;28mself\u001b[39m\u001b[38;5;241m.\u001b[39m_reindex_non_unique(keyarr)\n\u001b[1;32m-> 6070\u001b[0m \u001b[38;5;28;43mself\u001b[39;49m\u001b[38;5;241;43m.\u001b[39;49m\u001b[43m_raise_if_missing\u001b[49m\u001b[43m(\u001b[49m\u001b[43mkeyarr\u001b[49m\u001b[43m,\u001b[49m\u001b[43m \u001b[49m\u001b[43mindexer\u001b[49m\u001b[43m,\u001b[49m\u001b[43m \u001b[49m\u001b[43maxis_name\u001b[49m\u001b[43m)\u001b[49m\n\u001b[0;32m   6072\u001b[0m keyarr \u001b[38;5;241m=\u001b[39m \u001b[38;5;28mself\u001b[39m\u001b[38;5;241m.\u001b[39mtake(indexer)\n\u001b[0;32m   6073\u001b[0m \u001b[38;5;28;01mif\u001b[39;00m \u001b[38;5;28misinstance\u001b[39m(key, Index):\n\u001b[0;32m   6074\u001b[0m     \u001b[38;5;66;03m# GH 42790 - Preserve name from an Index\u001b[39;00m\n",
      "File \u001b[1;32m~\\anaconda3\\envs\\PythonProj\\lib\\site-packages\\pandas\\core\\indexes\\base.py:6130\u001b[0m, in \u001b[0;36mIndex._raise_if_missing\u001b[1;34m(self, key, indexer, axis_name)\u001b[0m\n\u001b[0;32m   6128\u001b[0m     \u001b[38;5;28;01mif\u001b[39;00m use_interval_msg:\n\u001b[0;32m   6129\u001b[0m         key \u001b[38;5;241m=\u001b[39m \u001b[38;5;28mlist\u001b[39m(key)\n\u001b[1;32m-> 6130\u001b[0m     \u001b[38;5;28;01mraise\u001b[39;00m \u001b[38;5;167;01mKeyError\u001b[39;00m(\u001b[38;5;124mf\u001b[39m\u001b[38;5;124m\"\u001b[39m\u001b[38;5;124mNone of [\u001b[39m\u001b[38;5;132;01m{\u001b[39;00mkey\u001b[38;5;132;01m}\u001b[39;00m\u001b[38;5;124m] are in the [\u001b[39m\u001b[38;5;132;01m{\u001b[39;00maxis_name\u001b[38;5;132;01m}\u001b[39;00m\u001b[38;5;124m]\u001b[39m\u001b[38;5;124m\"\u001b[39m)\n\u001b[0;32m   6132\u001b[0m not_found \u001b[38;5;241m=\u001b[39m \u001b[38;5;28mlist\u001b[39m(ensure_index(key)[missing_mask\u001b[38;5;241m.\u001b[39mnonzero()[\u001b[38;5;241m0\u001b[39m]]\u001b[38;5;241m.\u001b[39munique())\n\u001b[0;32m   6133\u001b[0m \u001b[38;5;28;01mraise\u001b[39;00m \u001b[38;5;167;01mKeyError\u001b[39;00m(\u001b[38;5;124mf\u001b[39m\u001b[38;5;124m\"\u001b[39m\u001b[38;5;132;01m{\u001b[39;00mnot_found\u001b[38;5;132;01m}\u001b[39;00m\u001b[38;5;124m not in index\u001b[39m\u001b[38;5;124m\"\u001b[39m)\n",
      "\u001b[1;31mKeyError\u001b[0m: \"None of [Index(['그리디 알고리즘', '다이나믹 프로그래밍', '브루트포스 알고리즘', '이분 탐색', '너비 우선 탐색', '깊이 우선 탐색',\\n       '데이크스트라', '플로이드–워셜', '비트마스킹', '분리 집합'],\\n      dtype='object')] are in the [columns]\""
     ]
    }
   ],
   "source": [
    "tag_problem_mat = tag_problem_mat[selected_tags].T"
   ]
  },
  {
   "cell_type": "code",
   "execution_count": 8,
   "id": "af59d052",
   "metadata": {},
   "outputs": [
    {
     "data": {
      "text/html": [
       "<div>\n",
       "<style scoped>\n",
       "    .dataframe tbody tr th:only-of-type {\n",
       "        vertical-align: middle;\n",
       "    }\n",
       "\n",
       "    .dataframe tbody tr th {\n",
       "        vertical-align: top;\n",
       "    }\n",
       "\n",
       "    .dataframe thead th {\n",
       "        text-align: right;\n",
       "    }\n",
       "</style>\n",
       "<table border=\"1\" class=\"dataframe\">\n",
       "  <thead>\n",
       "    <tr style=\"text-align: right;\">\n",
       "      <th></th>\n",
       "      <th>0</th>\n",
       "      <th>1</th>\n",
       "      <th>2</th>\n",
       "      <th>3</th>\n",
       "      <th>4</th>\n",
       "      <th>5</th>\n",
       "      <th>6</th>\n",
       "      <th>7</th>\n",
       "      <th>8</th>\n",
       "      <th>9</th>\n",
       "      <th>...</th>\n",
       "      <th>26178</th>\n",
       "      <th>26179</th>\n",
       "      <th>26180</th>\n",
       "      <th>26181</th>\n",
       "      <th>26182</th>\n",
       "      <th>26183</th>\n",
       "      <th>26184</th>\n",
       "      <th>26185</th>\n",
       "      <th>26186</th>\n",
       "      <th>26187</th>\n",
       "    </tr>\n",
       "  </thead>\n",
       "  <tbody>\n",
       "    <tr>\n",
       "      <th>그리디 알고리즘</th>\n",
       "      <td>0</td>\n",
       "      <td>0</td>\n",
       "      <td>0</td>\n",
       "      <td>0</td>\n",
       "      <td>0</td>\n",
       "      <td>0</td>\n",
       "      <td>0</td>\n",
       "      <td>0</td>\n",
       "      <td>0</td>\n",
       "      <td>0</td>\n",
       "      <td>...</td>\n",
       "      <td>1</td>\n",
       "      <td>0</td>\n",
       "      <td>0</td>\n",
       "      <td>0</td>\n",
       "      <td>0</td>\n",
       "      <td>0</td>\n",
       "      <td>0</td>\n",
       "      <td>0</td>\n",
       "      <td>0</td>\n",
       "      <td>0</td>\n",
       "    </tr>\n",
       "    <tr>\n",
       "      <th>다이나믹 프로그래밍</th>\n",
       "      <td>0</td>\n",
       "      <td>0</td>\n",
       "      <td>0</td>\n",
       "      <td>1</td>\n",
       "      <td>0</td>\n",
       "      <td>1</td>\n",
       "      <td>1</td>\n",
       "      <td>0</td>\n",
       "      <td>0</td>\n",
       "      <td>0</td>\n",
       "      <td>...</td>\n",
       "      <td>0</td>\n",
       "      <td>0</td>\n",
       "      <td>0</td>\n",
       "      <td>0</td>\n",
       "      <td>0</td>\n",
       "      <td>0</td>\n",
       "      <td>0</td>\n",
       "      <td>0</td>\n",
       "      <td>1</td>\n",
       "      <td>0</td>\n",
       "    </tr>\n",
       "    <tr>\n",
       "      <th>브루트포스 알고리즘</th>\n",
       "      <td>0</td>\n",
       "      <td>0</td>\n",
       "      <td>0</td>\n",
       "      <td>0</td>\n",
       "      <td>0</td>\n",
       "      <td>0</td>\n",
       "      <td>0</td>\n",
       "      <td>1</td>\n",
       "      <td>0</td>\n",
       "      <td>0</td>\n",
       "      <td>...</td>\n",
       "      <td>0</td>\n",
       "      <td>0</td>\n",
       "      <td>0</td>\n",
       "      <td>0</td>\n",
       "      <td>0</td>\n",
       "      <td>0</td>\n",
       "      <td>0</td>\n",
       "      <td>0</td>\n",
       "      <td>0</td>\n",
       "      <td>0</td>\n",
       "    </tr>\n",
       "    <tr>\n",
       "      <th>이분 탐색</th>\n",
       "      <td>0</td>\n",
       "      <td>0</td>\n",
       "      <td>0</td>\n",
       "      <td>0</td>\n",
       "      <td>0</td>\n",
       "      <td>0</td>\n",
       "      <td>0</td>\n",
       "      <td>0</td>\n",
       "      <td>0</td>\n",
       "      <td>0</td>\n",
       "      <td>...</td>\n",
       "      <td>0</td>\n",
       "      <td>0</td>\n",
       "      <td>0</td>\n",
       "      <td>0</td>\n",
       "      <td>0</td>\n",
       "      <td>1</td>\n",
       "      <td>0</td>\n",
       "      <td>0</td>\n",
       "      <td>0</td>\n",
       "      <td>0</td>\n",
       "    </tr>\n",
       "    <tr>\n",
       "      <th>너비 우선 탐색</th>\n",
       "      <td>0</td>\n",
       "      <td>0</td>\n",
       "      <td>0</td>\n",
       "      <td>0</td>\n",
       "      <td>0</td>\n",
       "      <td>0</td>\n",
       "      <td>0</td>\n",
       "      <td>0</td>\n",
       "      <td>0</td>\n",
       "      <td>0</td>\n",
       "      <td>...</td>\n",
       "      <td>0</td>\n",
       "      <td>0</td>\n",
       "      <td>0</td>\n",
       "      <td>0</td>\n",
       "      <td>0</td>\n",
       "      <td>0</td>\n",
       "      <td>1</td>\n",
       "      <td>0</td>\n",
       "      <td>0</td>\n",
       "      <td>0</td>\n",
       "    </tr>\n",
       "    <tr>\n",
       "      <th>깊이 우선 탐색</th>\n",
       "      <td>0</td>\n",
       "      <td>0</td>\n",
       "      <td>0</td>\n",
       "      <td>0</td>\n",
       "      <td>0</td>\n",
       "      <td>0</td>\n",
       "      <td>0</td>\n",
       "      <td>0</td>\n",
       "      <td>0</td>\n",
       "      <td>0</td>\n",
       "      <td>...</td>\n",
       "      <td>0</td>\n",
       "      <td>0</td>\n",
       "      <td>0</td>\n",
       "      <td>0</td>\n",
       "      <td>0</td>\n",
       "      <td>0</td>\n",
       "      <td>0</td>\n",
       "      <td>0</td>\n",
       "      <td>0</td>\n",
       "      <td>0</td>\n",
       "    </tr>\n",
       "    <tr>\n",
       "      <th>데이크스트라</th>\n",
       "      <td>0</td>\n",
       "      <td>0</td>\n",
       "      <td>0</td>\n",
       "      <td>0</td>\n",
       "      <td>0</td>\n",
       "      <td>0</td>\n",
       "      <td>0</td>\n",
       "      <td>0</td>\n",
       "      <td>0</td>\n",
       "      <td>0</td>\n",
       "      <td>...</td>\n",
       "      <td>0</td>\n",
       "      <td>0</td>\n",
       "      <td>0</td>\n",
       "      <td>0</td>\n",
       "      <td>0</td>\n",
       "      <td>0</td>\n",
       "      <td>1</td>\n",
       "      <td>0</td>\n",
       "      <td>0</td>\n",
       "      <td>0</td>\n",
       "    </tr>\n",
       "    <tr>\n",
       "      <th>플로이드–워셜</th>\n",
       "      <td>0</td>\n",
       "      <td>0</td>\n",
       "      <td>0</td>\n",
       "      <td>0</td>\n",
       "      <td>0</td>\n",
       "      <td>0</td>\n",
       "      <td>0</td>\n",
       "      <td>0</td>\n",
       "      <td>0</td>\n",
       "      <td>0</td>\n",
       "      <td>...</td>\n",
       "      <td>0</td>\n",
       "      <td>0</td>\n",
       "      <td>0</td>\n",
       "      <td>0</td>\n",
       "      <td>0</td>\n",
       "      <td>0</td>\n",
       "      <td>0</td>\n",
       "      <td>0</td>\n",
       "      <td>0</td>\n",
       "      <td>0</td>\n",
       "    </tr>\n",
       "    <tr>\n",
       "      <th>비트마스킹</th>\n",
       "      <td>0</td>\n",
       "      <td>0</td>\n",
       "      <td>0</td>\n",
       "      <td>0</td>\n",
       "      <td>0</td>\n",
       "      <td>0</td>\n",
       "      <td>0</td>\n",
       "      <td>0</td>\n",
       "      <td>0</td>\n",
       "      <td>0</td>\n",
       "      <td>...</td>\n",
       "      <td>0</td>\n",
       "      <td>0</td>\n",
       "      <td>0</td>\n",
       "      <td>0</td>\n",
       "      <td>0</td>\n",
       "      <td>0</td>\n",
       "      <td>0</td>\n",
       "      <td>0</td>\n",
       "      <td>0</td>\n",
       "      <td>0</td>\n",
       "    </tr>\n",
       "    <tr>\n",
       "      <th>분리 집합</th>\n",
       "      <td>0</td>\n",
       "      <td>0</td>\n",
       "      <td>0</td>\n",
       "      <td>0</td>\n",
       "      <td>0</td>\n",
       "      <td>0</td>\n",
       "      <td>0</td>\n",
       "      <td>0</td>\n",
       "      <td>0</td>\n",
       "      <td>0</td>\n",
       "      <td>...</td>\n",
       "      <td>0</td>\n",
       "      <td>0</td>\n",
       "      <td>0</td>\n",
       "      <td>0</td>\n",
       "      <td>0</td>\n",
       "      <td>0</td>\n",
       "      <td>0</td>\n",
       "      <td>0</td>\n",
       "      <td>0</td>\n",
       "      <td>0</td>\n",
       "    </tr>\n",
       "  </tbody>\n",
       "</table>\n",
       "<p>10 rows × 26188 columns</p>\n",
       "</div>"
      ],
      "text/plain": [
       "            0      1      2      3      4      5      6      7      8      \\\n",
       "그리디 알고리즘        0      0      0      0      0      0      0      0      0   \n",
       "다이나믹 프로그래밍      0      0      0      1      0      1      1      0      0   \n",
       "브루트포스 알고리즘      0      0      0      0      0      0      0      1      0   \n",
       "이분 탐색           0      0      0      0      0      0      0      0      0   \n",
       "너비 우선 탐색        0      0      0      0      0      0      0      0      0   \n",
       "깊이 우선 탐색        0      0      0      0      0      0      0      0      0   \n",
       "데이크스트라          0      0      0      0      0      0      0      0      0   \n",
       "플로이드–워셜         0      0      0      0      0      0      0      0      0   \n",
       "비트마스킹           0      0      0      0      0      0      0      0      0   \n",
       "분리 집합           0      0      0      0      0      0      0      0      0   \n",
       "\n",
       "            9      ...  26178  26179  26180  26181  26182  26183  26184  \\\n",
       "그리디 알고리즘        0  ...      1      0      0      0      0      0      0   \n",
       "다이나믹 프로그래밍      0  ...      0      0      0      0      0      0      0   \n",
       "브루트포스 알고리즘      0  ...      0      0      0      0      0      0      0   \n",
       "이분 탐색           0  ...      0      0      0      0      0      1      0   \n",
       "너비 우선 탐색        0  ...      0      0      0      0      0      0      1   \n",
       "깊이 우선 탐색        0  ...      0      0      0      0      0      0      0   \n",
       "데이크스트라          0  ...      0      0      0      0      0      0      1   \n",
       "플로이드–워셜         0  ...      0      0      0      0      0      0      0   \n",
       "비트마스킹           0  ...      0      0      0      0      0      0      0   \n",
       "분리 집합           0  ...      0      0      0      0      0      0      0   \n",
       "\n",
       "            26185  26186  26187  \n",
       "그리디 알고리즘        0      0      0  \n",
       "다이나믹 프로그래밍      0      1      0  \n",
       "브루트포스 알고리즘      0      0      0  \n",
       "이분 탐색           0      0      0  \n",
       "너비 우선 탐색        0      0      0  \n",
       "깊이 우선 탐색        0      0      0  \n",
       "데이크스트라          0      0      0  \n",
       "플로이드–워셜         0      0      0  \n",
       "비트마스킹           0      0      0  \n",
       "분리 집합           0      0      0  \n",
       "\n",
       "[10 rows x 26188 columns]"
      ]
     },
     "execution_count": 8,
     "metadata": {},
     "output_type": "execute_result"
    }
   ],
   "source": [
    "tag_problem_mat"
   ]
  },
  {
   "cell_type": "code",
   "execution_count": 82,
   "id": "7841cdda",
   "metadata": {},
   "outputs": [],
   "source": [
    "tag_name = '그리디 알고리즘'\n",
    "selected_probs_by_tag = []\n",
    "for tag_pro_row in tag_problem_mat:\n",
    "    if tag_problem_mat[tag_pro_row][tag_name]:\n",
    "        selected_probs_by_tag.append(int(tag_pro_row)-1000)"
   ]
  },
  {
   "cell_type": "code",
   "execution_count": 100,
   "id": "251effbc",
   "metadata": {},
   "outputs": [],
   "source": [
    "idx_to_num = dict(zip(range(len(selected_probs_by_tag)),selected_probs_by_tag))"
   ]
  },
  {
   "cell_type": "code",
   "execution_count": 120,
   "id": "6cd57ad8",
   "metadata": {},
   "outputs": [],
   "source": [
    "result[user_problem.nonzero()] = -np.inf\n",
    "result = np.expand_dims(result[0][selected_probs_by_tag],axis=0)\n",
    "top_idx_by_user = bn.argpartition(-result, NUM_TOP_PROBLEMS, axis=1)[:, :NUM_TOP_PROBLEMS][0] # 값이 큰 10개 문제 고름\n",
    "top_problems_by_user = np.array([idx_to_num[idx] for idx in top_idx_by_user])\n",
    "top_problems_by_user += 1000"
   ]
  },
  {
   "cell_type": "code",
   "execution_count": 121,
   "id": "633ad36a",
   "metadata": {},
   "outputs": [
    {
     "data": {
      "text/plain": [
       "array([ 1080,  1439, 11399,  1931,  2212,  2839,  1105,  1339,  1082,\n",
       "       10775])"
      ]
     },
     "execution_count": 121,
     "metadata": {},
     "output_type": "execute_result"
    }
   ],
   "source": [
    "top_problems_by_user"
   ]
  },
  {
   "cell_type": "code",
   "execution_count": 113,
   "id": "ae4d8a07",
   "metadata": {},
   "outputs": [],
   "source": [
    "top_problems_by_user += 1000"
   ]
  },
  {
   "cell_type": "code",
   "execution_count": 83,
   "id": "c9fa72ad",
   "metadata": {},
   "outputs": [
    {
     "data": {
      "text/plain": [
       "[array([       -inf,        -inf,        -inf, ..., -0.00350231,\n",
       "        -0.00335413, -0.00162263])]"
      ]
     },
     "execution_count": 83,
     "metadata": {},
     "output_type": "execute_result"
    }
   ],
   "source": [
    "result[user_problem.nonzero()] = -np.inf\n",
    "sorted(result)"
   ]
  },
  {
   "cell_type": "code",
   "execution_count": 12,
   "id": "feab7679",
   "metadata": {},
   "outputs": [
    {
     "data": {
      "text/plain": [
       "(1, 26918)"
      ]
     },
     "execution_count": 12,
     "metadata": {},
     "output_type": "execute_result"
    }
   ],
   "source": [
    "result.shape"
   ]
  },
  {
   "cell_type": "code",
   "execution_count": 60,
   "id": "59775261",
   "metadata": {},
   "outputs": [
    {
     "name": "stdout",
     "output_type": "stream",
     "text": [
      "[[ 2331 11931 10699 10819  2003 12851 10867 11051 12837  1735]]\n"
     ]
    }
   ],
   "source": [
    "# 유저가 잘 풀지 않은 유형의 문제 추천 - 이건 비교적 부정확한 듯?\n",
    "result[user_problem.nonzero()] = np.inf\n",
    "top_problems_by_user_reverse = bn.argpartition(result, NUM_TOP_PROBLEMS, axis=1)[:, :NUM_TOP_PROBLEMS]\n",
    "top_problems_by_user_reverse += 1000\n",
    "print(top_problems_by_user_reverse)"
   ]
  }
 ],
 "metadata": {
  "kernelspec": {
   "display_name": "Python 3 (ipykernel)",
   "language": "python",
   "name": "python3"
  },
  "language_info": {
   "codemirror_mode": {
    "name": "ipython",
    "version": 3
   },
   "file_extension": ".py",
   "mimetype": "text/x-python",
   "name": "python",
   "nbconvert_exporter": "python",
   "pygments_lexer": "ipython3",
   "version": "3.10.9"
  }
 },
 "nbformat": 4,
 "nbformat_minor": 5
}
