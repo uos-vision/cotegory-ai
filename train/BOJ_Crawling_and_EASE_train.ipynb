{
 "cells": [
  {
   "cell_type": "markdown",
   "id": "e904f962",
   "metadata": {},
   "source": [
    "# BOJ에서 유저가이 푼 문제 목록 정리"
   ]
  },
  {
   "cell_type": "code",
   "execution_count": 4,
   "id": "7ece761a",
   "metadata": {
    "collapsed": true
   },
   "outputs": [
    {
     "ename": "ModuleNotFoundError",
     "evalue": "No module named 'sklearn'",
     "output_type": "error",
     "traceback": [
      "\u001b[1;31m---------------------------------------------------------------------------\u001b[0m",
      "\u001b[1;31mModuleNotFoundError\u001b[0m                       Traceback (most recent call last)",
      "Cell \u001b[1;32mIn[4], line 11\u001b[0m\n\u001b[0;32m      9\u001b[0m \u001b[38;5;28;01mimport\u001b[39;00m \u001b[38;5;21;01mrandom\u001b[39;00m\n\u001b[0;32m     10\u001b[0m \u001b[38;5;28;01mimport\u001b[39;00m \u001b[38;5;21;01mmath\u001b[39;00m\n\u001b[1;32m---> 11\u001b[0m \u001b[38;5;28;01mfrom\u001b[39;00m \u001b[38;5;21;01msklearn\u001b[39;00m\u001b[38;5;21;01m.\u001b[39;00m\u001b[38;5;21;01mmodel_selection\u001b[39;00m \u001b[38;5;28;01mimport\u001b[39;00m train_test_split\n",
      "\u001b[1;31mModuleNotFoundError\u001b[0m: No module named 'sklearn'"
     ]
    }
   ],
   "source": [
    "import numpy as np\n",
    "import requests\n",
    "from bs4 import BeautifulSoup\n",
    "import pandas as pd\n",
    "from tqdm import tqdm\n",
    "import bottleneck as bn\n",
    "import pickle\n",
    "import time \n",
    "import random\n",
    "import math\n",
    "from sklearn.model_selection import train_test_split"
   ]
  },
  {
   "cell_type": "code",
   "execution_count": 2,
   "id": "f50a3697",
   "metadata": {},
   "outputs": [],
   "source": [
    "headers = {\n",
    "    'User-Agent': 'Mozilla/5.0 (Windows NT 10.0; Win64; x64)AppleWebKit/537.36 (KHTML, like Gecko) Chrome/73.0.3683.86 Safari/537.36'}\n",
    "\n",
    "def add_ids(page_num : int, user_ids: list, sample_len : int = 5):\n",
    "    data = requests.get(f'https://www.acmicpc.net/ranklist/{page_num}', headers=headers)\n",
    "    soup = BeautifulSoup(data.text, 'html.parser')\n",
    "    trs = soup.select('tbody > tr')\n",
    "\n",
    "    user_len = len(trs) # 최대 100명 임\n",
    "    \n",
    "    if user_len < sample_len :\n",
    "        sample_len = user_len\n",
    "\n",
    "    sample_nums = random.sample(range(0,user_len),sample_len)\n",
    "\n",
    "    for num in sample_nums:\n",
    "        tr = trs[num]\n",
    "        user_ids.append(tr.select_one('td:nth-child(2) > a').text)\n",
    "        \n",
    "        \n",
    "def add_group_ids(group_num,page_num, user_ids : list):\n",
    "    data = requests.get(f'https://www.acmicpc.net/school/ranklist/{group_num}/{page_num}', headers=headers)\n",
    "    soup = BeautifulSoup(data.text, 'html.parser')\n",
    "    trs = soup.select('tbody > tr')\n",
    "\n",
    "    for tr in trs:\n",
    "        user_ids.append(tr.select_one('td:nth-child(2) > a').text)\n",
    "\n",
    "def add_to_user_problem_mat(idx, id, user_problem_mat : np.array):\n",
    "    data = requests.get(f'https://www.acmicpc.net/user/{id}', headers=headers)\n",
    "    soup = BeautifulSoup(data.text, 'html.parser')\n",
    "    trs = soup.select('div.problem-list')\n",
    "\n",
    "    for tr in trs:\n",
    "        problem_nums = tr.select('a')\n",
    "            \n",
    "        for problem_num in problem_nums :\n",
    "\n",
    "            problem_num = int(problem_num.text) - 1000\n",
    "            #print(problem_num)\n",
    "            try:\n",
    "                user_problem_mat[idx,problem_num] = 1\n",
    "            except:\n",
    "                print(\"문제 번호 : \" + str(problem_num))\n",
    "                \n",
    "def gen_user_problem_mat(id, user_problem : dict, problem_num_set : set):\n",
    "    data = requests.get(f'https://www.acmicpc.net/user/{id}', headers=headers)\n",
    "    soup = BeautifulSoup(data.text, 'html.parser')\n",
    "    trs = soup.select('div.problem-list')\n",
    "\n",
    "    time.sleep(0.1)\n",
    "    \n",
    "    user_problem[id] = []\n",
    "    \n",
    "    for tr in trs:\n",
    "        problem_nums = tr.select('a')\n",
    "        for problem_num in problem_nums :\n",
    "            problem_num = int(problem_num.text)\n",
    "            #print(problem_num)\n",
    "            user_problem[id].append(problem_num)\n",
    "            problem_num_set.add(problem_num)\n",
    "                \n",
    "def add_to_tag_pb(pb_nums : str, tag_pb : dict, tag_name_to_id : dict, num_problem: int):    \n",
    "    resp = requests.get(f\"https://solved.ac/api/v3/problem/lookup?problemIds={pb_nums}\", headers = {'Content-Type': 'application/json'})\n",
    "    \n",
    "    if resp.status_code != 200: \n",
    "        print(f'{resp.status_code} : {pb_num} - error!!!')\n",
    "        return\n",
    "    \n",
    "    jsons = resp.json()\n",
    "    #print(resp)\n",
    "    time.sleep(1)\n",
    "    \n",
    "    for json in jsons:\n",
    "        tags = json['tags']\n",
    "        pb_num = json['problemId']\n",
    "        tag_pb[pb_num] = []\n",
    "        for tag in tags:\n",
    "            for displayName in tag['displayNames']:\n",
    "                if displayName['language'] == 'ko' :\n",
    "                    tag_name = tag['displayNames'][0]['name']\n",
    "                    break\n",
    "            tag_pb[pb_num].append(tag_name)\n",
    "            tag_name_to_id[tag_name] = tag['bojTagId']\n",
    "    "
   ]
  },
  {
   "cell_type": "code",
   "execution_count": 8,
   "id": "f8716f9d",
   "metadata": {},
   "outputs": [],
   "source": [
    "st_pb_num = 1000\n",
    "ed_pb_num = 27917\n",
    "num_problem = ed_pb_num - st_pb_num + 1 # 1000 ~ 27917"
   ]
  },
  {
   "cell_type": "markdown",
   "id": "866a0071",
   "metadata": {},
   "source": [
    "# 태그 분석"
   ]
  },
  {
   "cell_type": "code",
   "execution_count": 21,
   "id": "a37ba90b",
   "metadata": {},
   "outputs": [],
   "source": [
    "# 태그-문제 매트릭 생성\n",
    "tag_pb = {}\n",
    "tag_name_to_id = {}\n",
    "num_sample_pbs = num_problem\n",
    "num_slice = 100\n",
    "#rand_pbs = np.random.randint(st_pb_num, ed_pb_num, num_sample_pbs)\n",
    "rand_pbs = list(range(st_pb_num,ed_pb_num+1))"
   ]
  },
  {
   "cell_type": "code",
   "execution_count": 22,
   "id": "240bf009",
   "metadata": {},
   "outputs": [
    {
     "name": "stderr",
     "output_type": "stream",
     "text": [
      " 72%|█████████████████████████████████████████████████████████▍                      | 194/270 [03:58<01:33,  1.23s/it]\n"
     ]
    },
    {
     "ename": "UnboundLocalError",
     "evalue": "local variable 'pb_num' referenced before assignment",
     "output_type": "error",
     "traceback": [
      "\u001b[1;31m---------------------------------------------------------------------------\u001b[0m",
      "\u001b[1;31mUnboundLocalError\u001b[0m                         Traceback (most recent call last)",
      "Cell \u001b[1;32mIn[22], line 3\u001b[0m\n\u001b[0;32m      1\u001b[0m \u001b[38;5;28;01mfor\u001b[39;00m idx \u001b[38;5;129;01min\u001b[39;00m tqdm(\u001b[38;5;28mrange\u001b[39m(\u001b[38;5;241m0\u001b[39m,num_sample_pbs,num_slice)) :\n\u001b[0;32m      2\u001b[0m     rand_pbs_str \u001b[38;5;241m=\u001b[39m \u001b[38;5;124m'\u001b[39m\u001b[38;5;124m,\u001b[39m\u001b[38;5;124m'\u001b[39m\u001b[38;5;241m.\u001b[39mjoin(\u001b[38;5;28mstr\u001b[39m(e) \u001b[38;5;28;01mfor\u001b[39;00m e \u001b[38;5;129;01min\u001b[39;00m rand_pbs[idx:idx\u001b[38;5;241m+\u001b[39mnum_slice])\n\u001b[1;32m----> 3\u001b[0m     \u001b[43madd_to_tag_pb\u001b[49m\u001b[43m(\u001b[49m\u001b[43mrand_pbs_str\u001b[49m\u001b[43m,\u001b[49m\u001b[43m \u001b[49m\u001b[43mtag_pb\u001b[49m\u001b[43m,\u001b[49m\u001b[43m \u001b[49m\u001b[43mtag_name_to_id\u001b[49m\u001b[43m,\u001b[49m\u001b[43m \u001b[49m\u001b[43mnum_problem\u001b[49m\u001b[43m)\u001b[49m    \n",
      "Cell \u001b[1;32mIn[19], line 33\u001b[0m, in \u001b[0;36madd_to_tag_pb\u001b[1;34m(pb_nums, tag_pb, tag_name_to_id, num_problem)\u001b[0m\n\u001b[0;32m     30\u001b[0m resp \u001b[38;5;241m=\u001b[39m requests\u001b[38;5;241m.\u001b[39mget(\u001b[38;5;124mf\u001b[39m\u001b[38;5;124m\"\u001b[39m\u001b[38;5;124mhttps://solved.ac/api/v3/problem/lookup?problemIds=\u001b[39m\u001b[38;5;132;01m{\u001b[39;00mpb_nums\u001b[38;5;132;01m}\u001b[39;00m\u001b[38;5;124m\"\u001b[39m, headers \u001b[38;5;241m=\u001b[39m {\u001b[38;5;124m'\u001b[39m\u001b[38;5;124mContent-Type\u001b[39m\u001b[38;5;124m'\u001b[39m: \u001b[38;5;124m'\u001b[39m\u001b[38;5;124mapplication/json\u001b[39m\u001b[38;5;124m'\u001b[39m})\n\u001b[0;32m     32\u001b[0m \u001b[38;5;28;01mif\u001b[39;00m resp\u001b[38;5;241m.\u001b[39mstatus_code \u001b[38;5;241m!=\u001b[39m \u001b[38;5;241m200\u001b[39m: \n\u001b[1;32m---> 33\u001b[0m     \u001b[38;5;28mprint\u001b[39m(\u001b[38;5;124mf\u001b[39m\u001b[38;5;124m'\u001b[39m\u001b[38;5;132;01m{\u001b[39;00mresp\u001b[38;5;241m.\u001b[39mstatus_code\u001b[38;5;132;01m}\u001b[39;00m\u001b[38;5;124m : \u001b[39m\u001b[38;5;132;01m{\u001b[39;00m\u001b[43mpb_num\u001b[49m\u001b[38;5;132;01m}\u001b[39;00m\u001b[38;5;124m - error!!!\u001b[39m\u001b[38;5;124m'\u001b[39m)\n\u001b[0;32m     34\u001b[0m     \u001b[38;5;28;01mreturn\u001b[39;00m\n\u001b[0;32m     36\u001b[0m jsons \u001b[38;5;241m=\u001b[39m resp\u001b[38;5;241m.\u001b[39mjson()\n",
      "\u001b[1;31mUnboundLocalError\u001b[0m: local variable 'pb_num' referenced before assignment"
     ]
    }
   ],
   "source": [
    "for idx in tqdm(range(0,num_sample_pbs,num_slice)) :\n",
    "    rand_pbs_str = ','.join(str(e) for e in rand_pbs[idx:idx+num_slice])\n",
    "    add_to_tag_pb(rand_pbs_str, tag_pb, tag_name_to_id, num_problem)    "
   ]
  },
  {
   "cell_type": "code",
   "execution_count": 23,
   "id": "a9385170",
   "metadata": {},
   "outputs": [
    {
     "name": "stdout",
     "output_type": "stream",
     "text": [
      "18745\n"
     ]
    }
   ],
   "source": [
    "tags = tag_name_to_id.keys()\n",
    "print(len(tag_pb.keys()))\n",
    "tag_pb_mat = {}\n",
    "for pb in tag_pb.keys():\n",
    "    tag_pb_mat[pb] = {tag:0 for tag in tags}\n",
    "    for tag in tag_pb[pb]:\n",
    "        tag_pb_mat[pb][tag] = 1    "
   ]
  },
  {
   "cell_type": "code",
   "execution_count": 58,
   "id": "090d3c3d",
   "metadata": {},
   "outputs": [],
   "source": [
    "tag_problem_mat = pd.DataFrame(tag_pb_mat)"
   ]
  },
  {
   "cell_type": "code",
   "execution_count": 59,
   "id": "178384f4",
   "metadata": {},
   "outputs": [],
   "source": [
    "tag_problem_mat.to_csv(\"./tag_problem_mat_all.csv\")"
   ]
  },
  {
   "cell_type": "code",
   "execution_count": 13,
   "id": "79877440",
   "metadata": {},
   "outputs": [],
   "source": [
    "## 태그 분석 ##\n",
    "\n",
    "# pd.set_option('display.max_columns', None) # 모든 열 출력\n",
    "# pd.options.display.max_rows = 60 # 행 출력 초기화\n",
    "# pd.options.display.max_columns = 20 # 열 출력 초기화\n",
    "\n",
    "def get_ranking(mat, selected_tags, topk = 4):\n",
    "    tag_corr_ranking = {}\n",
    "    for tag in selected_tags:\n",
    "        tag_corr_ranking[tag]= list(mat[tag].sort_values(ascending=False).index)[1:1+topk]\n",
    "    return tag_corr_ranking\n",
    "\n",
    "selected_tags = ['그리디 알고리즘', '다이나믹 프로그래밍', '브루트포스 알고리즘', '이분 탐색',\n",
    "                '너비 우선 탐색', '깊이 우선 탐색', '데이크스트라', '플로이드–워셜', '비트마스킹', '분리 집합']\n",
    "\n",
    "tag_problem_mat = pd.read_csv(\"./tag_problem_mat_all.csv\", index_col = 0)"
   ]
  },
  {
   "cell_type": "code",
   "execution_count": 14,
   "id": "e14daae5",
   "metadata": {},
   "outputs": [],
   "source": [
    "tag_problem_mat_trans = tag_problem_mat.T\n",
    "tag_problem_mat_trans = tag_problem_mat_trans[selected_tags]\n",
    "tag_problem_mat = tag_problem_mat_trans.T"
   ]
  },
  {
   "cell_type": "code",
   "execution_count": 20,
   "id": "d37e1e3c",
   "metadata": {},
   "outputs": [],
   "source": [
    "pearson = tag_problem_mat_trans.corr()"
   ]
  },
  {
   "cell_type": "code",
   "execution_count": 21,
   "id": "5718c567",
   "metadata": {},
   "outputs": [
    {
     "data": {
      "text/html": [
       "<div>\n",
       "<style scoped>\n",
       "    .dataframe tbody tr th:only-of-type {\n",
       "        vertical-align: middle;\n",
       "    }\n",
       "\n",
       "    .dataframe tbody tr th {\n",
       "        vertical-align: top;\n",
       "    }\n",
       "\n",
       "    .dataframe thead th {\n",
       "        text-align: right;\n",
       "    }\n",
       "</style>\n",
       "<table border=\"1\" class=\"dataframe\">\n",
       "  <thead>\n",
       "    <tr style=\"text-align: right;\">\n",
       "      <th></th>\n",
       "      <th>그리디 알고리즘</th>\n",
       "      <th>다이나믹 프로그래밍</th>\n",
       "      <th>브루트포스 알고리즘</th>\n",
       "      <th>이분 탐색</th>\n",
       "      <th>너비 우선 탐색</th>\n",
       "      <th>깊이 우선 탐색</th>\n",
       "      <th>데이크스트라</th>\n",
       "      <th>플로이드–워셜</th>\n",
       "    </tr>\n",
       "  </thead>\n",
       "  <tbody>\n",
       "    <tr>\n",
       "      <th>그리디 알고리즘</th>\n",
       "      <td>1.000000</td>\n",
       "      <td>0.005948</td>\n",
       "      <td>-0.016486</td>\n",
       "      <td>0.018372</td>\n",
       "      <td>-0.030801</td>\n",
       "      <td>0.011689</td>\n",
       "      <td>-0.018395</td>\n",
       "      <td>-0.015990</td>\n",
       "    </tr>\n",
       "    <tr>\n",
       "      <th>다이나믹 프로그래밍</th>\n",
       "      <td>0.005948</td>\n",
       "      <td>1.000000</td>\n",
       "      <td>-0.047955</td>\n",
       "      <td>0.000979</td>\n",
       "      <td>-0.026054</td>\n",
       "      <td>0.017356</td>\n",
       "      <td>-0.001832</td>\n",
       "      <td>-0.004565</td>\n",
       "    </tr>\n",
       "    <tr>\n",
       "      <th>브루트포스 알고리즘</th>\n",
       "      <td>-0.016486</td>\n",
       "      <td>-0.047955</td>\n",
       "      <td>1.000000</td>\n",
       "      <td>-0.020930</td>\n",
       "      <td>0.003810</td>\n",
       "      <td>0.006724</td>\n",
       "      <td>-0.017410</td>\n",
       "      <td>0.008516</td>\n",
       "    </tr>\n",
       "    <tr>\n",
       "      <th>이분 탐색</th>\n",
       "      <td>0.018372</td>\n",
       "      <td>0.000979</td>\n",
       "      <td>-0.020930</td>\n",
       "      <td>1.000000</td>\n",
       "      <td>-0.005938</td>\n",
       "      <td>-0.013510</td>\n",
       "      <td>0.003888</td>\n",
       "      <td>-0.005533</td>\n",
       "    </tr>\n",
       "    <tr>\n",
       "      <th>너비 우선 탐색</th>\n",
       "      <td>-0.030801</td>\n",
       "      <td>-0.026054</td>\n",
       "      <td>0.003810</td>\n",
       "      <td>-0.005938</td>\n",
       "      <td>1.000000</td>\n",
       "      <td>0.277968</td>\n",
       "      <td>0.049118</td>\n",
       "      <td>0.023449</td>\n",
       "    </tr>\n",
       "    <tr>\n",
       "      <th>깊이 우선 탐색</th>\n",
       "      <td>0.011689</td>\n",
       "      <td>0.017356</td>\n",
       "      <td>0.006724</td>\n",
       "      <td>-0.013510</td>\n",
       "      <td>0.277968</td>\n",
       "      <td>1.000000</td>\n",
       "      <td>-0.007983</td>\n",
       "      <td>0.014747</td>\n",
       "    </tr>\n",
       "    <tr>\n",
       "      <th>데이크스트라</th>\n",
       "      <td>-0.018395</td>\n",
       "      <td>-0.001832</td>\n",
       "      <td>-0.017410</td>\n",
       "      <td>0.003888</td>\n",
       "      <td>0.049118</td>\n",
       "      <td>-0.007983</td>\n",
       "      <td>1.000000</td>\n",
       "      <td>0.075196</td>\n",
       "    </tr>\n",
       "    <tr>\n",
       "      <th>플로이드–워셜</th>\n",
       "      <td>-0.015990</td>\n",
       "      <td>-0.004565</td>\n",
       "      <td>0.008516</td>\n",
       "      <td>-0.005533</td>\n",
       "      <td>0.023449</td>\n",
       "      <td>0.014747</td>\n",
       "      <td>0.075196</td>\n",
       "      <td>1.000000</td>\n",
       "    </tr>\n",
       "  </tbody>\n",
       "</table>\n",
       "</div>"
      ],
      "text/plain": [
       "            그리디 알고리즘  다이나믹 프로그래밍  브루트포스 알고리즘     이분 탐색  너비 우선 탐색  깊이 우선 탐색  \\\n",
       "그리디 알고리즘    1.000000    0.005948   -0.016486  0.018372 -0.030801  0.011689   \n",
       "다이나믹 프로그래밍  0.005948    1.000000   -0.047955  0.000979 -0.026054  0.017356   \n",
       "브루트포스 알고리즘 -0.016486   -0.047955    1.000000 -0.020930  0.003810  0.006724   \n",
       "이분 탐색       0.018372    0.000979   -0.020930  1.000000 -0.005938 -0.013510   \n",
       "너비 우선 탐색   -0.030801   -0.026054    0.003810 -0.005938  1.000000  0.277968   \n",
       "깊이 우선 탐색    0.011689    0.017356    0.006724 -0.013510  0.277968  1.000000   \n",
       "데이크스트라     -0.018395   -0.001832   -0.017410  0.003888  0.049118 -0.007983   \n",
       "플로이드–워셜    -0.015990   -0.004565    0.008516 -0.005533  0.023449  0.014747   \n",
       "\n",
       "              데이크스트라   플로이드–워셜  \n",
       "그리디 알고리즘   -0.018395 -0.015990  \n",
       "다이나믹 프로그래밍 -0.001832 -0.004565  \n",
       "브루트포스 알고리즘 -0.017410  0.008516  \n",
       "이분 탐색       0.003888 -0.005533  \n",
       "너비 우선 탐색    0.049118  0.023449  \n",
       "깊이 우선 탐색   -0.007983  0.014747  \n",
       "데이크스트라      1.000000  0.075196  \n",
       "플로이드–워셜     0.075196  1.000000  "
      ]
     },
     "execution_count": 21,
     "metadata": {},
     "output_type": "execute_result"
    }
   ],
   "source": [
    "pearson"
   ]
  },
  {
   "cell_type": "code",
   "execution_count": 22,
   "id": "2d2d1657",
   "metadata": {},
   "outputs": [
    {
     "data": {
      "text/plain": [
       "{'그리디 알고리즘': ['이분 탐색', '깊이 우선 탐색', '다이나믹 프로그래밍', '플로이드–워셜'],\n",
       " '다이나믹 프로그래밍': ['깊이 우선 탐색', '그리디 알고리즘', '이분 탐색', '데이크스트라'],\n",
       " '브루트포스 알고리즘': ['플로이드–워셜', '깊이 우선 탐색', '너비 우선 탐색', '그리디 알고리즘'],\n",
       " '이분 탐색': ['그리디 알고리즘', '데이크스트라', '다이나믹 프로그래밍', '플로이드–워셜'],\n",
       " '너비 우선 탐색': ['깊이 우선 탐색', '데이크스트라', '플로이드–워셜', '브루트포스 알고리즘'],\n",
       " '깊이 우선 탐색': ['너비 우선 탐색', '다이나믹 프로그래밍', '플로이드–워셜', '그리디 알고리즘'],\n",
       " '데이크스트라': ['플로이드–워셜', '너비 우선 탐색', '이분 탐색', '다이나믹 프로그래밍'],\n",
       " '플로이드–워셜': ['데이크스트라', '너비 우선 탐색', '깊이 우선 탐색', '브루트포스 알고리즘']}"
      ]
     },
     "execution_count": 22,
     "metadata": {},
     "output_type": "execute_result"
    }
   ],
   "source": [
    "get_ranking(pearson, selected_tags)"
   ]
  },
  {
   "cell_type": "code",
   "execution_count": 62,
   "id": "b1c89fea",
   "metadata": {},
   "outputs": [],
   "source": [
    "intersect = tag_problem_mat.dot(tag_problem_mat_trans)\n",
    "#intersect.to_csv(\"./tag_tag_mat.csv\")"
   ]
  },
  {
   "cell_type": "code",
   "execution_count": 63,
   "id": "863b074c",
   "metadata": {},
   "outputs": [
    {
     "data": {
      "text/html": [
       "<div>\n",
       "<style scoped>\n",
       "    .dataframe tbody tr th:only-of-type {\n",
       "        vertical-align: middle;\n",
       "    }\n",
       "\n",
       "    .dataframe tbody tr th {\n",
       "        vertical-align: top;\n",
       "    }\n",
       "\n",
       "    .dataframe thead th {\n",
       "        text-align: right;\n",
       "    }\n",
       "</style>\n",
       "<table border=\"1\" class=\"dataframe\">\n",
       "  <thead>\n",
       "    <tr style=\"text-align: right;\">\n",
       "      <th></th>\n",
       "      <th>그리디 알고리즘</th>\n",
       "      <th>다이나믹 프로그래밍</th>\n",
       "      <th>브루트포스 알고리즘</th>\n",
       "      <th>이분 탐색</th>\n",
       "      <th>너비 우선 탐색</th>\n",
       "      <th>깊이 우선 탐색</th>\n",
       "      <th>데이크스트라</th>\n",
       "      <th>플로이드–워셜</th>\n",
       "      <th>비트마스킹</th>\n",
       "      <th>분리 집합</th>\n",
       "    </tr>\n",
       "  </thead>\n",
       "  <tbody>\n",
       "    <tr>\n",
       "      <th>그리디 알고리즘</th>\n",
       "      <td>1257</td>\n",
       "      <td>144</td>\n",
       "      <td>66</td>\n",
       "      <td>59</td>\n",
       "      <td>9</td>\n",
       "      <td>41</td>\n",
       "      <td>9</td>\n",
       "      <td>1</td>\n",
       "      <td>22</td>\n",
       "      <td>23</td>\n",
       "    </tr>\n",
       "    <tr>\n",
       "      <th>다이나믹 프로그래밍</th>\n",
       "      <td>144</td>\n",
       "      <td>2312</td>\n",
       "      <td>82</td>\n",
       "      <td>76</td>\n",
       "      <td>37</td>\n",
       "      <td>68</td>\n",
       "      <td>38</td>\n",
       "      <td>10</td>\n",
       "      <td>211</td>\n",
       "      <td>16</td>\n",
       "    </tr>\n",
       "    <tr>\n",
       "      <th>브루트포스 알고리즘</th>\n",
       "      <td>66</td>\n",
       "      <td>82</td>\n",
       "      <td>1289</td>\n",
       "      <td>26</td>\n",
       "      <td>43</td>\n",
       "      <td>44</td>\n",
       "      <td>8</td>\n",
       "      <td>9</td>\n",
       "      <td>82</td>\n",
       "      <td>3</td>\n",
       "    </tr>\n",
       "    <tr>\n",
       "      <th>이분 탐색</th>\n",
       "      <td>59</td>\n",
       "      <td>76</td>\n",
       "      <td>26</td>\n",
       "      <td>663</td>\n",
       "      <td>19</td>\n",
       "      <td>9</td>\n",
       "      <td>16</td>\n",
       "      <td>2</td>\n",
       "      <td>10</td>\n",
       "      <td>26</td>\n",
       "    </tr>\n",
       "    <tr>\n",
       "      <th>너비 우선 탐색</th>\n",
       "      <td>9</td>\n",
       "      <td>37</td>\n",
       "      <td>43</td>\n",
       "      <td>19</td>\n",
       "      <td>606</td>\n",
       "      <td>170</td>\n",
       "      <td>40</td>\n",
       "      <td>11</td>\n",
       "      <td>25</td>\n",
       "      <td>16</td>\n",
       "    </tr>\n",
       "    <tr>\n",
       "      <th>깊이 우선 탐색</th>\n",
       "      <td>41</td>\n",
       "      <td>68</td>\n",
       "      <td>44</td>\n",
       "      <td>9</td>\n",
       "      <td>170</td>\n",
       "      <td>480</td>\n",
       "      <td>7</td>\n",
       "      <td>8</td>\n",
       "      <td>8</td>\n",
       "      <td>31</td>\n",
       "    </tr>\n",
       "    <tr>\n",
       "      <th>데이크스트라</th>\n",
       "      <td>9</td>\n",
       "      <td>38</td>\n",
       "      <td>8</td>\n",
       "      <td>16</td>\n",
       "      <td>40</td>\n",
       "      <td>7</td>\n",
       "      <td>348</td>\n",
       "      <td>15</td>\n",
       "      <td>12</td>\n",
       "      <td>5</td>\n",
       "    </tr>\n",
       "    <tr>\n",
       "      <th>플로이드–워셜</th>\n",
       "      <td>1</td>\n",
       "      <td>10</td>\n",
       "      <td>9</td>\n",
       "      <td>2</td>\n",
       "      <td>11</td>\n",
       "      <td>8</td>\n",
       "      <td>15</td>\n",
       "      <td>119</td>\n",
       "      <td>6</td>\n",
       "      <td>1</td>\n",
       "    </tr>\n",
       "    <tr>\n",
       "      <th>비트마스킹</th>\n",
       "      <td>22</td>\n",
       "      <td>211</td>\n",
       "      <td>82</td>\n",
       "      <td>10</td>\n",
       "      <td>25</td>\n",
       "      <td>8</td>\n",
       "      <td>12</td>\n",
       "      <td>6</td>\n",
       "      <td>409</td>\n",
       "      <td>2</td>\n",
       "    </tr>\n",
       "    <tr>\n",
       "      <th>분리 집합</th>\n",
       "      <td>23</td>\n",
       "      <td>16</td>\n",
       "      <td>3</td>\n",
       "      <td>26</td>\n",
       "      <td>16</td>\n",
       "      <td>31</td>\n",
       "      <td>5</td>\n",
       "      <td>1</td>\n",
       "      <td>2</td>\n",
       "      <td>258</td>\n",
       "    </tr>\n",
       "  </tbody>\n",
       "</table>\n",
       "</div>"
      ],
      "text/plain": [
       "            그리디 알고리즘  다이나믹 프로그래밍  브루트포스 알고리즘  이분 탐색  너비 우선 탐색  깊이 우선 탐색  \\\n",
       "그리디 알고리즘        1257         144          66     59         9        41   \n",
       "다이나믹 프로그래밍       144        2312          82     76        37        68   \n",
       "브루트포스 알고리즘        66          82        1289     26        43        44   \n",
       "이분 탐색             59          76          26    663        19         9   \n",
       "너비 우선 탐색           9          37          43     19       606       170   \n",
       "깊이 우선 탐색          41          68          44      9       170       480   \n",
       "데이크스트라             9          38           8     16        40         7   \n",
       "플로이드–워셜            1          10           9      2        11         8   \n",
       "비트마스킹             22         211          82     10        25         8   \n",
       "분리 집합             23          16           3     26        16        31   \n",
       "\n",
       "            데이크스트라  플로이드–워셜  비트마스킹  분리 집합  \n",
       "그리디 알고리즘         9        1     22     23  \n",
       "다이나믹 프로그래밍      38       10    211     16  \n",
       "브루트포스 알고리즘       8        9     82      3  \n",
       "이분 탐색           16        2     10     26  \n",
       "너비 우선 탐색        40       11     25     16  \n",
       "깊이 우선 탐색         7        8      8     31  \n",
       "데이크스트라         348       15     12      5  \n",
       "플로이드–워셜         15      119      6      1  \n",
       "비트마스킹           12        6    409      2  \n",
       "분리 집합            5        1      2    258  "
      ]
     },
     "execution_count": 63,
     "metadata": {},
     "output_type": "execute_result"
    }
   ],
   "source": [
    "intersect"
   ]
  },
  {
   "cell_type": "code",
   "execution_count": 64,
   "id": "771a04c1",
   "metadata": {},
   "outputs": [],
   "source": [
    "Jaccard = {}\n",
    "for in_tag in selected_tags:\n",
    "    Jaccard[in_tag] = {}\n",
    "    for out_tag in selected_tags:\n",
    "        union = intersect[in_tag][in_tag] + intersect[out_tag][out_tag] - intersect[in_tag][out_tag]\n",
    "        Jaccard[in_tag][out_tag] = intersect[in_tag][out_tag] / union"
   ]
  },
  {
   "cell_type": "code",
   "execution_count": 65,
   "id": "dd7b25e7",
   "metadata": {},
   "outputs": [],
   "source": [
    "Jaccard = pd.DataFrame(Jaccard)"
   ]
  },
  {
   "cell_type": "code",
   "execution_count": 66,
   "id": "b5637327",
   "metadata": {},
   "outputs": [
    {
     "data": {
      "text/html": [
       "<div>\n",
       "<style scoped>\n",
       "    .dataframe tbody tr th:only-of-type {\n",
       "        vertical-align: middle;\n",
       "    }\n",
       "\n",
       "    .dataframe tbody tr th {\n",
       "        vertical-align: top;\n",
       "    }\n",
       "\n",
       "    .dataframe thead th {\n",
       "        text-align: right;\n",
       "    }\n",
       "</style>\n",
       "<table border=\"1\" class=\"dataframe\">\n",
       "  <thead>\n",
       "    <tr style=\"text-align: right;\">\n",
       "      <th></th>\n",
       "      <th>그리디 알고리즘</th>\n",
       "      <th>다이나믹 프로그래밍</th>\n",
       "      <th>브루트포스 알고리즘</th>\n",
       "      <th>이분 탐색</th>\n",
       "      <th>너비 우선 탐색</th>\n",
       "      <th>깊이 우선 탐색</th>\n",
       "      <th>데이크스트라</th>\n",
       "      <th>플로이드–워셜</th>\n",
       "      <th>비트마스킹</th>\n",
       "      <th>분리 집합</th>\n",
       "    </tr>\n",
       "  </thead>\n",
       "  <tbody>\n",
       "    <tr>\n",
       "      <th>그리디 알고리즘</th>\n",
       "      <td>1.000000</td>\n",
       "      <td>0.042044</td>\n",
       "      <td>0.026613</td>\n",
       "      <td>0.031703</td>\n",
       "      <td>0.004854</td>\n",
       "      <td>0.024175</td>\n",
       "      <td>0.005639</td>\n",
       "      <td>0.000727</td>\n",
       "      <td>0.013382</td>\n",
       "      <td>0.015416</td>\n",
       "    </tr>\n",
       "    <tr>\n",
       "      <th>다이나믹 프로그래밍</th>\n",
       "      <td>0.042044</td>\n",
       "      <td>1.000000</td>\n",
       "      <td>0.023302</td>\n",
       "      <td>0.026216</td>\n",
       "      <td>0.012843</td>\n",
       "      <td>0.024963</td>\n",
       "      <td>0.014493</td>\n",
       "      <td>0.004131</td>\n",
       "      <td>0.084064</td>\n",
       "      <td>0.006265</td>\n",
       "    </tr>\n",
       "    <tr>\n",
       "      <th>브루트포스 알고리즘</th>\n",
       "      <td>0.026613</td>\n",
       "      <td>0.023302</td>\n",
       "      <td>1.000000</td>\n",
       "      <td>0.013499</td>\n",
       "      <td>0.023218</td>\n",
       "      <td>0.025507</td>\n",
       "      <td>0.004911</td>\n",
       "      <td>0.006433</td>\n",
       "      <td>0.050743</td>\n",
       "      <td>0.001943</td>\n",
       "    </tr>\n",
       "    <tr>\n",
       "      <th>이분 탐색</th>\n",
       "      <td>0.031703</td>\n",
       "      <td>0.026216</td>\n",
       "      <td>0.013499</td>\n",
       "      <td>1.000000</td>\n",
       "      <td>0.015200</td>\n",
       "      <td>0.007937</td>\n",
       "      <td>0.016080</td>\n",
       "      <td>0.002564</td>\n",
       "      <td>0.009416</td>\n",
       "      <td>0.029050</td>\n",
       "    </tr>\n",
       "    <tr>\n",
       "      <th>너비 우선 탐색</th>\n",
       "      <td>0.004854</td>\n",
       "      <td>0.012843</td>\n",
       "      <td>0.023218</td>\n",
       "      <td>0.015200</td>\n",
       "      <td>1.000000</td>\n",
       "      <td>0.185590</td>\n",
       "      <td>0.043764</td>\n",
       "      <td>0.015406</td>\n",
       "      <td>0.025253</td>\n",
       "      <td>0.018868</td>\n",
       "    </tr>\n",
       "    <tr>\n",
       "      <th>깊이 우선 탐색</th>\n",
       "      <td>0.024175</td>\n",
       "      <td>0.024963</td>\n",
       "      <td>0.025507</td>\n",
       "      <td>0.007937</td>\n",
       "      <td>0.185590</td>\n",
       "      <td>1.000000</td>\n",
       "      <td>0.008526</td>\n",
       "      <td>0.013536</td>\n",
       "      <td>0.009081</td>\n",
       "      <td>0.043847</td>\n",
       "    </tr>\n",
       "    <tr>\n",
       "      <th>데이크스트라</th>\n",
       "      <td>0.005639</td>\n",
       "      <td>0.014493</td>\n",
       "      <td>0.004911</td>\n",
       "      <td>0.016080</td>\n",
       "      <td>0.043764</td>\n",
       "      <td>0.008526</td>\n",
       "      <td>1.000000</td>\n",
       "      <td>0.033186</td>\n",
       "      <td>0.016107</td>\n",
       "      <td>0.008319</td>\n",
       "    </tr>\n",
       "    <tr>\n",
       "      <th>플로이드–워셜</th>\n",
       "      <td>0.000727</td>\n",
       "      <td>0.004131</td>\n",
       "      <td>0.006433</td>\n",
       "      <td>0.002564</td>\n",
       "      <td>0.015406</td>\n",
       "      <td>0.013536</td>\n",
       "      <td>0.033186</td>\n",
       "      <td>1.000000</td>\n",
       "      <td>0.011494</td>\n",
       "      <td>0.002660</td>\n",
       "    </tr>\n",
       "    <tr>\n",
       "      <th>비트마스킹</th>\n",
       "      <td>0.013382</td>\n",
       "      <td>0.084064</td>\n",
       "      <td>0.050743</td>\n",
       "      <td>0.009416</td>\n",
       "      <td>0.025253</td>\n",
       "      <td>0.009081</td>\n",
       "      <td>0.016107</td>\n",
       "      <td>0.011494</td>\n",
       "      <td>1.000000</td>\n",
       "      <td>0.003008</td>\n",
       "    </tr>\n",
       "    <tr>\n",
       "      <th>분리 집합</th>\n",
       "      <td>0.015416</td>\n",
       "      <td>0.006265</td>\n",
       "      <td>0.001943</td>\n",
       "      <td>0.029050</td>\n",
       "      <td>0.018868</td>\n",
       "      <td>0.043847</td>\n",
       "      <td>0.008319</td>\n",
       "      <td>0.002660</td>\n",
       "      <td>0.003008</td>\n",
       "      <td>1.000000</td>\n",
       "    </tr>\n",
       "  </tbody>\n",
       "</table>\n",
       "</div>"
      ],
      "text/plain": [
       "            그리디 알고리즘  다이나믹 프로그래밍  브루트포스 알고리즘     이분 탐색  너비 우선 탐색  깊이 우선 탐색  \\\n",
       "그리디 알고리즘    1.000000    0.042044    0.026613  0.031703  0.004854  0.024175   \n",
       "다이나믹 프로그래밍  0.042044    1.000000    0.023302  0.026216  0.012843  0.024963   \n",
       "브루트포스 알고리즘  0.026613    0.023302    1.000000  0.013499  0.023218  0.025507   \n",
       "이분 탐색       0.031703    0.026216    0.013499  1.000000  0.015200  0.007937   \n",
       "너비 우선 탐색    0.004854    0.012843    0.023218  0.015200  1.000000  0.185590   \n",
       "깊이 우선 탐색    0.024175    0.024963    0.025507  0.007937  0.185590  1.000000   \n",
       "데이크스트라      0.005639    0.014493    0.004911  0.016080  0.043764  0.008526   \n",
       "플로이드–워셜     0.000727    0.004131    0.006433  0.002564  0.015406  0.013536   \n",
       "비트마스킹       0.013382    0.084064    0.050743  0.009416  0.025253  0.009081   \n",
       "분리 집합       0.015416    0.006265    0.001943  0.029050  0.018868  0.043847   \n",
       "\n",
       "              데이크스트라   플로이드–워셜     비트마스킹     분리 집합  \n",
       "그리디 알고리즘    0.005639  0.000727  0.013382  0.015416  \n",
       "다이나믹 프로그래밍  0.014493  0.004131  0.084064  0.006265  \n",
       "브루트포스 알고리즘  0.004911  0.006433  0.050743  0.001943  \n",
       "이분 탐색       0.016080  0.002564  0.009416  0.029050  \n",
       "너비 우선 탐색    0.043764  0.015406  0.025253  0.018868  \n",
       "깊이 우선 탐색    0.008526  0.013536  0.009081  0.043847  \n",
       "데이크스트라      1.000000  0.033186  0.016107  0.008319  \n",
       "플로이드–워셜     0.033186  1.000000  0.011494  0.002660  \n",
       "비트마스킹       0.016107  0.011494  1.000000  0.003008  \n",
       "분리 집합       0.008319  0.002660  0.003008  1.000000  "
      ]
     },
     "execution_count": 66,
     "metadata": {},
     "output_type": "execute_result"
    }
   ],
   "source": [
    "Jaccard"
   ]
  },
  {
   "cell_type": "code",
   "execution_count": 104,
   "id": "24b31cbc",
   "metadata": {
    "scrolled": false
   },
   "outputs": [],
   "source": [
    "new_Jaccard = {}\n",
    "for in_tag in selected_tags:\n",
    "    new_Jaccard[in_tag] = {}\n",
    "    for out_tag in selected_tags:\n",
    "        new_Jaccard[in_tag][out_tag] = intersect[in_tag][out_tag] / intersect[in_tag][in_tag]"
   ]
  },
  {
   "cell_type": "code",
   "execution_count": 105,
   "id": "5e73f41a",
   "metadata": {},
   "outputs": [],
   "source": [
    "new_Jaccard = pd.DataFrame(new_Jaccard)"
   ]
  },
  {
   "cell_type": "code",
   "execution_count": 106,
   "id": "6048bf25",
   "metadata": {},
   "outputs": [
    {
     "data": {
      "text/html": [
       "<div>\n",
       "<style scoped>\n",
       "    .dataframe tbody tr th:only-of-type {\n",
       "        vertical-align: middle;\n",
       "    }\n",
       "\n",
       "    .dataframe tbody tr th {\n",
       "        vertical-align: top;\n",
       "    }\n",
       "\n",
       "    .dataframe thead th {\n",
       "        text-align: right;\n",
       "    }\n",
       "</style>\n",
       "<table border=\"1\" class=\"dataframe\">\n",
       "  <thead>\n",
       "    <tr style=\"text-align: right;\">\n",
       "      <th></th>\n",
       "      <th>그리디 알고리즘</th>\n",
       "      <th>다이나믹 프로그래밍</th>\n",
       "      <th>브루트포스 알고리즘</th>\n",
       "      <th>이분 탐색</th>\n",
       "      <th>너비 우선 탐색</th>\n",
       "      <th>깊이 우선 탐색</th>\n",
       "      <th>데이크스트라</th>\n",
       "      <th>플로이드–워셜</th>\n",
       "      <th>비트마스킹</th>\n",
       "      <th>분리 집합</th>\n",
       "    </tr>\n",
       "  </thead>\n",
       "  <tbody>\n",
       "    <tr>\n",
       "      <th>그리디 알고리즘</th>\n",
       "      <td>1.000000</td>\n",
       "      <td>0.114558</td>\n",
       "      <td>0.052506</td>\n",
       "      <td>0.046937</td>\n",
       "      <td>0.007160</td>\n",
       "      <td>0.032617</td>\n",
       "      <td>0.007160</td>\n",
       "      <td>0.000796</td>\n",
       "      <td>0.017502</td>\n",
       "      <td>0.018298</td>\n",
       "    </tr>\n",
       "    <tr>\n",
       "      <th>다이나믹 프로그래밍</th>\n",
       "      <td>0.062284</td>\n",
       "      <td>1.000000</td>\n",
       "      <td>0.035467</td>\n",
       "      <td>0.032872</td>\n",
       "      <td>0.016003</td>\n",
       "      <td>0.029412</td>\n",
       "      <td>0.016436</td>\n",
       "      <td>0.004325</td>\n",
       "      <td>0.091263</td>\n",
       "      <td>0.006920</td>\n",
       "    </tr>\n",
       "    <tr>\n",
       "      <th>브루트포스 알고리즘</th>\n",
       "      <td>0.051202</td>\n",
       "      <td>0.063615</td>\n",
       "      <td>1.000000</td>\n",
       "      <td>0.020171</td>\n",
       "      <td>0.033359</td>\n",
       "      <td>0.034135</td>\n",
       "      <td>0.006206</td>\n",
       "      <td>0.006982</td>\n",
       "      <td>0.063615</td>\n",
       "      <td>0.002327</td>\n",
       "    </tr>\n",
       "    <tr>\n",
       "      <th>이분 탐색</th>\n",
       "      <td>0.088989</td>\n",
       "      <td>0.114630</td>\n",
       "      <td>0.039216</td>\n",
       "      <td>1.000000</td>\n",
       "      <td>0.028658</td>\n",
       "      <td>0.013575</td>\n",
       "      <td>0.024133</td>\n",
       "      <td>0.003017</td>\n",
       "      <td>0.015083</td>\n",
       "      <td>0.039216</td>\n",
       "    </tr>\n",
       "    <tr>\n",
       "      <th>너비 우선 탐색</th>\n",
       "      <td>0.014851</td>\n",
       "      <td>0.061056</td>\n",
       "      <td>0.070957</td>\n",
       "      <td>0.031353</td>\n",
       "      <td>1.000000</td>\n",
       "      <td>0.280528</td>\n",
       "      <td>0.066007</td>\n",
       "      <td>0.018152</td>\n",
       "      <td>0.041254</td>\n",
       "      <td>0.026403</td>\n",
       "    </tr>\n",
       "    <tr>\n",
       "      <th>깊이 우선 탐색</th>\n",
       "      <td>0.085417</td>\n",
       "      <td>0.141667</td>\n",
       "      <td>0.091667</td>\n",
       "      <td>0.018750</td>\n",
       "      <td>0.354167</td>\n",
       "      <td>1.000000</td>\n",
       "      <td>0.014583</td>\n",
       "      <td>0.016667</td>\n",
       "      <td>0.016667</td>\n",
       "      <td>0.064583</td>\n",
       "    </tr>\n",
       "    <tr>\n",
       "      <th>데이크스트라</th>\n",
       "      <td>0.025862</td>\n",
       "      <td>0.109195</td>\n",
       "      <td>0.022989</td>\n",
       "      <td>0.045977</td>\n",
       "      <td>0.114943</td>\n",
       "      <td>0.020115</td>\n",
       "      <td>1.000000</td>\n",
       "      <td>0.043103</td>\n",
       "      <td>0.034483</td>\n",
       "      <td>0.014368</td>\n",
       "    </tr>\n",
       "    <tr>\n",
       "      <th>플로이드–워셜</th>\n",
       "      <td>0.008403</td>\n",
       "      <td>0.084034</td>\n",
       "      <td>0.075630</td>\n",
       "      <td>0.016807</td>\n",
       "      <td>0.092437</td>\n",
       "      <td>0.067227</td>\n",
       "      <td>0.126050</td>\n",
       "      <td>1.000000</td>\n",
       "      <td>0.050420</td>\n",
       "      <td>0.008403</td>\n",
       "    </tr>\n",
       "    <tr>\n",
       "      <th>비트마스킹</th>\n",
       "      <td>0.053790</td>\n",
       "      <td>0.515892</td>\n",
       "      <td>0.200489</td>\n",
       "      <td>0.024450</td>\n",
       "      <td>0.061125</td>\n",
       "      <td>0.019560</td>\n",
       "      <td>0.029340</td>\n",
       "      <td>0.014670</td>\n",
       "      <td>1.000000</td>\n",
       "      <td>0.004890</td>\n",
       "    </tr>\n",
       "    <tr>\n",
       "      <th>분리 집합</th>\n",
       "      <td>0.089147</td>\n",
       "      <td>0.062016</td>\n",
       "      <td>0.011628</td>\n",
       "      <td>0.100775</td>\n",
       "      <td>0.062016</td>\n",
       "      <td>0.120155</td>\n",
       "      <td>0.019380</td>\n",
       "      <td>0.003876</td>\n",
       "      <td>0.007752</td>\n",
       "      <td>1.000000</td>\n",
       "    </tr>\n",
       "  </tbody>\n",
       "</table>\n",
       "</div>"
      ],
      "text/plain": [
       "            그리디 알고리즘  다이나믹 프로그래밍  브루트포스 알고리즘     이분 탐색  너비 우선 탐색  깊이 우선 탐색  \\\n",
       "그리디 알고리즘    1.000000    0.114558    0.052506  0.046937  0.007160  0.032617   \n",
       "다이나믹 프로그래밍  0.062284    1.000000    0.035467  0.032872  0.016003  0.029412   \n",
       "브루트포스 알고리즘  0.051202    0.063615    1.000000  0.020171  0.033359  0.034135   \n",
       "이분 탐색       0.088989    0.114630    0.039216  1.000000  0.028658  0.013575   \n",
       "너비 우선 탐색    0.014851    0.061056    0.070957  0.031353  1.000000  0.280528   \n",
       "깊이 우선 탐색    0.085417    0.141667    0.091667  0.018750  0.354167  1.000000   \n",
       "데이크스트라      0.025862    0.109195    0.022989  0.045977  0.114943  0.020115   \n",
       "플로이드–워셜     0.008403    0.084034    0.075630  0.016807  0.092437  0.067227   \n",
       "비트마스킹       0.053790    0.515892    0.200489  0.024450  0.061125  0.019560   \n",
       "분리 집합       0.089147    0.062016    0.011628  0.100775  0.062016  0.120155   \n",
       "\n",
       "              데이크스트라   플로이드–워셜     비트마스킹     분리 집합  \n",
       "그리디 알고리즘    0.007160  0.000796  0.017502  0.018298  \n",
       "다이나믹 프로그래밍  0.016436  0.004325  0.091263  0.006920  \n",
       "브루트포스 알고리즘  0.006206  0.006982  0.063615  0.002327  \n",
       "이분 탐색       0.024133  0.003017  0.015083  0.039216  \n",
       "너비 우선 탐색    0.066007  0.018152  0.041254  0.026403  \n",
       "깊이 우선 탐색    0.014583  0.016667  0.016667  0.064583  \n",
       "데이크스트라      1.000000  0.043103  0.034483  0.014368  \n",
       "플로이드–워셜     0.126050  1.000000  0.050420  0.008403  \n",
       "비트마스킹       0.029340  0.014670  1.000000  0.004890  \n",
       "분리 집합       0.019380  0.003876  0.007752  1.000000  "
      ]
     },
     "execution_count": 106,
     "metadata": {},
     "output_type": "execute_result"
    }
   ],
   "source": [
    "new_Jaccard.T"
   ]
  },
  {
   "cell_type": "code",
   "execution_count": 97,
   "id": "68262da9",
   "metadata": {},
   "outputs": [],
   "source": [
    "jac = np.array(new_Jaccard)"
   ]
  },
  {
   "cell_type": "code",
   "execution_count": 98,
   "id": "3e644d63",
   "metadata": {},
   "outputs": [],
   "source": [
    "np.fill_diagonal(jac,0)"
   ]
  },
  {
   "cell_type": "code",
   "execution_count": 100,
   "id": "5143045e",
   "metadata": {},
   "outputs": [
    {
     "data": {
      "text/plain": [
       "array([0.11455847, 0.09126298, 0.06361521, 0.11463047, 0.28052805,\n",
       "       0.35416667, 0.11494253, 0.12605042, 0.51589242, 0.12015504])"
      ]
     },
     "execution_count": 100,
     "metadata": {},
     "output_type": "execute_result"
    }
   ],
   "source": [
    "np.max(jac, axis=1)"
   ]
  },
  {
   "cell_type": "code",
   "execution_count": 107,
   "id": "9b21ccf9",
   "metadata": {},
   "outputs": [
    {
     "data": {
      "text/plain": [
       "{'그리디 알고리즘': ['다이나믹 프로그래밍', '브루트포스 알고리즘', '이분 탐색', '깊이 우선 탐색'],\n",
       " '다이나믹 프로그래밍': ['비트마스킹', '그리디 알고리즘', '브루트포스 알고리즘', '이분 탐색'],\n",
       " '브루트포스 알고리즘': ['다이나믹 프로그래밍', '비트마스킹', '그리디 알고리즘', '깊이 우선 탐색'],\n",
       " '이분 탐색': ['다이나믹 프로그래밍', '그리디 알고리즘', '브루트포스 알고리즘', '분리 집합'],\n",
       " '너비 우선 탐색': ['깊이 우선 탐색', '브루트포스 알고리즘', '데이크스트라', '다이나믹 프로그래밍'],\n",
       " '깊이 우선 탐색': ['너비 우선 탐색', '다이나믹 프로그래밍', '브루트포스 알고리즘', '그리디 알고리즘'],\n",
       " '데이크스트라': ['너비 우선 탐색', '다이나믹 프로그래밍', '이분 탐색', '플로이드–워셜'],\n",
       " '플로이드–워셜': ['데이크스트라', '너비 우선 탐색', '다이나믹 프로그래밍', '브루트포스 알고리즘'],\n",
       " '비트마스킹': ['다이나믹 프로그래밍', '브루트포스 알고리즘', '너비 우선 탐색', '그리디 알고리즘'],\n",
       " '분리 집합': ['깊이 우선 탐색', '이분 탐색', '그리디 알고리즘', '다이나믹 프로그래밍']}"
      ]
     },
     "execution_count": 107,
     "metadata": {},
     "output_type": "execute_result"
    }
   ],
   "source": [
    "get_ranking(new_Jaccard, selected_tags)"
   ]
  },
  {
   "cell_type": "markdown",
   "id": "b42b75bd",
   "metadata": {},
   "source": [
    "# 유저-문제 분석"
   ]
  },
  {
   "cell_type": "code",
   "execution_count": 3,
   "id": "7006f56f",
   "metadata": {},
   "outputs": [
    {
     "name": "stderr",
     "output_type": "stream",
     "text": [
      "100%|████████████████████████████████████████████████████████████████████████████████| 220/220 [02:36<00:00,  1.40it/s]\n"
     ]
    }
   ],
   "source": [
    "## 유저 랭킹 페이지에서 선택 ##\n",
    "page_st = 31\n",
    "page_ed = 250\n",
    "\n",
    "user_ids = []\n",
    "\n",
    "for num in tqdm(range(page_st, page_ed+1)):\n",
    "    add_ids(num, user_ids,10)"
   ]
  },
  {
   "cell_type": "code",
   "execution_count": 9,
   "id": "b70336ac",
   "metadata": {},
   "outputs": [
    {
     "name": "stderr",
     "output_type": "stream",
     "text": [
      "10it [00:04,  2.04it/s]"
     ]
    },
    {
     "name": "stdout",
     "output_type": "stream",
     "text": [
      "문제 번호 : 26930\n",
      "문제 번호 : 26931\n",
      "문제 번호 : 26932\n",
      "문제 번호 : 26926\n"
     ]
    },
    {
     "name": "stderr",
     "output_type": "stream",
     "text": [
      "17it [00:08,  2.26it/s]"
     ]
    },
    {
     "name": "stdout",
     "output_type": "stream",
     "text": [
      "문제 번호 : 26939\n",
      "문제 번호 : 26940\n",
      "문제 번호 : 26941\n",
      "문제 번호 : 26943\n"
     ]
    },
    {
     "name": "stderr",
     "output_type": "stream",
     "text": [
      "28it [00:12,  2.28it/s]"
     ]
    },
    {
     "name": "stdout",
     "output_type": "stream",
     "text": [
      "문제 번호 : 26939\n",
      "문제 번호 : 26959\n",
      "문제 번호 : 26960\n",
      "문제 번호 : 26961\n"
     ]
    },
    {
     "name": "stderr",
     "output_type": "stream",
     "text": [
      "30it [00:13,  2.51it/s]"
     ]
    },
    {
     "name": "stdout",
     "output_type": "stream",
     "text": [
      "문제 번호 : 26918\n",
      "문제 번호 : 26919\n",
      "문제 번호 : 26921\n",
      "문제 번호 : 26922\n",
      "문제 번호 : 26924\n",
      "문제 번호 : 26959\n",
      "문제 번호 : 26960\n",
      "문제 번호 : 26961\n",
      "문제 번호 : 26962\n"
     ]
    },
    {
     "name": "stderr",
     "output_type": "stream",
     "text": [
      "46it [00:20,  2.12it/s]"
     ]
    },
    {
     "name": "stdout",
     "output_type": "stream",
     "text": [
      "문제 번호 : 26918\n",
      "문제 번호 : 26919\n",
      "문제 번호 : 26930\n",
      "문제 번호 : 26931\n",
      "문제 번호 : 26959\n",
      "문제 번호 : 26960\n"
     ]
    },
    {
     "name": "stderr",
     "output_type": "stream",
     "text": [
      "65it [00:29,  1.90it/s]"
     ]
    },
    {
     "name": "stdout",
     "output_type": "stream",
     "text": [
      "문제 번호 : 26918\n",
      "문제 번호 : 26959\n"
     ]
    },
    {
     "name": "stderr",
     "output_type": "stream",
     "text": [
      "73it [00:33,  2.01it/s]"
     ]
    },
    {
     "name": "stdout",
     "output_type": "stream",
     "text": [
      "문제 번호 : 26959\n",
      "문제 번호 : 26960\n"
     ]
    },
    {
     "name": "stderr",
     "output_type": "stream",
     "text": [
      "\r",
      "74it [00:34,  2.10it/s]"
     ]
    },
    {
     "name": "stdout",
     "output_type": "stream",
     "text": [
      "문제 번호 : 26918\n",
      "문제 번호 : 26930\n",
      "문제 번호 : 26959\n",
      "문제 번호 : 26960\n"
     ]
    },
    {
     "name": "stderr",
     "output_type": "stream",
     "text": [
      "85it [00:39,  2.42it/s]"
     ]
    },
    {
     "name": "stdout",
     "output_type": "stream",
     "text": [
      "문제 번호 : 26918\n",
      "문제 번호 : 26959\n"
     ]
    },
    {
     "name": "stderr",
     "output_type": "stream",
     "text": [
      "87it [00:40,  2.36it/s]"
     ]
    },
    {
     "name": "stdout",
     "output_type": "stream",
     "text": [
      "문제 번호 : 26959\n",
      "문제 번호 : 26960\n",
      "문제 번호 : 26961\n"
     ]
    },
    {
     "name": "stderr",
     "output_type": "stream",
     "text": [
      "95it [00:43,  2.17it/s]\n"
     ]
    },
    {
     "ename": "KeyboardInterrupt",
     "evalue": "",
     "output_type": "error",
     "traceback": [
      "\u001b[1;31m---------------------------------------------------------------------------\u001b[0m",
      "\u001b[1;31mKeyboardInterrupt\u001b[0m                         Traceback (most recent call last)",
      "Cell \u001b[1;32mIn[9], line 7\u001b[0m\n\u001b[0;32m      4\u001b[0m user_problem_mat_y \u001b[38;5;241m=\u001b[39m np\u001b[38;5;241m.\u001b[39mzeros((\u001b[38;5;28mlen\u001b[39m(user_ids)))\n\u001b[0;32m      6\u001b[0m \u001b[38;5;28;01mfor\u001b[39;00m idx, \u001b[38;5;28mid\u001b[39m \u001b[38;5;129;01min\u001b[39;00m tqdm(\u001b[38;5;28menumerate\u001b[39m(user_ids), position\u001b[38;5;241m=\u001b[39m\u001b[38;5;241m0\u001b[39m):\n\u001b[1;32m----> 7\u001b[0m     \u001b[43madd_to_user_problem_mat\u001b[49m\u001b[43m(\u001b[49m\u001b[43midx\u001b[49m\u001b[43m,\u001b[49m\u001b[43m \u001b[49m\u001b[38;5;28;43mid\u001b[39;49m\u001b[43m,\u001b[49m\u001b[43m \u001b[49m\u001b[43muser_problem_mat\u001b[49m\u001b[43m)\u001b[49m\n\u001b[0;32m      9\u001b[0m end \u001b[38;5;241m=\u001b[39m time\u001b[38;5;241m.\u001b[39mtime()\n\u001b[0;32m     11\u001b[0m \u001b[38;5;28mprint\u001b[39m(\u001b[38;5;124mf\u001b[39m\u001b[38;5;124m\"\u001b[39m\u001b[38;5;132;01m{\u001b[39;00mend\u001b[38;5;250m \u001b[39m\u001b[38;5;241m-\u001b[39m\u001b[38;5;250m \u001b[39mstart\u001b[38;5;132;01m:\u001b[39;00m\u001b[38;5;124m.5f\u001b[39m\u001b[38;5;132;01m}\u001b[39;00m\u001b[38;5;124m sec\u001b[39m\u001b[38;5;124m\"\u001b[39m)\n",
      "Cell \u001b[1;32mIn[2], line 30\u001b[0m, in \u001b[0;36madd_to_user_problem_mat\u001b[1;34m(idx, id, user_problem_mat)\u001b[0m\n\u001b[0;32m     29\u001b[0m \u001b[38;5;28;01mdef\u001b[39;00m \u001b[38;5;21madd_to_user_problem_mat\u001b[39m(idx, \u001b[38;5;28mid\u001b[39m, user_problem_mat : np\u001b[38;5;241m.\u001b[39marray):\n\u001b[1;32m---> 30\u001b[0m     data \u001b[38;5;241m=\u001b[39m \u001b[43mrequests\u001b[49m\u001b[38;5;241;43m.\u001b[39;49m\u001b[43mget\u001b[49m\u001b[43m(\u001b[49m\u001b[38;5;124;43mf\u001b[39;49m\u001b[38;5;124;43m'\u001b[39;49m\u001b[38;5;124;43mhttps://www.acmicpc.net/user/\u001b[39;49m\u001b[38;5;132;43;01m{\u001b[39;49;00m\u001b[38;5;28;43mid\u001b[39;49m\u001b[38;5;132;43;01m}\u001b[39;49;00m\u001b[38;5;124;43m'\u001b[39;49m\u001b[43m,\u001b[49m\u001b[43m \u001b[49m\u001b[43mheaders\u001b[49m\u001b[38;5;241;43m=\u001b[39;49m\u001b[43mheaders\u001b[49m\u001b[43m)\u001b[49m\n\u001b[0;32m     31\u001b[0m     soup \u001b[38;5;241m=\u001b[39m BeautifulSoup(data\u001b[38;5;241m.\u001b[39mtext, \u001b[38;5;124m'\u001b[39m\u001b[38;5;124mhtml.parser\u001b[39m\u001b[38;5;124m'\u001b[39m)\n\u001b[0;32m     32\u001b[0m     trs \u001b[38;5;241m=\u001b[39m soup\u001b[38;5;241m.\u001b[39mselect(\u001b[38;5;124m'\u001b[39m\u001b[38;5;124mdiv.problem-list\u001b[39m\u001b[38;5;124m'\u001b[39m)\n",
      "File \u001b[1;32m~\\anaconda3\\envs\\cotegory\\lib\\site-packages\\requests\\api.py:73\u001b[0m, in \u001b[0;36mget\u001b[1;34m(url, params, **kwargs)\u001b[0m\n\u001b[0;32m     62\u001b[0m \u001b[38;5;28;01mdef\u001b[39;00m \u001b[38;5;21mget\u001b[39m(url, params\u001b[38;5;241m=\u001b[39m\u001b[38;5;28;01mNone\u001b[39;00m, \u001b[38;5;241m*\u001b[39m\u001b[38;5;241m*\u001b[39mkwargs):\n\u001b[0;32m     63\u001b[0m \u001b[38;5;250m    \u001b[39m\u001b[38;5;124mr\u001b[39m\u001b[38;5;124;03m\"\"\"Sends a GET request.\u001b[39;00m\n\u001b[0;32m     64\u001b[0m \n\u001b[0;32m     65\u001b[0m \u001b[38;5;124;03m    :param url: URL for the new :class:`Request` object.\u001b[39;00m\n\u001b[1;32m   (...)\u001b[0m\n\u001b[0;32m     70\u001b[0m \u001b[38;5;124;03m    :rtype: requests.Response\u001b[39;00m\n\u001b[0;32m     71\u001b[0m \u001b[38;5;124;03m    \"\"\"\u001b[39;00m\n\u001b[1;32m---> 73\u001b[0m     \u001b[38;5;28;01mreturn\u001b[39;00m request(\u001b[38;5;124m\"\u001b[39m\u001b[38;5;124mget\u001b[39m\u001b[38;5;124m\"\u001b[39m, url, params\u001b[38;5;241m=\u001b[39mparams, \u001b[38;5;241m*\u001b[39m\u001b[38;5;241m*\u001b[39mkwargs)\n",
      "File \u001b[1;32m~\\anaconda3\\envs\\cotegory\\lib\\site-packages\\requests\\api.py:59\u001b[0m, in \u001b[0;36mrequest\u001b[1;34m(method, url, **kwargs)\u001b[0m\n\u001b[0;32m     55\u001b[0m \u001b[38;5;66;03m# By using the 'with' statement we are sure the session is closed, thus we\u001b[39;00m\n\u001b[0;32m     56\u001b[0m \u001b[38;5;66;03m# avoid leaving sockets open which can trigger a ResourceWarning in some\u001b[39;00m\n\u001b[0;32m     57\u001b[0m \u001b[38;5;66;03m# cases, and look like a memory leak in others.\u001b[39;00m\n\u001b[0;32m     58\u001b[0m \u001b[38;5;28;01mwith\u001b[39;00m sessions\u001b[38;5;241m.\u001b[39mSession() \u001b[38;5;28;01mas\u001b[39;00m session:\n\u001b[1;32m---> 59\u001b[0m     \u001b[38;5;28;01mreturn\u001b[39;00m session\u001b[38;5;241m.\u001b[39mrequest(method\u001b[38;5;241m=\u001b[39mmethod, url\u001b[38;5;241m=\u001b[39murl, \u001b[38;5;241m*\u001b[39m\u001b[38;5;241m*\u001b[39mkwargs)\n",
      "File \u001b[1;32m~\\anaconda3\\envs\\cotegory\\lib\\site-packages\\requests\\sessions.py:587\u001b[0m, in \u001b[0;36mSession.request\u001b[1;34m(self, method, url, params, data, headers, cookies, files, auth, timeout, allow_redirects, proxies, hooks, stream, verify, cert, json)\u001b[0m\n\u001b[0;32m    582\u001b[0m send_kwargs \u001b[38;5;241m=\u001b[39m {\n\u001b[0;32m    583\u001b[0m     \u001b[38;5;124m\"\u001b[39m\u001b[38;5;124mtimeout\u001b[39m\u001b[38;5;124m\"\u001b[39m: timeout,\n\u001b[0;32m    584\u001b[0m     \u001b[38;5;124m\"\u001b[39m\u001b[38;5;124mallow_redirects\u001b[39m\u001b[38;5;124m\"\u001b[39m: allow_redirects,\n\u001b[0;32m    585\u001b[0m }\n\u001b[0;32m    586\u001b[0m send_kwargs\u001b[38;5;241m.\u001b[39mupdate(settings)\n\u001b[1;32m--> 587\u001b[0m resp \u001b[38;5;241m=\u001b[39m \u001b[38;5;28mself\u001b[39m\u001b[38;5;241m.\u001b[39msend(prep, \u001b[38;5;241m*\u001b[39m\u001b[38;5;241m*\u001b[39msend_kwargs)\n\u001b[0;32m    589\u001b[0m \u001b[38;5;28;01mreturn\u001b[39;00m resp\n",
      "File \u001b[1;32m~\\anaconda3\\envs\\cotegory\\lib\\site-packages\\requests\\sessions.py:701\u001b[0m, in \u001b[0;36mSession.send\u001b[1;34m(self, request, **kwargs)\u001b[0m\n\u001b[0;32m    698\u001b[0m start \u001b[38;5;241m=\u001b[39m preferred_clock()\n\u001b[0;32m    700\u001b[0m \u001b[38;5;66;03m# Send the request\u001b[39;00m\n\u001b[1;32m--> 701\u001b[0m r \u001b[38;5;241m=\u001b[39m adapter\u001b[38;5;241m.\u001b[39msend(request, \u001b[38;5;241m*\u001b[39m\u001b[38;5;241m*\u001b[39mkwargs)\n\u001b[0;32m    703\u001b[0m \u001b[38;5;66;03m# Total elapsed time of the request (approximately)\u001b[39;00m\n\u001b[0;32m    704\u001b[0m elapsed \u001b[38;5;241m=\u001b[39m preferred_clock() \u001b[38;5;241m-\u001b[39m start\n",
      "File \u001b[1;32m~\\anaconda3\\envs\\cotegory\\lib\\site-packages\\requests\\adapters.py:489\u001b[0m, in \u001b[0;36mHTTPAdapter.send\u001b[1;34m(self, request, stream, timeout, verify, cert, proxies)\u001b[0m\n\u001b[0;32m    487\u001b[0m \u001b[38;5;28;01mtry\u001b[39;00m:\n\u001b[0;32m    488\u001b[0m     \u001b[38;5;28;01mif\u001b[39;00m \u001b[38;5;129;01mnot\u001b[39;00m chunked:\n\u001b[1;32m--> 489\u001b[0m         resp \u001b[38;5;241m=\u001b[39m \u001b[43mconn\u001b[49m\u001b[38;5;241;43m.\u001b[39;49m\u001b[43murlopen\u001b[49m\u001b[43m(\u001b[49m\n\u001b[0;32m    490\u001b[0m \u001b[43m            \u001b[49m\u001b[43mmethod\u001b[49m\u001b[38;5;241;43m=\u001b[39;49m\u001b[43mrequest\u001b[49m\u001b[38;5;241;43m.\u001b[39;49m\u001b[43mmethod\u001b[49m\u001b[43m,\u001b[49m\n\u001b[0;32m    491\u001b[0m \u001b[43m            \u001b[49m\u001b[43murl\u001b[49m\u001b[38;5;241;43m=\u001b[39;49m\u001b[43murl\u001b[49m\u001b[43m,\u001b[49m\n\u001b[0;32m    492\u001b[0m \u001b[43m            \u001b[49m\u001b[43mbody\u001b[49m\u001b[38;5;241;43m=\u001b[39;49m\u001b[43mrequest\u001b[49m\u001b[38;5;241;43m.\u001b[39;49m\u001b[43mbody\u001b[49m\u001b[43m,\u001b[49m\n\u001b[0;32m    493\u001b[0m \u001b[43m            \u001b[49m\u001b[43mheaders\u001b[49m\u001b[38;5;241;43m=\u001b[39;49m\u001b[43mrequest\u001b[49m\u001b[38;5;241;43m.\u001b[39;49m\u001b[43mheaders\u001b[49m\u001b[43m,\u001b[49m\n\u001b[0;32m    494\u001b[0m \u001b[43m            \u001b[49m\u001b[43mredirect\u001b[49m\u001b[38;5;241;43m=\u001b[39;49m\u001b[38;5;28;43;01mFalse\u001b[39;49;00m\u001b[43m,\u001b[49m\n\u001b[0;32m    495\u001b[0m \u001b[43m            \u001b[49m\u001b[43massert_same_host\u001b[49m\u001b[38;5;241;43m=\u001b[39;49m\u001b[38;5;28;43;01mFalse\u001b[39;49;00m\u001b[43m,\u001b[49m\n\u001b[0;32m    496\u001b[0m \u001b[43m            \u001b[49m\u001b[43mpreload_content\u001b[49m\u001b[38;5;241;43m=\u001b[39;49m\u001b[38;5;28;43;01mFalse\u001b[39;49;00m\u001b[43m,\u001b[49m\n\u001b[0;32m    497\u001b[0m \u001b[43m            \u001b[49m\u001b[43mdecode_content\u001b[49m\u001b[38;5;241;43m=\u001b[39;49m\u001b[38;5;28;43;01mFalse\u001b[39;49;00m\u001b[43m,\u001b[49m\n\u001b[0;32m    498\u001b[0m \u001b[43m            \u001b[49m\u001b[43mretries\u001b[49m\u001b[38;5;241;43m=\u001b[39;49m\u001b[38;5;28;43mself\u001b[39;49m\u001b[38;5;241;43m.\u001b[39;49m\u001b[43mmax_retries\u001b[49m\u001b[43m,\u001b[49m\n\u001b[0;32m    499\u001b[0m \u001b[43m            \u001b[49m\u001b[43mtimeout\u001b[49m\u001b[38;5;241;43m=\u001b[39;49m\u001b[43mtimeout\u001b[49m\u001b[43m,\u001b[49m\n\u001b[0;32m    500\u001b[0m \u001b[43m        \u001b[49m\u001b[43m)\u001b[49m\n\u001b[0;32m    502\u001b[0m     \u001b[38;5;66;03m# Send the request.\u001b[39;00m\n\u001b[0;32m    503\u001b[0m     \u001b[38;5;28;01melse\u001b[39;00m:\n\u001b[0;32m    504\u001b[0m         \u001b[38;5;28;01mif\u001b[39;00m \u001b[38;5;28mhasattr\u001b[39m(conn, \u001b[38;5;124m\"\u001b[39m\u001b[38;5;124mproxy_pool\u001b[39m\u001b[38;5;124m\"\u001b[39m):\n",
      "File \u001b[1;32m~\\anaconda3\\envs\\cotegory\\lib\\site-packages\\urllib3\\connectionpool.py:703\u001b[0m, in \u001b[0;36mHTTPConnectionPool.urlopen\u001b[1;34m(self, method, url, body, headers, retries, redirect, assert_same_host, timeout, pool_timeout, release_conn, chunked, body_pos, **response_kw)\u001b[0m\n\u001b[0;32m    700\u001b[0m     \u001b[38;5;28mself\u001b[39m\u001b[38;5;241m.\u001b[39m_prepare_proxy(conn)\n\u001b[0;32m    702\u001b[0m \u001b[38;5;66;03m# Make the request on the httplib connection object.\u001b[39;00m\n\u001b[1;32m--> 703\u001b[0m httplib_response \u001b[38;5;241m=\u001b[39m \u001b[38;5;28;43mself\u001b[39;49m\u001b[38;5;241;43m.\u001b[39;49m\u001b[43m_make_request\u001b[49m\u001b[43m(\u001b[49m\n\u001b[0;32m    704\u001b[0m \u001b[43m    \u001b[49m\u001b[43mconn\u001b[49m\u001b[43m,\u001b[49m\n\u001b[0;32m    705\u001b[0m \u001b[43m    \u001b[49m\u001b[43mmethod\u001b[49m\u001b[43m,\u001b[49m\n\u001b[0;32m    706\u001b[0m \u001b[43m    \u001b[49m\u001b[43murl\u001b[49m\u001b[43m,\u001b[49m\n\u001b[0;32m    707\u001b[0m \u001b[43m    \u001b[49m\u001b[43mtimeout\u001b[49m\u001b[38;5;241;43m=\u001b[39;49m\u001b[43mtimeout_obj\u001b[49m\u001b[43m,\u001b[49m\n\u001b[0;32m    708\u001b[0m \u001b[43m    \u001b[49m\u001b[43mbody\u001b[49m\u001b[38;5;241;43m=\u001b[39;49m\u001b[43mbody\u001b[49m\u001b[43m,\u001b[49m\n\u001b[0;32m    709\u001b[0m \u001b[43m    \u001b[49m\u001b[43mheaders\u001b[49m\u001b[38;5;241;43m=\u001b[39;49m\u001b[43mheaders\u001b[49m\u001b[43m,\u001b[49m\n\u001b[0;32m    710\u001b[0m \u001b[43m    \u001b[49m\u001b[43mchunked\u001b[49m\u001b[38;5;241;43m=\u001b[39;49m\u001b[43mchunked\u001b[49m\u001b[43m,\u001b[49m\n\u001b[0;32m    711\u001b[0m \u001b[43m\u001b[49m\u001b[43m)\u001b[49m\n\u001b[0;32m    713\u001b[0m \u001b[38;5;66;03m# If we're going to release the connection in ``finally:``, then\u001b[39;00m\n\u001b[0;32m    714\u001b[0m \u001b[38;5;66;03m# the response doesn't need to know about the connection. Otherwise\u001b[39;00m\n\u001b[0;32m    715\u001b[0m \u001b[38;5;66;03m# it will also try to release it and we'll have a double-release\u001b[39;00m\n\u001b[0;32m    716\u001b[0m \u001b[38;5;66;03m# mess.\u001b[39;00m\n\u001b[0;32m    717\u001b[0m response_conn \u001b[38;5;241m=\u001b[39m conn \u001b[38;5;28;01mif\u001b[39;00m \u001b[38;5;129;01mnot\u001b[39;00m release_conn \u001b[38;5;28;01melse\u001b[39;00m \u001b[38;5;28;01mNone\u001b[39;00m\n",
      "File \u001b[1;32m~\\anaconda3\\envs\\cotegory\\lib\\site-packages\\urllib3\\connectionpool.py:398\u001b[0m, in \u001b[0;36mHTTPConnectionPool._make_request\u001b[1;34m(self, conn, method, url, timeout, chunked, **httplib_request_kw)\u001b[0m\n\u001b[0;32m    396\u001b[0m         conn\u001b[38;5;241m.\u001b[39mrequest_chunked(method, url, \u001b[38;5;241m*\u001b[39m\u001b[38;5;241m*\u001b[39mhttplib_request_kw)\n\u001b[0;32m    397\u001b[0m     \u001b[38;5;28;01melse\u001b[39;00m:\n\u001b[1;32m--> 398\u001b[0m         conn\u001b[38;5;241m.\u001b[39mrequest(method, url, \u001b[38;5;241m*\u001b[39m\u001b[38;5;241m*\u001b[39mhttplib_request_kw)\n\u001b[0;32m    400\u001b[0m \u001b[38;5;66;03m# We are swallowing BrokenPipeError (errno.EPIPE) since the server is\u001b[39;00m\n\u001b[0;32m    401\u001b[0m \u001b[38;5;66;03m# legitimately able to close the connection after sending a valid response.\u001b[39;00m\n\u001b[0;32m    402\u001b[0m \u001b[38;5;66;03m# With this behaviour, the received response is still readable.\u001b[39;00m\n\u001b[0;32m    403\u001b[0m \u001b[38;5;28;01mexcept\u001b[39;00m \u001b[38;5;167;01mBrokenPipeError\u001b[39;00m:\n\u001b[0;32m    404\u001b[0m     \u001b[38;5;66;03m# Python 3\u001b[39;00m\n",
      "File \u001b[1;32m~\\anaconda3\\envs\\cotegory\\lib\\site-packages\\urllib3\\connection.py:244\u001b[0m, in \u001b[0;36mHTTPConnection.request\u001b[1;34m(self, method, url, body, headers)\u001b[0m\n\u001b[0;32m    242\u001b[0m \u001b[38;5;28;01mif\u001b[39;00m \u001b[38;5;124m\"\u001b[39m\u001b[38;5;124muser-agent\u001b[39m\u001b[38;5;124m\"\u001b[39m \u001b[38;5;129;01mnot\u001b[39;00m \u001b[38;5;129;01min\u001b[39;00m (six\u001b[38;5;241m.\u001b[39mensure_str(k\u001b[38;5;241m.\u001b[39mlower()) \u001b[38;5;28;01mfor\u001b[39;00m k \u001b[38;5;129;01min\u001b[39;00m headers):\n\u001b[0;32m    243\u001b[0m     headers[\u001b[38;5;124m\"\u001b[39m\u001b[38;5;124mUser-Agent\u001b[39m\u001b[38;5;124m\"\u001b[39m] \u001b[38;5;241m=\u001b[39m _get_default_user_agent()\n\u001b[1;32m--> 244\u001b[0m \u001b[38;5;28;43msuper\u001b[39;49m\u001b[43m(\u001b[49m\u001b[43mHTTPConnection\u001b[49m\u001b[43m,\u001b[49m\u001b[43m \u001b[49m\u001b[38;5;28;43mself\u001b[39;49m\u001b[43m)\u001b[49m\u001b[38;5;241;43m.\u001b[39;49m\u001b[43mrequest\u001b[49m\u001b[43m(\u001b[49m\u001b[43mmethod\u001b[49m\u001b[43m,\u001b[49m\u001b[43m \u001b[49m\u001b[43murl\u001b[49m\u001b[43m,\u001b[49m\u001b[43m \u001b[49m\u001b[43mbody\u001b[49m\u001b[38;5;241;43m=\u001b[39;49m\u001b[43mbody\u001b[49m\u001b[43m,\u001b[49m\u001b[43m \u001b[49m\u001b[43mheaders\u001b[49m\u001b[38;5;241;43m=\u001b[39;49m\u001b[43mheaders\u001b[49m\u001b[43m)\u001b[49m\n",
      "File \u001b[1;32m~\\anaconda3\\envs\\cotegory\\lib\\http\\client.py:1282\u001b[0m, in \u001b[0;36mHTTPConnection.request\u001b[1;34m(self, method, url, body, headers, encode_chunked)\u001b[0m\n\u001b[0;32m   1279\u001b[0m \u001b[38;5;28;01mdef\u001b[39;00m \u001b[38;5;21mrequest\u001b[39m(\u001b[38;5;28mself\u001b[39m, method, url, body\u001b[38;5;241m=\u001b[39m\u001b[38;5;28;01mNone\u001b[39;00m, headers\u001b[38;5;241m=\u001b[39m{}, \u001b[38;5;241m*\u001b[39m,\n\u001b[0;32m   1280\u001b[0m             encode_chunked\u001b[38;5;241m=\u001b[39m\u001b[38;5;28;01mFalse\u001b[39;00m):\n\u001b[0;32m   1281\u001b[0m \u001b[38;5;250m    \u001b[39m\u001b[38;5;124;03m\"\"\"Send a complete request to the server.\"\"\"\u001b[39;00m\n\u001b[1;32m-> 1282\u001b[0m     \u001b[38;5;28;43mself\u001b[39;49m\u001b[38;5;241;43m.\u001b[39;49m\u001b[43m_send_request\u001b[49m\u001b[43m(\u001b[49m\u001b[43mmethod\u001b[49m\u001b[43m,\u001b[49m\u001b[43m \u001b[49m\u001b[43murl\u001b[49m\u001b[43m,\u001b[49m\u001b[43m \u001b[49m\u001b[43mbody\u001b[49m\u001b[43m,\u001b[49m\u001b[43m \u001b[49m\u001b[43mheaders\u001b[49m\u001b[43m,\u001b[49m\u001b[43m \u001b[49m\u001b[43mencode_chunked\u001b[49m\u001b[43m)\u001b[49m\n",
      "File \u001b[1;32m~\\anaconda3\\envs\\cotegory\\lib\\http\\client.py:1328\u001b[0m, in \u001b[0;36mHTTPConnection._send_request\u001b[1;34m(self, method, url, body, headers, encode_chunked)\u001b[0m\n\u001b[0;32m   1324\u001b[0m \u001b[38;5;28;01mif\u001b[39;00m \u001b[38;5;28misinstance\u001b[39m(body, \u001b[38;5;28mstr\u001b[39m):\n\u001b[0;32m   1325\u001b[0m     \u001b[38;5;66;03m# RFC 2616 Section 3.7.1 says that text default has a\u001b[39;00m\n\u001b[0;32m   1326\u001b[0m     \u001b[38;5;66;03m# default charset of iso-8859-1.\u001b[39;00m\n\u001b[0;32m   1327\u001b[0m     body \u001b[38;5;241m=\u001b[39m _encode(body, \u001b[38;5;124m'\u001b[39m\u001b[38;5;124mbody\u001b[39m\u001b[38;5;124m'\u001b[39m)\n\u001b[1;32m-> 1328\u001b[0m \u001b[38;5;28;43mself\u001b[39;49m\u001b[38;5;241;43m.\u001b[39;49m\u001b[43mendheaders\u001b[49m\u001b[43m(\u001b[49m\u001b[43mbody\u001b[49m\u001b[43m,\u001b[49m\u001b[43m \u001b[49m\u001b[43mencode_chunked\u001b[49m\u001b[38;5;241;43m=\u001b[39;49m\u001b[43mencode_chunked\u001b[49m\u001b[43m)\u001b[49m\n",
      "File \u001b[1;32m~\\anaconda3\\envs\\cotegory\\lib\\http\\client.py:1277\u001b[0m, in \u001b[0;36mHTTPConnection.endheaders\u001b[1;34m(self, message_body, encode_chunked)\u001b[0m\n\u001b[0;32m   1275\u001b[0m \u001b[38;5;28;01melse\u001b[39;00m:\n\u001b[0;32m   1276\u001b[0m     \u001b[38;5;28;01mraise\u001b[39;00m CannotSendHeader()\n\u001b[1;32m-> 1277\u001b[0m \u001b[38;5;28;43mself\u001b[39;49m\u001b[38;5;241;43m.\u001b[39;49m\u001b[43m_send_output\u001b[49m\u001b[43m(\u001b[49m\u001b[43mmessage_body\u001b[49m\u001b[43m,\u001b[49m\u001b[43m \u001b[49m\u001b[43mencode_chunked\u001b[49m\u001b[38;5;241;43m=\u001b[39;49m\u001b[43mencode_chunked\u001b[49m\u001b[43m)\u001b[49m\n",
      "File \u001b[1;32m~\\anaconda3\\envs\\cotegory\\lib\\http\\client.py:1037\u001b[0m, in \u001b[0;36mHTTPConnection._send_output\u001b[1;34m(self, message_body, encode_chunked)\u001b[0m\n\u001b[0;32m   1035\u001b[0m msg \u001b[38;5;241m=\u001b[39m \u001b[38;5;124mb\u001b[39m\u001b[38;5;124m\"\u001b[39m\u001b[38;5;130;01m\\r\u001b[39;00m\u001b[38;5;130;01m\\n\u001b[39;00m\u001b[38;5;124m\"\u001b[39m\u001b[38;5;241m.\u001b[39mjoin(\u001b[38;5;28mself\u001b[39m\u001b[38;5;241m.\u001b[39m_buffer)\n\u001b[0;32m   1036\u001b[0m \u001b[38;5;28;01mdel\u001b[39;00m \u001b[38;5;28mself\u001b[39m\u001b[38;5;241m.\u001b[39m_buffer[:]\n\u001b[1;32m-> 1037\u001b[0m \u001b[38;5;28;43mself\u001b[39;49m\u001b[38;5;241;43m.\u001b[39;49m\u001b[43msend\u001b[49m\u001b[43m(\u001b[49m\u001b[43mmsg\u001b[49m\u001b[43m)\u001b[49m\n\u001b[0;32m   1039\u001b[0m \u001b[38;5;28;01mif\u001b[39;00m message_body \u001b[38;5;129;01mis\u001b[39;00m \u001b[38;5;129;01mnot\u001b[39;00m \u001b[38;5;28;01mNone\u001b[39;00m:\n\u001b[0;32m   1040\u001b[0m \n\u001b[0;32m   1041\u001b[0m     \u001b[38;5;66;03m# create a consistent interface to message_body\u001b[39;00m\n\u001b[0;32m   1042\u001b[0m     \u001b[38;5;28;01mif\u001b[39;00m \u001b[38;5;28mhasattr\u001b[39m(message_body, \u001b[38;5;124m'\u001b[39m\u001b[38;5;124mread\u001b[39m\u001b[38;5;124m'\u001b[39m):\n\u001b[0;32m   1043\u001b[0m         \u001b[38;5;66;03m# Let file-like take precedence over byte-like.  This\u001b[39;00m\n\u001b[0;32m   1044\u001b[0m         \u001b[38;5;66;03m# is needed to allow the current position of mmap'ed\u001b[39;00m\n\u001b[0;32m   1045\u001b[0m         \u001b[38;5;66;03m# files to be taken into account.\u001b[39;00m\n",
      "File \u001b[1;32m~\\anaconda3\\envs\\cotegory\\lib\\http\\client.py:998\u001b[0m, in \u001b[0;36mHTTPConnection.send\u001b[1;34m(self, data)\u001b[0m\n\u001b[0;32m    996\u001b[0m sys\u001b[38;5;241m.\u001b[39maudit(\u001b[38;5;124m\"\u001b[39m\u001b[38;5;124mhttp.client.send\u001b[39m\u001b[38;5;124m\"\u001b[39m, \u001b[38;5;28mself\u001b[39m, data)\n\u001b[0;32m    997\u001b[0m \u001b[38;5;28;01mtry\u001b[39;00m:\n\u001b[1;32m--> 998\u001b[0m     \u001b[38;5;28;43mself\u001b[39;49m\u001b[38;5;241;43m.\u001b[39;49m\u001b[43msock\u001b[49m\u001b[38;5;241;43m.\u001b[39;49m\u001b[43msendall\u001b[49m\u001b[43m(\u001b[49m\u001b[43mdata\u001b[49m\u001b[43m)\u001b[49m\n\u001b[0;32m    999\u001b[0m \u001b[38;5;28;01mexcept\u001b[39;00m \u001b[38;5;167;01mTypeError\u001b[39;00m:\n\u001b[0;32m   1000\u001b[0m     \u001b[38;5;28;01mif\u001b[39;00m \u001b[38;5;28misinstance\u001b[39m(data, collections\u001b[38;5;241m.\u001b[39mabc\u001b[38;5;241m.\u001b[39mIterable):\n",
      "File \u001b[1;32m~\\anaconda3\\envs\\cotegory\\lib\\ssl.py:1237\u001b[0m, in \u001b[0;36mSSLSocket.sendall\u001b[1;34m(self, data, flags)\u001b[0m\n\u001b[0;32m   1235\u001b[0m         amount \u001b[38;5;241m=\u001b[39m \u001b[38;5;28mlen\u001b[39m(byte_view)\n\u001b[0;32m   1236\u001b[0m         \u001b[38;5;28;01mwhile\u001b[39;00m count \u001b[38;5;241m<\u001b[39m amount:\n\u001b[1;32m-> 1237\u001b[0m             v \u001b[38;5;241m=\u001b[39m \u001b[38;5;28;43mself\u001b[39;49m\u001b[38;5;241;43m.\u001b[39;49m\u001b[43msend\u001b[49m\u001b[43m(\u001b[49m\u001b[43mbyte_view\u001b[49m\u001b[43m[\u001b[49m\u001b[43mcount\u001b[49m\u001b[43m:\u001b[49m\u001b[43m]\u001b[49m\u001b[43m)\u001b[49m\n\u001b[0;32m   1238\u001b[0m             count \u001b[38;5;241m+\u001b[39m\u001b[38;5;241m=\u001b[39m v\n\u001b[0;32m   1239\u001b[0m \u001b[38;5;28;01melse\u001b[39;00m:\n",
      "File \u001b[1;32m~\\anaconda3\\envs\\cotegory\\lib\\ssl.py:1206\u001b[0m, in \u001b[0;36mSSLSocket.send\u001b[1;34m(self, data, flags)\u001b[0m\n\u001b[0;32m   1202\u001b[0m     \u001b[38;5;28;01mif\u001b[39;00m flags \u001b[38;5;241m!=\u001b[39m \u001b[38;5;241m0\u001b[39m:\n\u001b[0;32m   1203\u001b[0m         \u001b[38;5;28;01mraise\u001b[39;00m \u001b[38;5;167;01mValueError\u001b[39;00m(\n\u001b[0;32m   1204\u001b[0m             \u001b[38;5;124m\"\u001b[39m\u001b[38;5;124mnon-zero flags not allowed in calls to send() on \u001b[39m\u001b[38;5;132;01m%s\u001b[39;00m\u001b[38;5;124m\"\u001b[39m \u001b[38;5;241m%\u001b[39m\n\u001b[0;32m   1205\u001b[0m             \u001b[38;5;28mself\u001b[39m\u001b[38;5;241m.\u001b[39m\u001b[38;5;18m__class__\u001b[39m)\n\u001b[1;32m-> 1206\u001b[0m     \u001b[38;5;28;01mreturn\u001b[39;00m \u001b[38;5;28;43mself\u001b[39;49m\u001b[38;5;241;43m.\u001b[39;49m\u001b[43m_sslobj\u001b[49m\u001b[38;5;241;43m.\u001b[39;49m\u001b[43mwrite\u001b[49m\u001b[43m(\u001b[49m\u001b[43mdata\u001b[49m\u001b[43m)\u001b[49m\n\u001b[0;32m   1207\u001b[0m \u001b[38;5;28;01melse\u001b[39;00m:\n\u001b[0;32m   1208\u001b[0m     \u001b[38;5;28;01mreturn\u001b[39;00m \u001b[38;5;28msuper\u001b[39m()\u001b[38;5;241m.\u001b[39msend(data, flags)\n",
      "\u001b[1;31mKeyboardInterrupt\u001b[0m: "
     ]
    }
   ],
   "source": [
    "start = time.time()\n",
    "\n",
    "user_problem_mat = np.zeros((len(user_ids),num_problem))\n",
    "user_problem_mat_y = np.zeros((len(user_ids)))\n",
    "\n",
    "for idx, id in tqdm(enumerate(user_ids), position=0):\n",
    "    add_to_user_problem_mat(idx, id, user_problem_mat)\n",
    "\n",
    "end = time.time()\n",
    "\n",
    "print(f\"{end - start:.5f} sec\")"
   ]
  },
  {
   "cell_type": "code",
   "execution_count": null,
   "id": "5f77474b",
   "metadata": {},
   "outputs": [],
   "source": [
    "X_train, X_test, _, _ = train_test_split(user_problem_mat, \n",
    "                                            y, \n",
    "                                            test_size=0.3, \n",
    "                                            shuffle=True, \n",
    "                                            random_state=1004)"
   ]
  },
  {
   "cell_type": "code",
   "execution_count": null,
   "id": "1728cfcd",
   "metadata": {},
   "outputs": [],
   "source": [
    "idx_to_id = {}\n",
    "id_to_idx = {}\n",
    "for i, id in enumerate(user_ids):\n",
    "    idx_to_id[i] = id\n",
    "    id_to_idx[id] = i\n",
    "    \n",
    "df_train = pd.DataFrame(train_user_problem_mat)\n",
    "df_train.to_csv(\"./train_user_problem_mat.csv\")\n",
    "#df_rename = df.rename(index=idx_to_id) #행(row) 이름 바꾸기\n",
    "#df_rename.to_csv(\"./test_user_problem_mat.csv\")"
   ]
  },
  {
   "cell_type": "code",
   "execution_count": 111,
   "id": "f24facc8",
   "metadata": {},
   "outputs": [
    {
     "name": "stderr",
     "output_type": "stream",
     "text": [
      "100%|████████████████████████████████████████████████████████████████████████████████████| 4/4 [00:01<00:00,  2.75it/s]\n"
     ]
    }
   ],
   "source": [
    "## 한 그룹 내에서 선택 ##\n",
    "group_num = 302 # 서울시립대학교\n",
    "page_st = 1\n",
    "page_ed = 4\n",
    "\n",
    "user_ids = []\n",
    "\n",
    "for num in tqdm(range(page_st, page_ed+1)):\n",
    "    add_group_ids(group_num,num, user_ids)"
   ]
  },
  {
   "cell_type": "code",
   "execution_count": 116,
   "id": "4fcc42da",
   "metadata": {
    "scrolled": true
   },
   "outputs": [
    {
     "name": "stdout",
     "output_type": "stream",
     "text": [
      "400\n"
     ]
    }
   ],
   "source": [
    "print(len(user_ids))"
   ]
  },
  {
   "cell_type": "code",
   "execution_count": 117,
   "id": "2d1e998e",
   "metadata": {},
   "outputs": [
    {
     "name": "stderr",
     "output_type": "stream",
     "text": [
      "100%|████████████████████████████████████████████████████████████████████████████████| 400/400 [03:36<00:00,  1.85it/s]"
     ]
    },
    {
     "name": "stdout",
     "output_type": "stream",
     "text": [
      "216.28883 sec\n"
     ]
    },
    {
     "name": "stderr",
     "output_type": "stream",
     "text": [
      "\n"
     ]
    }
   ],
   "source": [
    "import math\n",
    "import time\n",
    "\n",
    "start = time.time()\n",
    "\n",
    "user_problem = {}\n",
    "problem_num_set = set([])\n",
    "\n",
    "for id in tqdm(user_ids, position=0):\n",
    "    gen_user_problem_mat(id, user_problem, problem_num_set)\n",
    "\n",
    "end = time.time()\n",
    "\n",
    "print(f\"{end - start:.5f} sec\")"
   ]
  },
  {
   "cell_type": "code",
   "execution_count": 118,
   "id": "a19a2d19",
   "metadata": {},
   "outputs": [],
   "source": [
    "user_problem_mat = {}\n",
    "for user, problems in user_problem.items():\n",
    "    user_problem_mat[user] = {num:0 for num in problem_num_set}\n",
    "    for problem in problems:\n",
    "        user_problem_mat[user][problem] = 1    "
   ]
  },
  {
   "cell_type": "code",
   "execution_count": 119,
   "id": "a8346dc9",
   "metadata": {},
   "outputs": [],
   "source": [
    "df = pd.DataFrame(user_problem_mat).T"
   ]
  },
  {
   "cell_type": "code",
   "execution_count": 120,
   "id": "93562028",
   "metadata": {},
   "outputs": [
    {
     "data": {
      "text/html": [
       "<div>\n",
       "<style scoped>\n",
       "    .dataframe tbody tr th:only-of-type {\n",
       "        vertical-align: middle;\n",
       "    }\n",
       "\n",
       "    .dataframe tbody tr th {\n",
       "        vertical-align: top;\n",
       "    }\n",
       "\n",
       "    .dataframe thead th {\n",
       "        text-align: right;\n",
       "    }\n",
       "</style>\n",
       "<table border=\"1\" class=\"dataframe\">\n",
       "  <thead>\n",
       "    <tr style=\"text-align: right;\">\n",
       "      <th></th>\n",
       "      <th>1000</th>\n",
       "      <th>1001</th>\n",
       "      <th>1002</th>\n",
       "      <th>1003</th>\n",
       "      <th>1004</th>\n",
       "      <th>1005</th>\n",
       "      <th>1006</th>\n",
       "      <th>1007</th>\n",
       "      <th>1008</th>\n",
       "      <th>1009</th>\n",
       "      <th>...</th>\n",
       "      <th>27924</th>\n",
       "      <th>27925</th>\n",
       "      <th>27930</th>\n",
       "      <th>27931</th>\n",
       "      <th>27939</th>\n",
       "      <th>27940</th>\n",
       "      <th>27941</th>\n",
       "      <th>27942</th>\n",
       "      <th>27943</th>\n",
       "      <th>27944</th>\n",
       "    </tr>\n",
       "  </thead>\n",
       "  <tbody>\n",
       "    <tr>\n",
       "      <th>iknoom1107</th>\n",
       "      <td>1</td>\n",
       "      <td>1</td>\n",
       "      <td>1</td>\n",
       "      <td>1</td>\n",
       "      <td>1</td>\n",
       "      <td>1</td>\n",
       "      <td>0</td>\n",
       "      <td>1</td>\n",
       "      <td>1</td>\n",
       "      <td>1</td>\n",
       "      <td>...</td>\n",
       "      <td>0</td>\n",
       "      <td>0</td>\n",
       "      <td>0</td>\n",
       "      <td>0</td>\n",
       "      <td>0</td>\n",
       "      <td>0</td>\n",
       "      <td>0</td>\n",
       "      <td>0</td>\n",
       "      <td>0</td>\n",
       "      <td>0</td>\n",
       "    </tr>\n",
       "    <tr>\n",
       "      <th>young920503</th>\n",
       "      <td>1</td>\n",
       "      <td>1</td>\n",
       "      <td>1</td>\n",
       "      <td>1</td>\n",
       "      <td>1</td>\n",
       "      <td>1</td>\n",
       "      <td>0</td>\n",
       "      <td>0</td>\n",
       "      <td>1</td>\n",
       "      <td>1</td>\n",
       "      <td>...</td>\n",
       "      <td>0</td>\n",
       "      <td>0</td>\n",
       "      <td>0</td>\n",
       "      <td>0</td>\n",
       "      <td>0</td>\n",
       "      <td>0</td>\n",
       "      <td>0</td>\n",
       "      <td>0</td>\n",
       "      <td>0</td>\n",
       "      <td>0</td>\n",
       "    </tr>\n",
       "    <tr>\n",
       "      <th>ljwljw8541</th>\n",
       "      <td>1</td>\n",
       "      <td>1</td>\n",
       "      <td>1</td>\n",
       "      <td>1</td>\n",
       "      <td>1</td>\n",
       "      <td>0</td>\n",
       "      <td>0</td>\n",
       "      <td>0</td>\n",
       "      <td>1</td>\n",
       "      <td>1</td>\n",
       "      <td>...</td>\n",
       "      <td>0</td>\n",
       "      <td>0</td>\n",
       "      <td>1</td>\n",
       "      <td>1</td>\n",
       "      <td>1</td>\n",
       "      <td>0</td>\n",
       "      <td>0</td>\n",
       "      <td>0</td>\n",
       "      <td>0</td>\n",
       "      <td>0</td>\n",
       "    </tr>\n",
       "    <tr>\n",
       "      <th>powergee</th>\n",
       "      <td>1</td>\n",
       "      <td>1</td>\n",
       "      <td>1</td>\n",
       "      <td>1</td>\n",
       "      <td>1</td>\n",
       "      <td>1</td>\n",
       "      <td>1</td>\n",
       "      <td>1</td>\n",
       "      <td>1</td>\n",
       "      <td>1</td>\n",
       "      <td>...</td>\n",
       "      <td>0</td>\n",
       "      <td>0</td>\n",
       "      <td>0</td>\n",
       "      <td>0</td>\n",
       "      <td>0</td>\n",
       "      <td>0</td>\n",
       "      <td>0</td>\n",
       "      <td>0</td>\n",
       "      <td>0</td>\n",
       "      <td>0</td>\n",
       "    </tr>\n",
       "    <tr>\n",
       "      <th>vjerksen</th>\n",
       "      <td>1</td>\n",
       "      <td>1</td>\n",
       "      <td>1</td>\n",
       "      <td>1</td>\n",
       "      <td>0</td>\n",
       "      <td>1</td>\n",
       "      <td>0</td>\n",
       "      <td>0</td>\n",
       "      <td>1</td>\n",
       "      <td>1</td>\n",
       "      <td>...</td>\n",
       "      <td>0</td>\n",
       "      <td>0</td>\n",
       "      <td>0</td>\n",
       "      <td>0</td>\n",
       "      <td>0</td>\n",
       "      <td>0</td>\n",
       "      <td>0</td>\n",
       "      <td>0</td>\n",
       "      <td>0</td>\n",
       "      <td>0</td>\n",
       "    </tr>\n",
       "    <tr>\n",
       "      <th>...</th>\n",
       "      <td>...</td>\n",
       "      <td>...</td>\n",
       "      <td>...</td>\n",
       "      <td>...</td>\n",
       "      <td>...</td>\n",
       "      <td>...</td>\n",
       "      <td>...</td>\n",
       "      <td>...</td>\n",
       "      <td>...</td>\n",
       "      <td>...</td>\n",
       "      <td>...</td>\n",
       "      <td>...</td>\n",
       "      <td>...</td>\n",
       "      <td>...</td>\n",
       "      <td>...</td>\n",
       "      <td>...</td>\n",
       "      <td>...</td>\n",
       "      <td>...</td>\n",
       "      <td>...</td>\n",
       "      <td>...</td>\n",
       "      <td>...</td>\n",
       "    </tr>\n",
       "    <tr>\n",
       "      <th>kriss1607</th>\n",
       "      <td>1</td>\n",
       "      <td>1</td>\n",
       "      <td>0</td>\n",
       "      <td>0</td>\n",
       "      <td>0</td>\n",
       "      <td>0</td>\n",
       "      <td>0</td>\n",
       "      <td>0</td>\n",
       "      <td>1</td>\n",
       "      <td>0</td>\n",
       "      <td>...</td>\n",
       "      <td>0</td>\n",
       "      <td>0</td>\n",
       "      <td>0</td>\n",
       "      <td>0</td>\n",
       "      <td>0</td>\n",
       "      <td>0</td>\n",
       "      <td>0</td>\n",
       "      <td>0</td>\n",
       "      <td>0</td>\n",
       "      <td>0</td>\n",
       "    </tr>\n",
       "    <tr>\n",
       "      <th>mk020408</th>\n",
       "      <td>1</td>\n",
       "      <td>1</td>\n",
       "      <td>0</td>\n",
       "      <td>0</td>\n",
       "      <td>0</td>\n",
       "      <td>0</td>\n",
       "      <td>0</td>\n",
       "      <td>0</td>\n",
       "      <td>1</td>\n",
       "      <td>0</td>\n",
       "      <td>...</td>\n",
       "      <td>0</td>\n",
       "      <td>0</td>\n",
       "      <td>0</td>\n",
       "      <td>0</td>\n",
       "      <td>0</td>\n",
       "      <td>0</td>\n",
       "      <td>0</td>\n",
       "      <td>0</td>\n",
       "      <td>0</td>\n",
       "      <td>0</td>\n",
       "    </tr>\n",
       "    <tr>\n",
       "      <th>leejoon924</th>\n",
       "      <td>0</td>\n",
       "      <td>0</td>\n",
       "      <td>0</td>\n",
       "      <td>1</td>\n",
       "      <td>0</td>\n",
       "      <td>0</td>\n",
       "      <td>0</td>\n",
       "      <td>0</td>\n",
       "      <td>1</td>\n",
       "      <td>0</td>\n",
       "      <td>...</td>\n",
       "      <td>0</td>\n",
       "      <td>0</td>\n",
       "      <td>0</td>\n",
       "      <td>0</td>\n",
       "      <td>0</td>\n",
       "      <td>0</td>\n",
       "      <td>0</td>\n",
       "      <td>0</td>\n",
       "      <td>0</td>\n",
       "      <td>0</td>\n",
       "    </tr>\n",
       "    <tr>\n",
       "      <th>dlatldud11</th>\n",
       "      <td>1</td>\n",
       "      <td>0</td>\n",
       "      <td>0</td>\n",
       "      <td>0</td>\n",
       "      <td>0</td>\n",
       "      <td>0</td>\n",
       "      <td>0</td>\n",
       "      <td>0</td>\n",
       "      <td>0</td>\n",
       "      <td>0</td>\n",
       "      <td>...</td>\n",
       "      <td>0</td>\n",
       "      <td>0</td>\n",
       "      <td>0</td>\n",
       "      <td>0</td>\n",
       "      <td>0</td>\n",
       "      <td>0</td>\n",
       "      <td>0</td>\n",
       "      <td>0</td>\n",
       "      <td>0</td>\n",
       "      <td>0</td>\n",
       "    </tr>\n",
       "    <tr>\n",
       "      <th>bingha</th>\n",
       "      <td>1</td>\n",
       "      <td>0</td>\n",
       "      <td>0</td>\n",
       "      <td>0</td>\n",
       "      <td>0</td>\n",
       "      <td>0</td>\n",
       "      <td>0</td>\n",
       "      <td>0</td>\n",
       "      <td>0</td>\n",
       "      <td>0</td>\n",
       "      <td>...</td>\n",
       "      <td>0</td>\n",
       "      <td>0</td>\n",
       "      <td>0</td>\n",
       "      <td>0</td>\n",
       "      <td>0</td>\n",
       "      <td>0</td>\n",
       "      <td>0</td>\n",
       "      <td>0</td>\n",
       "      <td>0</td>\n",
       "      <td>0</td>\n",
       "    </tr>\n",
       "  </tbody>\n",
       "</table>\n",
       "<p>400 rows × 5808 columns</p>\n",
       "</div>"
      ],
      "text/plain": [
       "             1000   1001   1002   1003   1004   1005   1006   1007   1008   \\\n",
       "iknoom1107       1      1      1      1      1      1      0      1      1   \n",
       "young920503      1      1      1      1      1      1      0      0      1   \n",
       "ljwljw8541       1      1      1      1      1      0      0      0      1   \n",
       "powergee         1      1      1      1      1      1      1      1      1   \n",
       "vjerksen         1      1      1      1      0      1      0      0      1   \n",
       "...            ...    ...    ...    ...    ...    ...    ...    ...    ...   \n",
       "kriss1607        1      1      0      0      0      0      0      0      1   \n",
       "mk020408         1      1      0      0      0      0      0      0      1   \n",
       "leejoon924       0      0      0      1      0      0      0      0      1   \n",
       "dlatldud11       1      0      0      0      0      0      0      0      0   \n",
       "bingha           1      0      0      0      0      0      0      0      0   \n",
       "\n",
       "             1009   ...  27924  27925  27930  27931  27939  27940  27941  \\\n",
       "iknoom1107       1  ...      0      0      0      0      0      0      0   \n",
       "young920503      1  ...      0      0      0      0      0      0      0   \n",
       "ljwljw8541       1  ...      0      0      1      1      1      0      0   \n",
       "powergee         1  ...      0      0      0      0      0      0      0   \n",
       "vjerksen         1  ...      0      0      0      0      0      0      0   \n",
       "...            ...  ...    ...    ...    ...    ...    ...    ...    ...   \n",
       "kriss1607        0  ...      0      0      0      0      0      0      0   \n",
       "mk020408         0  ...      0      0      0      0      0      0      0   \n",
       "leejoon924       0  ...      0      0      0      0      0      0      0   \n",
       "dlatldud11       0  ...      0      0      0      0      0      0      0   \n",
       "bingha           0  ...      0      0      0      0      0      0      0   \n",
       "\n",
       "             27942  27943  27944  \n",
       "iknoom1107       0      0      0  \n",
       "young920503      0      0      0  \n",
       "ljwljw8541       0      0      0  \n",
       "powergee         0      0      0  \n",
       "vjerksen         0      0      0  \n",
       "...            ...    ...    ...  \n",
       "kriss1607        0      0      0  \n",
       "mk020408         0      0      0  \n",
       "leejoon924       0      0      0  \n",
       "dlatldud11       0      0      0  \n",
       "bingha           0      0      0  \n",
       "\n",
       "[400 rows x 5808 columns]"
      ]
     },
     "execution_count": 120,
     "metadata": {},
     "output_type": "execute_result"
    }
   ],
   "source": [
    "df"
   ]
  },
  {
   "cell_type": "code",
   "execution_count": 121,
   "id": "fd3c3a53",
   "metadata": {},
   "outputs": [],
   "source": [
    "df.to_csv(\"./uos_user_problem_mat.csv\")"
   ]
  },
  {
   "cell_type": "markdown",
   "id": "e73ea597",
   "metadata": {},
   "source": [
    "# EASE 사용"
   ]
  },
  {
   "cell_type": "code",
   "execution_count": 52,
   "id": "5a0f79fe",
   "metadata": {},
   "outputs": [],
   "source": [
    "class EASE:\n",
    "    \"\"\"\n",
    "    Embarrassingly Shallow Autoencoders model class\n",
    "    \"\"\"\n",
    "\n",
    "    def __init__(self, lambda_):\n",
    "        self.B = None\n",
    "        self.lambda_ = lambda_\n",
    "\n",
    "    def train(self, interaction_matrix):\n",
    "        \"\"\"\n",
    "        train pass\n",
    "        :param interaction_matrix: interaction_matrix\n",
    "        \"\"\"\n",
    "        G = interaction_matrix.T @ interaction_matrix\n",
    "        diag = list(range(G.shape[0]))\n",
    "        G[diag, diag] += self.lambda_\n",
    "        P = np.linalg.inv(G)\n",
    "\n",
    "        # B = P * (X^T * X − diagMat(γ))\n",
    "        self.B = P / -np.diag(P)\n",
    "        min_dim = min(*self.B.shape)\n",
    "        self.B[range(min_dim), range(min_dim)] = 0\n",
    "\n",
    "    def forward(self, user_row):\n",
    "        \"\"\"\n",
    "        forward pass\n",
    "        \"\"\"\n",
    "        return user_row @ self.B"
   ]
  },
  {
   "cell_type": "markdown",
   "id": "fe2c9e23",
   "metadata": {},
   "source": [
    "### 모델 생성 및 훈련"
   ]
  },
  {
   "cell_type": "code",
   "execution_count": 122,
   "id": "fae4a318",
   "metadata": {},
   "outputs": [],
   "source": [
    "df_read = pd.read_csv(\"./uos_user_problem_mat.csv\", index_col = 0)\n",
    "df = df_read.to_numpy()\n",
    "#print(df.shape)"
   ]
  },
  {
   "cell_type": "code",
   "execution_count": 60,
   "id": "1a47ac63",
   "metadata": {},
   "outputs": [
    {
     "data": {
      "text/plain": [
       "(532, 5828)"
      ]
     },
     "execution_count": 60,
     "metadata": {},
     "output_type": "execute_result"
    }
   ],
   "source": [
    "df.shape"
   ]
  },
  {
   "cell_type": "code",
   "execution_count": 123,
   "id": "702cef9c",
   "metadata": {},
   "outputs": [
    {
     "name": "stdout",
     "output_type": "stream",
     "text": [
      "8.05006 sec\n"
     ]
    }
   ],
   "source": [
    "start = time.time()\n",
    "\n",
    "ease = EASE(300)\n",
    "\n",
    "ease.train(df)\n",
    "\n",
    "end = time.time()\n",
    "\n",
    "print(f\"{end - start:.5f} sec\")\n",
    "# 훈련은 약 5분 걸림 - 유저 10000명 기준 \n",
    "# 훈련은 약 10초 걸림 - 유저 500명 기준 - 시립대 학생들이 푼 문제만 "
   ]
  },
  {
   "cell_type": "code",
   "execution_count": 124,
   "id": "1e9e12b9",
   "metadata": {},
   "outputs": [],
   "source": [
    "# 모델 저장\n",
    "import pickle\n",
    " \n",
    "with open('ease_model_uos.p', 'wb') as file:    # james.p 파일을 바이너리 쓰기 모드(wb)로 열기\n",
    "    pickle.dump(ease, file)"
   ]
  },
  {
   "cell_type": "markdown",
   "id": "a972668e",
   "metadata": {},
   "source": [
    "### 훈련시킨 아이디로 추천"
   ]
  },
  {
   "cell_type": "code",
   "execution_count": 68,
   "id": "4fa75b58",
   "metadata": {},
   "outputs": [],
   "source": [
    "idx_to_id = {}\n",
    "id_to_idx = {}\n",
    "for i, id in enumerate(df_read.index):\n",
    "    idx_to_id[i] = id\n",
    "    id_to_idx[id] = i"
   ]
  },
  {
   "cell_type": "code",
   "execution_count": 11,
   "id": "406bee19",
   "metadata": {},
   "outputs": [
    {
     "name": "stdout",
     "output_type": "stream",
     "text": [
      "[[ 1.04017955e+00  9.97626148e-01  1.01357094e+00 ...  3.44923556e-02\n",
      "   3.49866983e-03 -5.23926379e-05]\n",
      " [ 1.01228131e+00  1.00876343e+00  9.77332439e-01 ...  1.38098141e-02\n",
      "   8.32595045e-03  1.23995332e-02]\n",
      " [ 9.79785649e-01  9.97914205e-01  9.55551055e-01 ...  9.03417532e-01\n",
      "   6.63374989e-03  3.03518542e-03]\n",
      " ...\n",
      " [ 1.01846681e+00  9.70463235e-01  4.20757764e-01 ... -6.41471502e-03\n",
      "   1.93701038e-03  2.79663353e-03]\n",
      " [ 9.68699558e-01  1.03056757e+00  1.63787031e-01 ... -4.05621789e-03\n",
      "   4.00295621e-03 -5.32716638e-04]\n",
      " [ 8.73316432e-01  9.29951586e-01  5.66061048e-01 ... -1.11989367e-02\n",
      "   4.44420949e-04 -3.83457975e-04]]\n"
     ]
    }
   ],
   "source": [
    "result = ease.forward(df[:, :])\n",
    "\n",
    "result[df.nonzero()] = -np.inf\n",
    "\n",
    "NUM_TOP_PROBLEMS = 10\n",
    "top_problems_by_user = bn.argpartition(-result, NUM_TOP_PROBLEMS, axis=1)[:, :NUM_TOP_PROBLEMS] # 값이 큰 10개 문제 고름\n",
    "#print(top_problems_by_user)\n",
    "\n",
    "user_result = []\n",
    "problem_result =[]\n",
    "\n",
    "for id, top_k in enumerate(top_problems_by_user):\n",
    "    user_result.extend([id] * NUM_TOP_PROBLEMS)\n",
    "    problem_result.extend(top_k)\n",
    "\n",
    "df_user_result = pd.DataFrame(user_result, columns=['user_id'])\n",
    "df_problem_result = pd.DataFrame(problem_result, columns=['problem_id'])\n",
    "df_result = pd.concat([df_user_result, df_problem_result], axis=1)\n",
    "\n",
    "for key, value in idx_to_id.items():\n",
    "    df_result.loc[df_result['user_id'] == key, 'user_id'] = value\n",
    "\n",
    "df_infer = df_result.sort_values('user_id')\n",
    "#print(df_infer)"
   ]
  },
  {
   "cell_type": "code",
   "execution_count": null,
   "id": "46afddcc",
   "metadata": {},
   "outputs": [],
   "source": [
    "user_id = 'zzzzll'\n",
    "df_infer.loc[df_infer['user_id'] == user_id,\"problem_id\"]"
   ]
  },
  {
   "cell_type": "markdown",
   "id": "a0739e7c",
   "metadata": {},
   "source": [
    "### 아무 아이디로 추천"
   ]
  },
  {
   "cell_type": "code",
   "execution_count": 125,
   "id": "926c068b",
   "metadata": {},
   "outputs": [],
   "source": [
    "# 모델 불러오기\n",
    "df = pd.read_csv(\"./uos_user_problem_mat.csv\", index_col = 0)\n",
    "\n",
    "#ids = df_read.index\n",
    "problems = set(df_read.columns)\n",
    "\n",
    "problem_idx_to_num = {}\n",
    "problem_num_to_idx = {}\n",
    "for i, num in enumerate(problem_num_set):\n",
    "    problem_idx_to_num[i] = num\n",
    "    problem_num_to_idx[num] = i\n",
    "\n",
    "with open('ease_model_uos.p', 'rb') as file:\n",
    "    ease = pickle.load(file)"
   ]
  },
  {
   "cell_type": "code",
   "execution_count": 126,
   "id": "e604890a",
   "metadata": {},
   "outputs": [],
   "source": [
    "NUM_TOP_PROBLEMS = 10\n",
    "user_id = 'sem1308'"
   ]
  },
  {
   "cell_type": "code",
   "execution_count": 127,
   "id": "8d4d0647",
   "metadata": {},
   "outputs": [],
   "source": [
    "#user_problem = np.zeros([1,num_problem])\n",
    "#add_to_user_problem_mat(0,user_id,user_problem)\n",
    "\n",
    "user_problem = {}\n",
    "gen_user_problem_mat(user_id, user_problem, set([]))\n",
    "\n",
    "user_problem_mat = np.zeros((1,len(problems)))\n",
    "\n",
    "for problem in user_problem[user_id]:\n",
    "    user_problem_mat[0][problem_num_to_idx[problem]] = 1    \n",
    "\n",
    "result = ease.forward(user_problem_mat)"
   ]
  },
  {
   "cell_type": "code",
   "execution_count": 129,
   "id": "cdfd8698",
   "metadata": {},
   "outputs": [
    {
     "name": "stdout",
     "output_type": "stream",
     "text": [
      "[[10430 10718 10998 10818  2741 10172  1008  2178  1931 10952]]\n"
     ]
    }
   ],
   "source": [
    "# 유저가 푼 문제와 비슷한 유형 추천 - 현재\n",
    "result[user_problem_mat.nonzero()] = -np.inf\n",
    "top_problems_by_user = bn.argpartition(-result, NUM_TOP_PROBLEMS, axis=1)[:, :NUM_TOP_PROBLEMS] # 값이 큰 10개 문제 고름\n",
    "\n",
    "for i, problem in enumerate(top_problems_by_user[0]):\n",
    "    top_problems_by_user[0][i] = problem_idx_to_num[problem]\n",
    "\n",
    "print(top_problems_by_user)"
   ]
  },
  {
   "cell_type": "code",
   "execution_count": null,
   "id": "72f07923",
   "metadata": {},
   "outputs": [],
   "source": [
    "# 유저가 푼 문제와 비슷한 유형 추천 - 예전\n",
    "result[user_problem.nonzero()] = -np.inf\n",
    "top_problems_by_user = bn.argpartition(-result, NUM_TOP_PROBLEMS, axis=1)[:, :NUM_TOP_PROBLEMS] # 값이 큰 10개 문제 고름\n",
    "top_problems_by_user += 1000\n",
    "print(top_problems_by_user)"
   ]
  },
  {
   "cell_type": "code",
   "execution_count": null,
   "id": "7faf1c4d",
   "metadata": {},
   "outputs": [],
   "source": [
    "# 태그로 추천\n",
    "\n",
    "selected_tags = ['그리디 알고리즘', '다이나믹 프로그래밍', '브루트포스 알고리즘', '이분 탐색',\n",
    "                '너비 우선 탐색', '깊이 우선 탐색', '데이크스트라', '플로이드–워셜', '비트마스킹', '분리 집합']\n",
    "\n",
    "tag_problem_mat = pd.read_csv(\"./tag_problem_mat_all.csv\", index_col = 0)\n",
    "tag_problem_mat_trans = tag_problem_mat.T\n",
    "tag_problem_mat_trans = tag_problem_mat_trans[selected_tags]\n",
    "tag_problem_mat = tag_problem_mat_trans.T"
   ]
  },
  {
   "cell_type": "code",
   "execution_count": 82,
   "id": "7841cdda",
   "metadata": {},
   "outputs": [],
   "source": [
    "tag_name = '그리디 알고리즘'\n",
    "selected_probs_by_tag = []\n",
    "for tag_pro_row in tag_problem_mat:\n",
    "    if tag_problem_mat[tag_pro_row][tag_name]:\n",
    "        selected_probs_by_tag.append(int(tag_pro_row)-1000)"
   ]
  },
  {
   "cell_type": "code",
   "execution_count": 100,
   "id": "251effbc",
   "metadata": {},
   "outputs": [],
   "source": [
    "idx_to_num = dict(zip(range(len(selected_probs_by_tag)),selected_probs_by_tag))"
   ]
  },
  {
   "cell_type": "code",
   "execution_count": 120,
   "id": "6cd57ad8",
   "metadata": {},
   "outputs": [],
   "source": [
    "result[user_problem.nonzero()] = -np.inf\n",
    "result = np.expand_dims(result[0][selected_probs_by_tag],axis=0)\n",
    "top_idx_by_user = bn.argpartition(-result, NUM_TOP_PROBLEMS, axis=1)[:, :NUM_TOP_PROBLEMS][0] # 값이 큰 10개 문제 고름\n",
    "top_problems_by_user = np.array([idx_to_num[idx] for idx in top_idx_by_user])\n",
    "top_problems_by_user += 1000"
   ]
  },
  {
   "cell_type": "code",
   "execution_count": 121,
   "id": "633ad36a",
   "metadata": {},
   "outputs": [
    {
     "data": {
      "text/plain": [
       "array([ 1080,  1439, 11399,  1931,  2212,  2839,  1105,  1339,  1082,\n",
       "       10775])"
      ]
     },
     "execution_count": 121,
     "metadata": {},
     "output_type": "execute_result"
    }
   ],
   "source": [
    "top_problems_by_user"
   ]
  },
  {
   "cell_type": "code",
   "execution_count": 113,
   "id": "ae4d8a07",
   "metadata": {},
   "outputs": [],
   "source": [
    "top_problems_by_user += 1000"
   ]
  },
  {
   "cell_type": "code",
   "execution_count": 83,
   "id": "c9fa72ad",
   "metadata": {},
   "outputs": [
    {
     "data": {
      "text/plain": [
       "[array([       -inf,        -inf,        -inf, ..., -0.00350231,\n",
       "        -0.00335413, -0.00162263])]"
      ]
     },
     "execution_count": 83,
     "metadata": {},
     "output_type": "execute_result"
    }
   ],
   "source": [
    "result[user_problem.nonzero()] = -np.inf\n",
    "sorted(result)"
   ]
  },
  {
   "cell_type": "code",
   "execution_count": 12,
   "id": "feab7679",
   "metadata": {},
   "outputs": [
    {
     "data": {
      "text/plain": [
       "(1, 26918)"
      ]
     },
     "execution_count": 12,
     "metadata": {},
     "output_type": "execute_result"
    }
   ],
   "source": [
    "result.shape"
   ]
  },
  {
   "cell_type": "code",
   "execution_count": 60,
   "id": "59775261",
   "metadata": {},
   "outputs": [
    {
     "name": "stdout",
     "output_type": "stream",
     "text": [
      "[[ 2331 11931 10699 10819  2003 12851 10867 11051 12837  1735]]\n"
     ]
    }
   ],
   "source": [
    "# 유저가 잘 풀지 않은 유형의 문제 추천 - 이건 비교적 부정확한 듯?\n",
    "result[user_problem.nonzero()] = np.inf\n",
    "top_problems_by_user_reverse = bn.argpartition(result, NUM_TOP_PROBLEMS, axis=1)[:, :NUM_TOP_PROBLEMS]\n",
    "top_problems_by_user_reverse += 1000\n",
    "print(top_problems_by_user_reverse)"
   ]
  }
 ],
 "metadata": {
  "kernelspec": {
   "display_name": "Python 3 (ipykernel)",
   "language": "python",
   "name": "python3"
  },
  "language_info": {
   "codemirror_mode": {
    "name": "ipython",
    "version": 3
   },
   "file_extension": ".py",
   "mimetype": "text/x-python",
   "name": "python",
   "nbconvert_exporter": "python",
   "pygments_lexer": "ipython3",
   "version": "3.10.10"
  }
 },
 "nbformat": 4,
 "nbformat_minor": 5
}
